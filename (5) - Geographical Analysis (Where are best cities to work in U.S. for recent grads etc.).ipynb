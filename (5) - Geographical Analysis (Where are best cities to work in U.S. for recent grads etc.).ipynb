{
 "cells": [
  {
   "cell_type": "markdown",
   "metadata": {},
   "source": [
    "## Import Essential Libraries and Load in Data"
   ]
  },
  {
   "cell_type": "code",
   "execution_count": 1,
   "metadata": {},
   "outputs": [],
   "source": [
    "import pandas as pd\n",
    "import numpy as np\n",
    "import matplotlib.pyplot as plt\n",
    "import seaborn as sns\n",
    "%matplotlib inline"
   ]
  },
  {
   "cell_type": "code",
   "execution_count": 2,
   "metadata": {},
   "outputs": [],
   "source": [
    "df = pd.read_csv('E:\\josh_data_science\\Vassar Datafest 2018\\Dataset_and_FeatureDictionary\\indeed_cleaned.csv', encoding='cp1252')"
   ]
  },
  {
   "cell_type": "code",
   "execution_count": 3,
   "metadata": {},
   "outputs": [],
   "source": [
    "# Zillow Median Monthly Rent Data by city from 2010 to January 2017\n",
    "rent_df =\\\n",
    "pd.read_csv('E:\\josh_data_science\\Vassar Datafest 2018\\Dataset_and_FeatureDictionary\\Zillow Rent Price Data 2010-2017\\price.csv')"
   ]
  },
  {
   "cell_type": "code",
   "execution_count": 4,
   "metadata": {},
   "outputs": [],
   "source": [
    "# Remove unnecessary column\n",
    "del df['Unnamed: 0']"
   ]
  },
  {
   "cell_type": "code",
   "execution_count": 5,
   "metadata": {},
   "outputs": [],
   "source": [
    "df_us = df.copy()[df.copy().country=='US']"
   ]
  },
  {
   "cell_type": "markdown",
   "metadata": {},
   "source": [
    "## Where are Best Cites to Work for recent grads in the U.S.?"
   ]
  },
  {
   "cell_type": "markdown",
   "metadata": {},
   "source": [
    "Good places to work for recent graduates include the following conditions:\n",
    "- Available job numbers for recent graduates (experienceRequired < 3) are plentiful\n",
    "- Median Salary normalized by cost of rent is high\n",
    "- Median avgOverallRating is high\n",
    "- Has considerable median salary Increase if you have a college degree(higher education) than just with a high school degree"
   ]
  },
  {
   "cell_type": "code",
   "execution_count": 6,
   "metadata": {},
   "outputs": [],
   "source": [
    "# Dropping all data with non-geographical info\n",
    "df_us = df_us.copy()[~df_us.copy().city.isin(['Field', 'Home', 'Remote', 'UNKNOWN'])]"
   ]
  },
  {
   "cell_type": "markdown",
   "metadata": {},
   "source": [
    "###### Available job posting numbers for recent graduates (experienceRequired < 3)"
   ]
  },
  {
   "cell_type": "code",
   "execution_count": 7,
   "metadata": {
    "scrolled": true
   },
   "outputs": [],
   "source": [
    "# Available job posting numbers for recent graduates (experienceRequired < 3) per city\n",
    "df_us_job_num_count = df_us.copy()[df_us.copy().experienceRequired < 3].\\\n",
    "groupby(['stateProvince','city']).count().reset_index()[['stateProvince','city','date']]\n",
    "\n",
    "df_us_job_num_count = df_us_job_num_count.rename(columns={'date':'avail_job_num'})"
   ]
  },
  {
   "cell_type": "markdown",
   "metadata": {},
   "source": [
    "###### Median avgOverallRating"
   ]
  },
  {
   "cell_type": "code",
   "execution_count": 8,
   "metadata": {
    "scrolled": true
   },
   "outputs": [],
   "source": [
    "# Median of Average Overall Rating of companies per city\n",
    "df_us_avgRating_median = \\\n",
    "df_us.copy()[df_us.copy().avgOverallRating!=0.0].groupby(['stateProvince','city']).avgOverallRating.median().reset_index()\n",
    "df_us_avgRating_median = df_us_avgRating_median.rename(columns={'avgOverallRating':'avgOverallRating_median'})"
   ]
  },
  {
   "cell_type": "markdown",
   "metadata": {},
   "source": [
    "###### Difference of Median Salary between job postings requiring college degree(higher education) and job postings that just require high school education"
   ]
  },
  {
   "cell_type": "code",
   "execution_count": 22,
   "metadata": {
    "scrolled": true
   },
   "outputs": [],
   "source": [
    "# Difference of Median Salary between Higher Education requiring jobs and high school education requiring jobs per city\n",
    "\n",
    "df_us_median_salary_diff = pd.concat(\n",
    "    [df_us.copy()[df_us.copy().educationRequirements.isin(['High School','Higher Education'])].\\\n",
    "             groupby(['stateProvince','city','educationRequirements']).estimatedSalary.median().reset_index(),\n",
    "     df_us.copy()[df_us.copy().educationRequirements.isin(['High School','Higher Education'])].\\\n",
    "             groupby(['stateProvince','city','educationRequirements']).estimatedSalary.median().reset_index().\\\n",
    "    groupby(['stateProvince','city']).diff()], axis=1)"
   ]
  },
  {
   "cell_type": "code",
   "execution_count": 23,
   "metadata": {},
   "outputs": [],
   "source": [
    "salary_med_diff = df_us_median_salary_diff.iloc[:,[-1]]\n",
    "salary_med_diff = salary_med_diff.rename(columns={'estimatedSalary':'salary_med_diff'})"
   ]
  },
  {
   "cell_type": "code",
   "execution_count": 30,
   "metadata": {},
   "outputs": [],
   "source": [
    "df_us_median_salary_diff =\\\n",
    "pd.concat([df_us_median_salary_diff.iloc[:,:2],salary_med_diff], axis=1).groupby(['stateProvince','city']).last().reset_index()"
   ]
  },
  {
   "cell_type": "markdown",
   "metadata": {},
   "source": [
    "###### Median Salary normalized by cost of rent"
   ]
  },
  {
   "cell_type": "code",
   "execution_count": 12,
   "metadata": {},
   "outputs": [],
   "source": [
    "rent_df_2017 = rent_df.copy().loc[:,['State','City','County','January 2017']]"
   ]
  },
  {
   "cell_type": "code",
   "execution_count": 13,
   "metadata": {},
   "outputs": [],
   "source": [
    "rent_df_2017 = rent_df_2017.groupby(['State','City'])['January 2017'].mean().to_frame().reset_index()"
   ]
  },
  {
   "cell_type": "code",
   "execution_count": 14,
   "metadata": {},
   "outputs": [],
   "source": [
    "df_us_rent = df_us.copy()[df_us.copy().city.isin(list(set(df_us.city.tolist()).intersection(set(rent_df_2017.City.tolist()))))]"
   ]
  },
  {
   "cell_type": "code",
   "execution_count": 15,
   "metadata": {},
   "outputs": [],
   "source": [
    "rent_df_2017.columns = ['stateProvince','city','rent']"
   ]
  },
  {
   "cell_type": "code",
   "execution_count": 16,
   "metadata": {
    "scrolled": true
   },
   "outputs": [],
   "source": [
    "df_us_rent_salary_med = df_us_rent.groupby(['stateProvince','city']).estimatedSalary.median().to_frame().reset_index()\n",
    "df_us_rent_salary_med = df_us_rent_salary_med.merge(rent_df_2017,on=['stateProvince','city'],how='left')"
   ]
  },
  {
   "cell_type": "code",
   "execution_count": 33,
   "metadata": {},
   "outputs": [],
   "source": [
    "df_us_rent_salary_med['salary_normalized'] = df_us_rent_salary_med.estimatedSalary / df_us_rent_salary_med.rent"
   ]
  },
  {
   "cell_type": "code",
   "execution_count": 35,
   "metadata": {},
   "outputs": [],
   "source": [
    "df_us_rent_salary_med_normalized = df_us_rent_salary_med.loc[:,['stateProvince','city','salary_normalized']]"
   ]
  },
  {
   "cell_type": "markdown",
   "metadata": {},
   "source": [
    "###### Combining all of them into one dataframe for Tableau visualization"
   ]
  },
  {
   "cell_type": "code",
   "execution_count": 38,
   "metadata": {
    "scrolled": true
   },
   "outputs": [],
   "source": [
    "us_city_data = \\\n",
    "df_us_job_num_count.merge(df_us_avgRating_median, on=['stateProvince','city'],how='outer').\\\n",
    "merge(df_us_median_salary_diff,on=['stateProvince','city'],how='outer').\\\n",
    "merge(df_us_rent_salary_med_normalized,on=['stateProvince','city'],how='outer')"
   ]
  },
  {
   "cell_type": "code",
   "execution_count": 46,
   "metadata": {},
   "outputs": [],
   "source": [
    "# Data that has all information filled in (not even single missing value for any of the columns)\n",
    "\n",
    "us_city_data_non_null = us_city_data.dropna(how='any').reset_index()"
   ]
  },
  {
   "cell_type": "code",
   "execution_count": 48,
   "metadata": {
    "scrolled": true
   },
   "outputs": [],
   "source": [
    "## Saving File to local E-Drive for Tableau use\n",
    "# us_city_data_non_null.to_csv('E:/josh_data_science/Vassar Datafest 2018/Dataset_and_FeatureDictionary/best_us_cities_to_work.csv')"
   ]
  },
  {
   "cell_type": "markdown",
   "metadata": {},
   "source": [
    "###### Tableau Visualization"
   ]
  },
  {
   "cell_type": "markdown",
   "metadata": {},
   "source": [
    "https://public.tableau.com/profile/seungjun.kim#!/vizhome/Indeed_comDataMapVisualization-WherearebestcitiestoworkinU_S_forrecentgrads/JobAvailabilityNormalizedMedianSalary?publish=yes"
   ]
  },
  {
   "cell_type": "markdown",
   "metadata": {},
   "source": [
    "https://public.tableau.com/profile/seungjun.kim#!/vizhome/Indeed_comDataMapVisualization-WherearebestcitiestoworkinU_S_forrecentgrads2/ValueofCollegeDegreeOverallCompanyRatings?publish=yes"
   ]
  },
  {
   "cell_type": "markdown",
   "metadata": {},
   "source": [
    "###### Top 10 Cities with highest availability of entry level jobs for recent graduates "
   ]
  },
  {
   "cell_type": "code",
   "execution_count": 68,
   "metadata": {},
   "outputs": [
    {
     "data": {
      "text/html": [
       "<div>\n",
       "<style>\n",
       "    .dataframe thead tr:only-child th {\n",
       "        text-align: right;\n",
       "    }\n",
       "\n",
       "    .dataframe thead th {\n",
       "        text-align: left;\n",
       "    }\n",
       "\n",
       "    .dataframe tbody tr th {\n",
       "        vertical-align: top;\n",
       "    }\n",
       "</style>\n",
       "<table border=\"1\" class=\"dataframe\">\n",
       "  <thead>\n",
       "    <tr style=\"text-align: right;\">\n",
       "      <th></th>\n",
       "      <th>stateProvince</th>\n",
       "      <th>city</th>\n",
       "    </tr>\n",
       "  </thead>\n",
       "  <tbody>\n",
       "    <tr>\n",
       "      <th>2711</th>\n",
       "      <td>NY</td>\n",
       "      <td>New York</td>\n",
       "    </tr>\n",
       "    <tr>\n",
       "      <th>1117</th>\n",
       "      <td>IL</td>\n",
       "      <td>Chicago</td>\n",
       "    </tr>\n",
       "    <tr>\n",
       "      <th>3557</th>\n",
       "      <td>TX</td>\n",
       "      <td>Houston</td>\n",
       "    </tr>\n",
       "    <tr>\n",
       "      <th>323</th>\n",
       "      <td>CA</td>\n",
       "      <td>Los Angeles</td>\n",
       "    </tr>\n",
       "    <tr>\n",
       "      <th>877</th>\n",
       "      <td>GA</td>\n",
       "      <td>Atlanta</td>\n",
       "    </tr>\n",
       "    <tr>\n",
       "      <th>3639</th>\n",
       "      <td>TX</td>\n",
       "      <td>San Antonio</td>\n",
       "    </tr>\n",
       "    <tr>\n",
       "      <th>3469</th>\n",
       "      <td>TX</td>\n",
       "      <td>Austin</td>\n",
       "    </tr>\n",
       "    <tr>\n",
       "      <th>3512</th>\n",
       "      <td>TX</td>\n",
       "      <td>Dallas</td>\n",
       "    </tr>\n",
       "    <tr>\n",
       "      <th>128</th>\n",
       "      <td>AZ</td>\n",
       "      <td>Phoenix</td>\n",
       "    </tr>\n",
       "    <tr>\n",
       "      <th>528</th>\n",
       "      <td>CO</td>\n",
       "      <td>Denver</td>\n",
       "    </tr>\n",
       "  </tbody>\n",
       "</table>\n",
       "</div>"
      ],
      "text/plain": [
       "     stateProvince         city\n",
       "2711            NY     New York\n",
       "1117            IL      Chicago\n",
       "3557            TX      Houston\n",
       "323             CA  Los Angeles\n",
       "877             GA      Atlanta\n",
       "3639            TX  San Antonio\n",
       "3469            TX       Austin\n",
       "3512            TX       Dallas\n",
       "128             AZ      Phoenix\n",
       "528             CO       Denver"
      ]
     },
     "execution_count": 68,
     "metadata": {},
     "output_type": "execute_result"
    }
   ],
   "source": [
    "us_city_data_non_null.sort_values(['avail_job_num'], ascending=False).iloc[:10].loc[:,['stateProvince','city']]"
   ]
  },
  {
   "cell_type": "markdown",
   "metadata": {},
   "source": [
    "###### Top 10 Cities with highest median avgOverallRating of companies"
   ]
  },
  {
   "cell_type": "code",
   "execution_count": 70,
   "metadata": {},
   "outputs": [
    {
     "data": {
      "text/html": [
       "<div>\n",
       "<style>\n",
       "    .dataframe thead tr:only-child th {\n",
       "        text-align: right;\n",
       "    }\n",
       "\n",
       "    .dataframe thead th {\n",
       "        text-align: left;\n",
       "    }\n",
       "\n",
       "    .dataframe tbody tr th {\n",
       "        vertical-align: top;\n",
       "    }\n",
       "</style>\n",
       "<table border=\"1\" class=\"dataframe\">\n",
       "  <thead>\n",
       "    <tr style=\"text-align: right;\">\n",
       "      <th></th>\n",
       "      <th>stateProvince</th>\n",
       "      <th>city</th>\n",
       "    </tr>\n",
       "  </thead>\n",
       "  <tbody>\n",
       "    <tr>\n",
       "      <th>2755</th>\n",
       "      <td>NY</td>\n",
       "      <td>West Hempstead</td>\n",
       "    </tr>\n",
       "    <tr>\n",
       "      <th>1138</th>\n",
       "      <td>IL</td>\n",
       "      <td>East Saint Louis</td>\n",
       "    </tr>\n",
       "    <tr>\n",
       "      <th>2595</th>\n",
       "      <td>NM</td>\n",
       "      <td>Hurley</td>\n",
       "    </tr>\n",
       "    <tr>\n",
       "      <th>1596</th>\n",
       "      <td>MA</td>\n",
       "      <td>Holbrook</td>\n",
       "    </tr>\n",
       "    <tr>\n",
       "      <th>3940</th>\n",
       "      <td>WA</td>\n",
       "      <td>Washougal</td>\n",
       "    </tr>\n",
       "    <tr>\n",
       "      <th>1882</th>\n",
       "      <td>MI</td>\n",
       "      <td>Jonesville</td>\n",
       "    </tr>\n",
       "    <tr>\n",
       "      <th>1524</th>\n",
       "      <td>LA</td>\n",
       "      <td>Jeanerette</td>\n",
       "    </tr>\n",
       "    <tr>\n",
       "      <th>3345</th>\n",
       "      <td>SC</td>\n",
       "      <td>Little River</td>\n",
       "    </tr>\n",
       "    <tr>\n",
       "      <th>3890</th>\n",
       "      <td>WA</td>\n",
       "      <td>La Center</td>\n",
       "    </tr>\n",
       "    <tr>\n",
       "      <th>1527</th>\n",
       "      <td>LA</td>\n",
       "      <td>La Place</td>\n",
       "    </tr>\n",
       "  </tbody>\n",
       "</table>\n",
       "</div>"
      ],
      "text/plain": [
       "     stateProvince              city\n",
       "2755            NY    West Hempstead\n",
       "1138            IL  East Saint Louis\n",
       "2595            NM            Hurley\n",
       "1596            MA          Holbrook\n",
       "3940            WA         Washougal\n",
       "1882            MI        Jonesville\n",
       "1524            LA        Jeanerette\n",
       "3345            SC      Little River\n",
       "3890            WA         La Center\n",
       "1527            LA          La Place"
      ]
     },
     "execution_count": 70,
     "metadata": {},
     "output_type": "execute_result"
    }
   ],
   "source": [
    "us_city_data_non_null.sort_values(['avgOverallRating_median'], ascending=False).iloc[:10].loc[:,['stateProvince','city']]"
   ]
  },
  {
   "cell_type": "markdown",
   "metadata": {},
   "source": [
    "###### Top 10 Cities where college degree is most valuable"
   ]
  },
  {
   "cell_type": "code",
   "execution_count": 71,
   "metadata": {},
   "outputs": [
    {
     "data": {
      "text/html": [
       "<div>\n",
       "<style>\n",
       "    .dataframe thead tr:only-child th {\n",
       "        text-align: right;\n",
       "    }\n",
       "\n",
       "    .dataframe thead th {\n",
       "        text-align: left;\n",
       "    }\n",
       "\n",
       "    .dataframe tbody tr th {\n",
       "        vertical-align: top;\n",
       "    }\n",
       "</style>\n",
       "<table border=\"1\" class=\"dataframe\">\n",
       "  <thead>\n",
       "    <tr style=\"text-align: right;\">\n",
       "      <th></th>\n",
       "      <th>stateProvince</th>\n",
       "      <th>city</th>\n",
       "    </tr>\n",
       "  </thead>\n",
       "  <tbody>\n",
       "    <tr>\n",
       "      <th>3810</th>\n",
       "      <td>VA</td>\n",
       "      <td>Pulaski</td>\n",
       "    </tr>\n",
       "    <tr>\n",
       "      <th>3143</th>\n",
       "      <td>PA</td>\n",
       "      <td>Flourtown</td>\n",
       "    </tr>\n",
       "    <tr>\n",
       "      <th>1700</th>\n",
       "      <td>MD</td>\n",
       "      <td>Charlotte Hall</td>\n",
       "    </tr>\n",
       "    <tr>\n",
       "      <th>3567</th>\n",
       "      <td>TX</td>\n",
       "      <td>Kerrville</td>\n",
       "    </tr>\n",
       "    <tr>\n",
       "      <th>265</th>\n",
       "      <td>CA</td>\n",
       "      <td>Grass Valley</td>\n",
       "    </tr>\n",
       "    <tr>\n",
       "      <th>2060</th>\n",
       "      <td>MN</td>\n",
       "      <td>Shoreview</td>\n",
       "    </tr>\n",
       "    <tr>\n",
       "      <th>3592</th>\n",
       "      <td>TX</td>\n",
       "      <td>Madisonville</td>\n",
       "    </tr>\n",
       "    <tr>\n",
       "      <th>2938</th>\n",
       "      <td>OH</td>\n",
       "      <td>Swanton</td>\n",
       "    </tr>\n",
       "    <tr>\n",
       "      <th>1244</th>\n",
       "      <td>IL</td>\n",
       "      <td>Quincy</td>\n",
       "    </tr>\n",
       "    <tr>\n",
       "      <th>3600</th>\n",
       "      <td>TX</td>\n",
       "      <td>Mexia</td>\n",
       "    </tr>\n",
       "  </tbody>\n",
       "</table>\n",
       "</div>"
      ],
      "text/plain": [
       "     stateProvince            city\n",
       "3810            VA         Pulaski\n",
       "3143            PA       Flourtown\n",
       "1700            MD  Charlotte Hall\n",
       "3567            TX       Kerrville\n",
       "265             CA    Grass Valley\n",
       "2060            MN       Shoreview\n",
       "3592            TX    Madisonville\n",
       "2938            OH         Swanton\n",
       "1244            IL          Quincy\n",
       "3600            TX           Mexia"
      ]
     },
     "execution_count": 71,
     "metadata": {},
     "output_type": "execute_result"
    }
   ],
   "source": [
    "us_city_data_non_null.sort_values(['salary_med_diff'], ascending=False).iloc[:10].loc[:,['stateProvince','city']]"
   ]
  },
  {
   "cell_type": "markdown",
   "metadata": {},
   "source": [
    "###### Top 10 Cities with highest median salary normalized by rent"
   ]
  },
  {
   "cell_type": "code",
   "execution_count": 72,
   "metadata": {},
   "outputs": [
    {
     "data": {
      "text/html": [
       "<div>\n",
       "<style>\n",
       "    .dataframe thead tr:only-child th {\n",
       "        text-align: right;\n",
       "    }\n",
       "\n",
       "    .dataframe thead th {\n",
       "        text-align: left;\n",
       "    }\n",
       "\n",
       "    .dataframe tbody tr th {\n",
       "        vertical-align: top;\n",
       "    }\n",
       "</style>\n",
       "<table border=\"1\" class=\"dataframe\">\n",
       "  <thead>\n",
       "    <tr style=\"text-align: right;\">\n",
       "      <th></th>\n",
       "      <th>stateProvince</th>\n",
       "      <th>city</th>\n",
       "    </tr>\n",
       "  </thead>\n",
       "  <tbody>\n",
       "    <tr>\n",
       "      <th>3933</th>\n",
       "      <td>WA</td>\n",
       "      <td>Toppenish</td>\n",
       "    </tr>\n",
       "    <tr>\n",
       "      <th>1885</th>\n",
       "      <td>MI</td>\n",
       "      <td>Kincheloe</td>\n",
       "    </tr>\n",
       "    <tr>\n",
       "      <th>2076</th>\n",
       "      <td>MO</td>\n",
       "      <td>Berkeley</td>\n",
       "    </tr>\n",
       "    <tr>\n",
       "      <th>3187</th>\n",
       "      <td>PA</td>\n",
       "      <td>Marietta</td>\n",
       "    </tr>\n",
       "    <tr>\n",
       "      <th>1839</th>\n",
       "      <td>MI</td>\n",
       "      <td>Constantine</td>\n",
       "    </tr>\n",
       "    <tr>\n",
       "      <th>1445</th>\n",
       "      <td>KS</td>\n",
       "      <td>South Hutchinson</td>\n",
       "    </tr>\n",
       "    <tr>\n",
       "      <th>51</th>\n",
       "      <td>AL</td>\n",
       "      <td>Tallassee</td>\n",
       "    </tr>\n",
       "    <tr>\n",
       "      <th>1502</th>\n",
       "      <td>KY</td>\n",
       "      <td>Tompkinsville</td>\n",
       "    </tr>\n",
       "    <tr>\n",
       "      <th>3260</th>\n",
       "      <td>PA</td>\n",
       "      <td>Upland</td>\n",
       "    </tr>\n",
       "    <tr>\n",
       "      <th>2321</th>\n",
       "      <td>NC</td>\n",
       "      <td>Spindale</td>\n",
       "    </tr>\n",
       "  </tbody>\n",
       "</table>\n",
       "</div>"
      ],
      "text/plain": [
       "     stateProvince              city\n",
       "3933            WA         Toppenish\n",
       "1885            MI         Kincheloe\n",
       "2076            MO          Berkeley\n",
       "3187            PA          Marietta\n",
       "1839            MI       Constantine\n",
       "1445            KS  South Hutchinson\n",
       "51              AL         Tallassee\n",
       "1502            KY     Tompkinsville\n",
       "3260            PA            Upland\n",
       "2321            NC          Spindale"
      ]
     },
     "execution_count": 72,
     "metadata": {},
     "output_type": "execute_result"
    }
   ],
   "source": [
    "us_city_data_non_null.sort_values(['salary_normalized'], ascending=False).iloc[:10].loc[:,['stateProvince','city']]"
   ]
  },
  {
   "cell_type": "markdown",
   "metadata": {},
   "source": [
    "## Which cities get the most interest from local applicants?"
   ]
  },
  {
   "cell_type": "code",
   "execution_count": 74,
   "metadata": {},
   "outputs": [],
   "source": [
    "df_us_local_prop = df_us.copy()\n",
    "df_us_local_prop['localClicks/clicks'] = df_us_local_prop.localClicks / df_us_local_prop.clicks"
   ]
  },
  {
   "cell_type": "code",
   "execution_count": 80,
   "metadata": {
    "scrolled": true
   },
   "outputs": [],
   "source": [
    "df_us_local_prop_sum_mean = df_us_local_prop.groupby(['stateProvince','city'])['localClicks/clicks'].agg({'sum','mean'}).reset_index().\\\n",
    "sort_values('mean',ascending=False)"
   ]
  },
  {
   "cell_type": "code",
   "execution_count": 86,
   "metadata": {
    "scrolled": true
   },
   "outputs": [],
   "source": [
    "df_us_local_prop_sum_mean = df_us_local_prop_sum_mean.copy()[df_us_local_prop_sum_mean.copy()['mean']!=1.0]"
   ]
  },
  {
   "cell_type": "code",
   "execution_count": 89,
   "metadata": {},
   "outputs": [],
   "source": [
    "df_us_local_prop_sum_mean = df_us_local_prop_sum_mean.copy()[df_us_local_prop_sum_mean.copy()['sum']!=\n",
    "                                                            df_us_local_prop_sum_mean.copy()['mean']]"
   ]
  },
  {
   "cell_type": "code",
   "execution_count": 92,
   "metadata": {
    "collapsed": true
   },
   "outputs": [
    {
     "data": {
      "text/html": [
       "<div>\n",
       "<style>\n",
       "    .dataframe thead tr:only-child th {\n",
       "        text-align: right;\n",
       "    }\n",
       "\n",
       "    .dataframe thead th {\n",
       "        text-align: left;\n",
       "    }\n",
       "\n",
       "    .dataframe tbody tr th {\n",
       "        vertical-align: top;\n",
       "    }\n",
       "</style>\n",
       "<table border=\"1\" class=\"dataframe\">\n",
       "  <thead>\n",
       "    <tr style=\"text-align: right;\">\n",
       "      <th></th>\n",
       "      <th>stateProvince</th>\n",
       "      <th>city</th>\n",
       "    </tr>\n",
       "  </thead>\n",
       "  <tbody>\n",
       "    <tr>\n",
       "      <th>8041</th>\n",
       "      <td>MO</td>\n",
       "      <td>Theodosia</td>\n",
       "    </tr>\n",
       "    <tr>\n",
       "      <th>3164</th>\n",
       "      <td>GA</td>\n",
       "      <td>Sylvania</td>\n",
       "    </tr>\n",
       "    <tr>\n",
       "      <th>3828</th>\n",
       "      <td>IL</td>\n",
       "      <td>Big Rock</td>\n",
       "    </tr>\n",
       "    <tr>\n",
       "      <th>7386</th>\n",
       "      <td>MN</td>\n",
       "      <td>Hokah</td>\n",
       "    </tr>\n",
       "    <tr>\n",
       "      <th>4089</th>\n",
       "      <td>IL</td>\n",
       "      <td>Hume</td>\n",
       "    </tr>\n",
       "    <tr>\n",
       "      <th>1336</th>\n",
       "      <td>CA</td>\n",
       "      <td>Nuevo</td>\n",
       "    </tr>\n",
       "    <tr>\n",
       "      <th>3342</th>\n",
       "      <td>IA</td>\n",
       "      <td>Baldwin</td>\n",
       "    </tr>\n",
       "    <tr>\n",
       "      <th>10935</th>\n",
       "      <td>NY</td>\n",
       "      <td>Washingtonville</td>\n",
       "    </tr>\n",
       "    <tr>\n",
       "      <th>7713</th>\n",
       "      <td>MO</td>\n",
       "      <td>Chilhowee</td>\n",
       "    </tr>\n",
       "    <tr>\n",
       "      <th>16098</th>\n",
       "      <td>WI</td>\n",
       "      <td>Collins</td>\n",
       "    </tr>\n",
       "    <tr>\n",
       "      <th>2297</th>\n",
       "      <td>FL</td>\n",
       "      <td>Coleman</td>\n",
       "    </tr>\n",
       "    <tr>\n",
       "      <th>7646</th>\n",
       "      <td>MO</td>\n",
       "      <td>Allenton</td>\n",
       "    </tr>\n",
       "    <tr>\n",
       "      <th>2599</th>\n",
       "      <td>FL</td>\n",
       "      <td>Palm</td>\n",
       "    </tr>\n",
       "    <tr>\n",
       "      <th>4035</th>\n",
       "      <td>IL</td>\n",
       "      <td>Good Hope</td>\n",
       "    </tr>\n",
       "    <tr>\n",
       "      <th>6289</th>\n",
       "      <td>MD</td>\n",
       "      <td>Harwood</td>\n",
       "    </tr>\n",
       "    <tr>\n",
       "      <th>3211</th>\n",
       "      <td>GA</td>\n",
       "      <td>Waynesville</td>\n",
       "    </tr>\n",
       "    <tr>\n",
       "      <th>5121</th>\n",
       "      <td>KS</td>\n",
       "      <td>Tribune</td>\n",
       "    </tr>\n",
       "    <tr>\n",
       "      <th>4579</th>\n",
       "      <td>IN</td>\n",
       "      <td>Clifford</td>\n",
       "    </tr>\n",
       "    <tr>\n",
       "      <th>15285</th>\n",
       "      <td>VA</td>\n",
       "      <td>Grundy</td>\n",
       "    </tr>\n",
       "    <tr>\n",
       "      <th>16250</th>\n",
       "      <td>WI</td>\n",
       "      <td>Marathon City</td>\n",
       "    </tr>\n",
       "  </tbody>\n",
       "</table>\n",
       "</div>"
      ],
      "text/plain": [
       "      stateProvince             city\n",
       "8041             MO        Theodosia\n",
       "3164             GA         Sylvania\n",
       "3828             IL         Big Rock\n",
       "7386             MN            Hokah\n",
       "4089             IL             Hume\n",
       "1336             CA            Nuevo\n",
       "3342             IA          Baldwin\n",
       "10935            NY  Washingtonville\n",
       "7713             MO        Chilhowee\n",
       "16098            WI          Collins\n",
       "2297             FL          Coleman\n",
       "7646             MO         Allenton\n",
       "2599             FL             Palm\n",
       "4035             IL        Good Hope\n",
       "6289             MD          Harwood\n",
       "3211             GA      Waynesville\n",
       "5121             KS          Tribune\n",
       "4579             IN         Clifford\n",
       "15285            VA           Grundy\n",
       "16250            WI    Marathon City"
      ]
     },
     "execution_count": 92,
     "metadata": {},
     "output_type": "execute_result"
    }
   ],
   "source": [
    "df_us_local_prop_sum_mean.sort_values('mean',ascending=False).iloc[:20][['stateProvince','city']]"
   ]
  }
 ],
 "metadata": {
  "kernelspec": {
   "display_name": "Python 3",
   "language": "python",
   "name": "python3"
  },
  "language_info": {
   "codemirror_mode": {
    "name": "ipython",
    "version": 3
   },
   "file_extension": ".py",
   "mimetype": "text/x-python",
   "name": "python",
   "nbconvert_exporter": "python",
   "pygments_lexer": "ipython3",
   "version": "3.6.6"
  }
 },
 "nbformat": 4,
 "nbformat_minor": 2
}
