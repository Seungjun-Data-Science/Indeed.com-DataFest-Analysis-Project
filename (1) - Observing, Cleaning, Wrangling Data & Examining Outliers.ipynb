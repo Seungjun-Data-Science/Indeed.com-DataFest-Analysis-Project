{
 "cells": [
  {
   "cell_type": "markdown",
   "metadata": {},
   "source": [
    "## Importing Essential Libraries"
   ]
  },
  {
   "cell_type": "code",
   "execution_count": 1,
   "metadata": {},
   "outputs": [],
   "source": [
    "import pandas as pd\n",
    "import numpy as np\n",
    "import matplotlib.pyplot as plt\n",
    "import seaborn as sns\n",
    "%matplotlib inline"
   ]
  },
  {
   "cell_type": "markdown",
   "metadata": {},
   "source": [
    "### Column Label Dictionary"
   ]
  },
  {
   "cell_type": "markdown",
   "metadata": {},
   "source": [
    "- date:\tUnixtime date when events occured.\n",
    "- companyId\n",
    "- jobId\n",
    "- country: Country of job-posting.\n",
    "- stateProvince:\tName of the state or province of the job posting.\n",
    "- city: Name of job posting city.\n",
    "- avgOverallRating:\tAverage rating of the company (1-5 stars), with 0s for non-rated companies.\n",
    "- numReviews: Total number of reviews the company had.\n",
    "- industry: Industry associated with the company.\n",
    "- normTitle: The normalized / canonical job title.\n",
    "- normTitleCategory: The category (similar to occupational category) of the norm title.\n",
    "- descriptionCharacterLength: Number of characters in job description.\n",
    "- descriptionWordCount: Number of words in job description.\n",
    "- experienceRequired: Minimum experience required for the job in years.\n",
    "- estimatedSalary: Estimated annual salary (0 when estimate not available).\n",
    "- salaryCurrency: Salary currency.\n",
    "- jobLanguage: Job language.\n",
    "- supervisingJob: Whether this job is classified as a supervising job.\n",
    "-  licenseRequiredJob: Whether this job is classified as requiring a license.\n",
    "- educationRequirements: The job's education requirement. Values (\"None\", \"High School\", \"Higher Education\").\n",
    "- jobAgeDays: Age of job in days, based on job create date and on central timezone. Resets if job is 'refreshed'.\n",
    "- clicks: The total number of clicks on the job on the date.\n",
    "- localClicks: The total number of clicks on the job from a local user (same city and country) on the date."
   ]
  },
  {
   "cell_type": "code",
   "execution_count": 2,
   "metadata": {},
   "outputs": [],
   "source": [
    "# import findspark\n",
    "# findspark.init()"
   ]
  },
  {
   "cell_type": "code",
   "execution_count": 3,
   "metadata": {},
   "outputs": [],
   "source": [
    "# import pyspark as ps\n",
    "# import warnings\n",
    "# from pyspark.sql import *"
   ]
  },
  {
   "cell_type": "code",
   "execution_count": 4,
   "metadata": {},
   "outputs": [],
   "source": [
    "# sc = ps.sql.SparkSession.builder.master('local[4]').getOrCreate()"
   ]
  },
  {
   "cell_type": "code",
   "execution_count": 5,
   "metadata": {},
   "outputs": [],
   "source": [
    "# df = sc.read.csv('E:\\josh_data_science\\Vassar Datafest 2018\\Data_Feature_Dictionary\\indeed.csv')"
   ]
  },
  {
   "cell_type": "code",
   "execution_count": 6,
   "metadata": {},
   "outputs": [],
   "source": [
    "# def _map_to_pandas(rdds):\n",
    "#     return [pd.DataFrame(list(rdds))]\n",
    "\n",
    "# def to_pandas(df, n_partitions=None):\n",
    "#     if n_partitions is not None: df = df.repartition(n_partitions)\n",
    "#     df_pand = df.rdd.mapPartitions(_map_to_pandas).collect()\n",
    "#     df_pand = pd.concat(df_pand)\n",
    "#     df_pand.columns = df.columns\n",
    "#     return df_pand"
   ]
  },
  {
   "cell_type": "code",
   "execution_count": 7,
   "metadata": {
    "scrolled": true
   },
   "outputs": [],
   "source": [
    "# pdf = to_pandas(df)"
   ]
  },
  {
   "cell_type": "markdown",
   "metadata": {},
   "source": [
    "## Observing Data (Having a taste of Data)"
   ]
  },
  {
   "cell_type": "code",
   "execution_count": 8,
   "metadata": {},
   "outputs": [],
   "source": [
    "df = pd.read_csv('E:\\josh_data_science\\Vassar Datafest 2018\\Dataset_and_FeatureDictionary\\indeed.csv')"
   ]
  },
  {
   "cell_type": "code",
   "execution_count": 9,
   "metadata": {
    "scrolled": true
   },
   "outputs": [
    {
     "name": "stdout",
     "output_type": "stream",
     "text": [
      "Number of rows and columns:  (14586035, 23)\n"
     ]
    }
   ],
   "source": [
    "print(\"Number of rows and columns: \", df.shape)"
   ]
  },
  {
   "cell_type": "code",
   "execution_count": 10,
   "metadata": {
    "scrolled": true
   },
   "outputs": [
    {
     "data": {
      "text/html": [
       "<div>\n",
       "<style>\n",
       "    .dataframe thead tr:only-child th {\n",
       "        text-align: right;\n",
       "    }\n",
       "\n",
       "    .dataframe thead th {\n",
       "        text-align: left;\n",
       "    }\n",
       "\n",
       "    .dataframe tbody tr th {\n",
       "        vertical-align: top;\n",
       "    }\n",
       "</style>\n",
       "<table border=\"1\" class=\"dataframe\">\n",
       "  <thead>\n",
       "    <tr style=\"text-align: right;\">\n",
       "      <th></th>\n",
       "      <th>date</th>\n",
       "      <th>companyId</th>\n",
       "      <th>jobId</th>\n",
       "      <th>country</th>\n",
       "      <th>stateProvince</th>\n",
       "      <th>city</th>\n",
       "      <th>avgOverallRating</th>\n",
       "      <th>numReviews</th>\n",
       "      <th>industry</th>\n",
       "      <th>normTitle</th>\n",
       "      <th>...</th>\n",
       "      <th>experienceRequired</th>\n",
       "      <th>estimatedSalary</th>\n",
       "      <th>salaryCurrency</th>\n",
       "      <th>jobLanguage</th>\n",
       "      <th>supervisingJob</th>\n",
       "      <th>licenseRequiredJob</th>\n",
       "      <th>educationRequirements</th>\n",
       "      <th>jobAgeDays</th>\n",
       "      <th>clicks</th>\n",
       "      <th>localClicks</th>\n",
       "    </tr>\n",
       "  </thead>\n",
       "  <tbody>\n",
       "    <tr>\n",
       "      <th>0</th>\n",
       "      <td>2016-11-01</td>\n",
       "      <td>company00000</td>\n",
       "      <td>job0000000</td>\n",
       "      <td>CA</td>\n",
       "      <td>ON</td>\n",
       "      <td>Cambridge</td>\n",
       "      <td>0.0</td>\n",
       "      <td>NaN</td>\n",
       "      <td>NaN</td>\n",
       "      <td>driver</td>\n",
       "      <td>...</td>\n",
       "      <td>NaN</td>\n",
       "      <td>40600</td>\n",
       "      <td>NaN</td>\n",
       "      <td>EN</td>\n",
       "      <td>0.0</td>\n",
       "      <td>0.0</td>\n",
       "      <td>None</td>\n",
       "      <td>99</td>\n",
       "      <td>4</td>\n",
       "      <td>1</td>\n",
       "    </tr>\n",
       "    <tr>\n",
       "      <th>1</th>\n",
       "      <td>2016-11-01</td>\n",
       "      <td>company00002</td>\n",
       "      <td>job0000002</td>\n",
       "      <td>US</td>\n",
       "      <td>AZ</td>\n",
       "      <td>Peoria</td>\n",
       "      <td>0.0</td>\n",
       "      <td>NaN</td>\n",
       "      <td>NaN</td>\n",
       "      <td>customer service representative</td>\n",
       "      <td>...</td>\n",
       "      <td>NaN</td>\n",
       "      <td>22800</td>\n",
       "      <td>NaN</td>\n",
       "      <td>EN</td>\n",
       "      <td>0.0</td>\n",
       "      <td>0.0</td>\n",
       "      <td>High School</td>\n",
       "      <td>99</td>\n",
       "      <td>12</td>\n",
       "      <td>2</td>\n",
       "    </tr>\n",
       "    <tr>\n",
       "      <th>2</th>\n",
       "      <td>2016-11-01</td>\n",
       "      <td>company00003</td>\n",
       "      <td>job0000003</td>\n",
       "      <td>US</td>\n",
       "      <td>GA</td>\n",
       "      <td>Cartersville</td>\n",
       "      <td>3.7</td>\n",
       "      <td>71.0</td>\n",
       "      <td>NaN</td>\n",
       "      <td>host/hostess</td>\n",
       "      <td>...</td>\n",
       "      <td>NaN</td>\n",
       "      <td>22500</td>\n",
       "      <td>NaN</td>\n",
       "      <td>EN</td>\n",
       "      <td>0.0</td>\n",
       "      <td>0.0</td>\n",
       "      <td>None</td>\n",
       "      <td>99</td>\n",
       "      <td>15</td>\n",
       "      <td>3</td>\n",
       "    </tr>\n",
       "    <tr>\n",
       "      <th>3</th>\n",
       "      <td>2016-11-01</td>\n",
       "      <td>company00005</td>\n",
       "      <td>job0000005</td>\n",
       "      <td>US</td>\n",
       "      <td>AR</td>\n",
       "      <td>Malvern</td>\n",
       "      <td>5.0</td>\n",
       "      <td>46.0</td>\n",
       "      <td>NaN</td>\n",
       "      <td>data entry clerk</td>\n",
       "      <td>...</td>\n",
       "      <td>NaN</td>\n",
       "      <td>26100</td>\n",
       "      <td>NaN</td>\n",
       "      <td>EN</td>\n",
       "      <td>0.0</td>\n",
       "      <td>0.0</td>\n",
       "      <td>High School</td>\n",
       "      <td>99</td>\n",
       "      <td>25</td>\n",
       "      <td>8</td>\n",
       "    </tr>\n",
       "    <tr>\n",
       "      <th>4</th>\n",
       "      <td>2016-11-01</td>\n",
       "      <td>company00005</td>\n",
       "      <td>job0000006</td>\n",
       "      <td>US</td>\n",
       "      <td>AR</td>\n",
       "      <td>Augusta</td>\n",
       "      <td>5.0</td>\n",
       "      <td>46.0</td>\n",
       "      <td>NaN</td>\n",
       "      <td>data entry clerk</td>\n",
       "      <td>...</td>\n",
       "      <td>NaN</td>\n",
       "      <td>26200</td>\n",
       "      <td>NaN</td>\n",
       "      <td>EN</td>\n",
       "      <td>0.0</td>\n",
       "      <td>0.0</td>\n",
       "      <td>High School</td>\n",
       "      <td>99</td>\n",
       "      <td>33</td>\n",
       "      <td>1</td>\n",
       "    </tr>\n",
       "  </tbody>\n",
       "</table>\n",
       "<p>5 rows × 23 columns</p>\n",
       "</div>"
      ],
      "text/plain": [
       "         date     companyId       jobId country stateProvince          city  \\\n",
       "0  2016-11-01  company00000  job0000000      CA            ON     Cambridge   \n",
       "1  2016-11-01  company00002  job0000002      US            AZ        Peoria   \n",
       "2  2016-11-01  company00003  job0000003      US            GA  Cartersville   \n",
       "3  2016-11-01  company00005  job0000005      US            AR       Malvern   \n",
       "4  2016-11-01  company00005  job0000006      US            AR       Augusta   \n",
       "\n",
       "   avgOverallRating  numReviews industry                        normTitle  \\\n",
       "0               0.0         NaN      NaN                           driver   \n",
       "1               0.0         NaN      NaN  customer service representative   \n",
       "2               3.7        71.0      NaN                     host/hostess   \n",
       "3               5.0        46.0      NaN                 data entry clerk   \n",
       "4               5.0        46.0      NaN                 data entry clerk   \n",
       "\n",
       "      ...     experienceRequired  estimatedSalary  salaryCurrency  \\\n",
       "0     ...                    NaN            40600             NaN   \n",
       "1     ...                    NaN            22800             NaN   \n",
       "2     ...                    NaN            22500             NaN   \n",
       "3     ...                    NaN            26100             NaN   \n",
       "4     ...                    NaN            26200             NaN   \n",
       "\n",
       "   jobLanguage  supervisingJob licenseRequiredJob educationRequirements  \\\n",
       "0           EN             0.0                0.0                  None   \n",
       "1           EN             0.0                0.0           High School   \n",
       "2           EN             0.0                0.0                  None   \n",
       "3           EN             0.0                0.0           High School   \n",
       "4           EN             0.0                0.0           High School   \n",
       "\n",
       "   jobAgeDays  clicks localClicks  \n",
       "0          99       4           1  \n",
       "1          99      12           2  \n",
       "2          99      15           3  \n",
       "3          99      25           8  \n",
       "4          99      33           1  \n",
       "\n",
       "[5 rows x 23 columns]"
      ]
     },
     "execution_count": 10,
     "metadata": {},
     "output_type": "execute_result"
    }
   ],
   "source": [
    "df.head()"
   ]
  },
  {
   "cell_type": "code",
   "execution_count": 11,
   "metadata": {},
   "outputs": [
    {
     "name": "stdout",
     "output_type": "stream",
     "text": [
      "<class 'pandas.core.frame.DataFrame'>\n",
      "RangeIndex: 14586035 entries, 0 to 14586034\n",
      "Data columns (total 23 columns):\n",
      "date                          object\n",
      "companyId                     object\n",
      "jobId                         object\n",
      "country                       object\n",
      "stateProvince                 object\n",
      "city                          object\n",
      "avgOverallRating              float64\n",
      "numReviews                    float64\n",
      "industry                      object\n",
      "normTitle                     object\n",
      "normTitleCategory             object\n",
      "descriptionCharacterLength    int64\n",
      "descriptionWordCount          int64\n",
      "experienceRequired            float64\n",
      "estimatedSalary               int64\n",
      "salaryCurrency                object\n",
      "jobLanguage                   object\n",
      "supervisingJob                float64\n",
      "licenseRequiredJob            float64\n",
      "educationRequirements         object\n",
      "jobAgeDays                    int64\n",
      "clicks                        int64\n",
      "localClicks                   int64\n",
      "dtypes: float64(5), int64(6), object(12)\n",
      "memory usage: 2.5+ GB\n"
     ]
    }
   ],
   "source": [
    "df.info()"
   ]
  },
  {
   "cell_type": "markdown",
   "metadata": {
    "collapsed": true
   },
   "source": [
    "## Observing each column & Cleaning & Handling Missing Data"
   ]
  },
  {
   "cell_type": "markdown",
   "metadata": {},
   "source": [
    "#### Date"
   ]
  },
  {
   "cell_type": "code",
   "execution_count": 12,
   "metadata": {
    "scrolled": true
   },
   "outputs": [
    {
     "name": "stdout",
     "output_type": "stream",
     "text": [
      "From  2016-11-01  to  2017-11-30\n"
     ]
    }
   ],
   "source": [
    "# Timespan of data\n",
    "print(\"From \",df.date.min(), \" to \", df.date.max())"
   ]
  },
  {
   "cell_type": "code",
   "execution_count": 13,
   "metadata": {},
   "outputs": [
    {
     "data": {
      "text/plain": [
       "0"
      ]
     },
     "execution_count": 13,
     "metadata": {},
     "output_type": "execute_result"
    }
   ],
   "source": [
    "# No missing value\n",
    "len(df[df.date.isnull()])"
   ]
  },
  {
   "cell_type": "code",
   "execution_count": 14,
   "metadata": {
    "collapsed": true
   },
   "outputs": [
    {
     "data": {
      "text/plain": [
       "['2017-08-24',\n",
       " '2017-08-25',\n",
       " '2017-08-23',\n",
       " '2017-08-22',\n",
       " '2017-08-29',\n",
       " '2017-08-21',\n",
       " '2017-08-28',\n",
       " '2017-08-30',\n",
       " '2017-08-26',\n",
       " '2017-08-18',\n",
       " '2017-08-27',\n",
       " '2017-08-31',\n",
       " '2017-08-17',\n",
       " '2017-08-19',\n",
       " '2017-08-20',\n",
       " '2017-08-16',\n",
       " '2017-08-15',\n",
       " '2017-09-01',\n",
       " '2017-08-04',\n",
       " '2017-08-01',\n",
       " '2017-08-03',\n",
       " '2017-08-14',\n",
       " '2017-08-02',\n",
       " '2017-10-06',\n",
       " '2017-10-05',\n",
       " '2017-08-11',\n",
       " '2017-10-19',\n",
       " '2017-10-04',\n",
       " '2017-10-18',\n",
       " '2017-07-31',\n",
       " '2017-10-03',\n",
       " '2017-09-28',\n",
       " '2017-10-20',\n",
       " '2017-08-10',\n",
       " '2017-10-17',\n",
       " '2017-08-07',\n",
       " '2017-07-28',\n",
       " '2017-09-27',\n",
       " '2017-08-08',\n",
       " '2017-09-29',\n",
       " '2017-08-05',\n",
       " '2017-08-12',\n",
       " '2017-10-02',\n",
       " '2017-10-13',\n",
       " '2017-08-09',\n",
       " '2017-10-12',\n",
       " '2017-10-16',\n",
       " '2017-09-26',\n",
       " '2017-07-27',\n",
       " '2017-10-11',\n",
       " '2017-11-03',\n",
       " '2017-10-07',\n",
       " '2017-08-13',\n",
       " '2017-07-29',\n",
       " '2017-08-06',\n",
       " '2017-07-26',\n",
       " '2017-10-10',\n",
       " '2017-07-19',\n",
       " '2017-11-06',\n",
       " '2017-09-15',\n",
       " '2017-09-30',\n",
       " '2017-09-21',\n",
       " '2017-10-25',\n",
       " '2017-07-20',\n",
       " '2017-10-21',\n",
       " '2017-09-14',\n",
       " '2017-11-04',\n",
       " '2017-09-25',\n",
       " '2017-10-14',\n",
       " '2017-10-09',\n",
       " '2017-07-30',\n",
       " '2017-10-24',\n",
       " '2017-09-20',\n",
       " '2017-11-02',\n",
       " '2017-10-23',\n",
       " '2017-09-22',\n",
       " '2017-09-13',\n",
       " '2017-10-01',\n",
       " '2017-10-08',\n",
       " '2017-07-21',\n",
       " '2017-09-18',\n",
       " '2017-09-19',\n",
       " '2017-10-26',\n",
       " '2017-07-18',\n",
       " '2017-11-01',\n",
       " '2017-07-25',\n",
       " '2017-09-02',\n",
       " '2017-11-05',\n",
       " '2017-10-15',\n",
       " '2017-11-07',\n",
       " '2017-10-27',\n",
       " '2017-09-16',\n",
       " '2017-10-22',\n",
       " '2017-07-24',\n",
       " '2017-09-23',\n",
       " '2017-05-18',\n",
       " '2017-09-12',\n",
       " '2017-05-17',\n",
       " '2017-05-19',\n",
       " '2017-05-12',\n",
       " '2017-05-16',\n",
       " '2017-09-24',\n",
       " '2017-05-15',\n",
       " '2017-09-17',\n",
       " '2017-10-31',\n",
       " '2017-05-09',\n",
       " '2017-05-10',\n",
       " '2017-05-08',\n",
       " '2017-09-11',\n",
       " '2017-07-17',\n",
       " '2017-05-11',\n",
       " '2017-06-07',\n",
       " '2017-06-06',\n",
       " '2017-07-22',\n",
       " '2017-04-21',\n",
       " '2017-05-26',\n",
       " '2017-04-19',\n",
       " '2017-05-05',\n",
       " '2017-05-24',\n",
       " '2017-06-01',\n",
       " '2017-04-26',\n",
       " '2017-06-27',\n",
       " '2017-10-30',\n",
       " '2017-05-23',\n",
       " '2017-05-30',\n",
       " '2017-05-22',\n",
       " '2017-06-28',\n",
       " '2017-06-23',\n",
       " '2017-05-25',\n",
       " '2017-06-08',\n",
       " '2017-04-27',\n",
       " '2017-04-20',\n",
       " '2017-04-28',\n",
       " '2017-05-04',\n",
       " '2017-05-03',\n",
       " '2017-06-02',\n",
       " '2017-09-08',\n",
       " '2017-06-22',\n",
       " '2017-04-18',\n",
       " '2017-09-07',\n",
       " '2017-05-02',\n",
       " '2017-04-25',\n",
       " '2017-07-23',\n",
       " '2017-04-07',\n",
       " '2017-06-29',\n",
       " '2017-11-08',\n",
       " '2017-07-14',\n",
       " '2017-05-20',\n",
       " '2017-04-06',\n",
       " '2017-06-26',\n",
       " '2017-09-05',\n",
       " '2017-05-13',\n",
       " '2017-05-31',\n",
       " '2017-06-09',\n",
       " '2017-04-11',\n",
       " '2017-10-28',\n",
       " '2017-06-21',\n",
       " '2017-05-01',\n",
       " '2017-09-06',\n",
       " '2017-04-24',\n",
       " '2017-04-05',\n",
       " '2017-04-12',\n",
       " '2017-07-15',\n",
       " '2017-06-05',\n",
       " '2017-09-03',\n",
       " '2017-04-13',\n",
       " '2017-06-30',\n",
       " '2017-09-09',\n",
       " '2017-04-10',\n",
       " '2017-05-06',\n",
       " '2017-04-22',\n",
       " '2017-09-04',\n",
       " '2017-05-14',\n",
       " '2017-07-16',\n",
       " '2017-05-27',\n",
       " '2017-05-21',\n",
       " '2017-04-29',\n",
       " '2017-06-03',\n",
       " '2017-04-04',\n",
       " '2017-03-22',\n",
       " '2017-03-31',\n",
       " '2017-05-07',\n",
       " '2017-03-30',\n",
       " '2017-06-20',\n",
       " '2017-05-29',\n",
       " '2017-09-10',\n",
       " '2017-06-24',\n",
       " '2017-03-23',\n",
       " '2017-03-16',\n",
       " '2017-11-09',\n",
       " '2017-10-29',\n",
       " '2017-03-17',\n",
       " '2017-05-28',\n",
       " '2017-04-14',\n",
       " '2017-07-13',\n",
       " '2017-06-13',\n",
       " '2017-04-17',\n",
       " '2017-03-24',\n",
       " '2017-03-21',\n",
       " '2017-03-29',\n",
       " '2017-04-08',\n",
       " '2017-03-28',\n",
       " '2017-03-15',\n",
       " '2017-04-03',\n",
       " '2017-07-12',\n",
       " '2017-06-14',\n",
       " '2017-04-23',\n",
       " '2017-06-04',\n",
       " '2017-06-10',\n",
       " '2017-06-15',\n",
       " '2017-06-25',\n",
       " '2017-06-12',\n",
       " '2017-04-30',\n",
       " '2017-03-27',\n",
       " '2017-03-20',\n",
       " '2017-06-19',\n",
       " '2017-03-10',\n",
       " '2017-06-16',\n",
       " '2017-07-01',\n",
       " '2017-03-14',\n",
       " '2017-04-01',\n",
       " '2017-04-15',\n",
       " '2017-03-09',\n",
       " '2017-03-07',\n",
       " '2017-04-09',\n",
       " '2017-03-18',\n",
       " '2017-03-08',\n",
       " '2017-11-10',\n",
       " '2017-07-11',\n",
       " '2017-03-25',\n",
       " '2017-03-13',\n",
       " '2017-03-06',\n",
       " '2017-07-07',\n",
       " '2017-03-19',\n",
       " '2017-06-11',\n",
       " '2017-04-16',\n",
       " '2017-04-02',\n",
       " '2017-07-02',\n",
       " '2017-07-03',\n",
       " '2017-11-15',\n",
       " '2017-03-26',\n",
       " '2017-06-17',\n",
       " '2017-03-03',\n",
       " '2017-07-10',\n",
       " '2017-03-11',\n",
       " '2017-03-02',\n",
       " '2017-11-14',\n",
       " '2017-06-18',\n",
       " '2017-07-05',\n",
       " '2017-07-06',\n",
       " '2017-03-05',\n",
       " '2017-11-13',\n",
       " '2017-03-04',\n",
       " '2017-07-08',\n",
       " '2017-02-28',\n",
       " '2017-11-17',\n",
       " '2017-03-01',\n",
       " '2017-07-04',\n",
       " '2017-03-12',\n",
       " '2017-02-27',\n",
       " '2017-11-11',\n",
       " '2017-02-21',\n",
       " '2017-02-24',\n",
       " '2017-02-20',\n",
       " '2017-07-09',\n",
       " '2017-11-12',\n",
       " '2017-02-17',\n",
       " '2017-11-16',\n",
       " '2017-02-22',\n",
       " '2017-02-23',\n",
       " '2017-02-25',\n",
       " '2017-11-18',\n",
       " '2017-02-26',\n",
       " '2017-02-16',\n",
       " '2017-11-20',\n",
       " '2017-02-18',\n",
       " '2017-11-21',\n",
       " '2017-02-15',\n",
       " '2017-01-25',\n",
       " '2017-02-09',\n",
       " '2017-02-08',\n",
       " '2017-01-20',\n",
       " '2017-01-24',\n",
       " '2017-11-19',\n",
       " '2017-02-10',\n",
       " '2017-02-13',\n",
       " '2017-02-19',\n",
       " '2017-02-14',\n",
       " '2017-01-26',\n",
       " '2017-01-21',\n",
       " '2017-01-23',\n",
       " '2017-02-07',\n",
       " '2017-02-03',\n",
       " '2017-01-19',\n",
       " '2017-11-22',\n",
       " '2017-02-02',\n",
       " '2017-01-27',\n",
       " '2017-01-18',\n",
       " '2017-02-11',\n",
       " '2017-02-01',\n",
       " '2017-02-06',\n",
       " '2017-02-12',\n",
       " '2017-01-13',\n",
       " '2017-01-31',\n",
       " '2017-01-30',\n",
       " '2017-01-22',\n",
       " '2017-01-17',\n",
       " '2017-02-04',\n",
       " '2017-01-12',\n",
       " '2017-01-28',\n",
       " '2016-12-22',\n",
       " '2017-01-06',\n",
       " '2016-11-18',\n",
       " '2016-12-28',\n",
       " '2017-01-11',\n",
       " '2017-11-23',\n",
       " '2017-01-10',\n",
       " '2016-12-23',\n",
       " '2016-11-17',\n",
       " '2016-12-21',\n",
       " '2017-01-16',\n",
       " '2017-02-05',\n",
       " '2016-12-29',\n",
       " '2017-01-29',\n",
       " '2016-12-20',\n",
       " '2017-01-14',\n",
       " '2016-11-21',\n",
       " '2016-12-27',\n",
       " '2017-01-09',\n",
       " '2017-01-05',\n",
       " '2017-01-04',\n",
       " '2016-12-16',\n",
       " '2016-12-15',\n",
       " '2017-01-07',\n",
       " '2016-12-19',\n",
       " '2016-12-30',\n",
       " '2016-12-24',\n",
       " '2016-11-15',\n",
       " '2017-11-24',\n",
       " '2017-01-15',\n",
       " '2016-11-20',\n",
       " '2016-12-14',\n",
       " '2016-12-26',\n",
       " '2017-01-03',\n",
       " '2016-11-16',\n",
       " '2016-11-19',\n",
       " '2016-12-13',\n",
       " '2016-12-17',\n",
       " '2016-12-25',\n",
       " '2016-12-18',\n",
       " '2016-12-02',\n",
       " '2016-12-07',\n",
       " '2016-11-14',\n",
       " '2017-01-08',\n",
       " '2016-11-22',\n",
       " '2016-12-08',\n",
       " '2016-12-12',\n",
       " '2016-12-09',\n",
       " '2016-12-01',\n",
       " '2016-12-06',\n",
       " '2017-01-02',\n",
       " '2016-11-23',\n",
       " '2016-12-31',\n",
       " '2016-12-05',\n",
       " '2017-01-01',\n",
       " '2016-11-12',\n",
       " '2016-12-11',\n",
       " '2016-12-10',\n",
       " '2016-11-30',\n",
       " '2016-12-03',\n",
       " '2016-11-10',\n",
       " '2017-11-25',\n",
       " '2016-11-13',\n",
       " '2016-11-11',\n",
       " '2016-11-29',\n",
       " '2016-11-28',\n",
       " '2016-12-04',\n",
       " '2016-11-24',\n",
       " '2016-11-25',\n",
       " '2016-11-26',\n",
       " '2016-11-27',\n",
       " '2017-11-26',\n",
       " '2016-11-09',\n",
       " '2017-11-27',\n",
       " '2016-11-08',\n",
       " '2016-11-07',\n",
       " '2017-11-28',\n",
       " '2016-11-06',\n",
       " '2016-11-05',\n",
       " '2016-11-04',\n",
       " '2017-11-29',\n",
       " '2016-11-03',\n",
       " '2016-11-02',\n",
       " '2017-11-30',\n",
       " '2016-11-01']"
      ]
     },
     "execution_count": 14,
     "metadata": {},
     "output_type": "execute_result"
    }
   ],
   "source": [
    "df.date.value_counts().index.tolist()\n",
    "# No weird labels"
   ]
  },
  {
   "cell_type": "markdown",
   "metadata": {
    "collapsed": true
   },
   "source": [
    "#### Company ID & Job ID"
   ]
  },
  {
   "cell_type": "code",
   "execution_count": 15,
   "metadata": {
    "scrolled": true
   },
   "outputs": [
    {
     "name": "stdout",
     "output_type": "stream",
     "text": [
      "Largest and smallest number of job postings of companies:  222955 and 1\n",
      "Company with largest number of job postings:  company02436\n",
      "Company with smallest number of job postings:  company23946 etc.\n"
     ]
    }
   ],
   "source": [
    "print(\"Largest and smallest number of job postings of companies: \", df.companyId.value_counts().max(), \"and\", df.companyId.value_counts().min())\n",
    "print(\"Company with largest number of job postings: \", \n",
    "      df.companyId.value_counts()[df.companyId.value_counts()==df.companyId.value_counts().max()].index[0])\n",
    "print(\"Company with smallest number of job postings: \", \n",
    "      df.companyId.value_counts()[df.companyId.value_counts()==df.companyId.value_counts().min()].index[0], \"etc.\")\n",
    "# There are multiple companies with only one job posting in total (That's why it's etc.)"
   ]
  },
  {
   "cell_type": "code",
   "execution_count": 16,
   "metadata": {
    "scrolled": true
   },
   "outputs": [
    {
     "name": "stdout",
     "output_type": "stream",
     "text": [
      "Largest and smallest number of postings of jobs:  102 and 1\n",
      "Job with largest number of postings:  job0210510\n",
      "Job with smallest number of postings:  job0598462 etc.\n"
     ]
    }
   ],
   "source": [
    "print(\"Largest and smallest number of postings of jobs: \", df.jobId.value_counts().max(), \"and\", df.jobId.value_counts().min())\n",
    "print(\"Job with largest number of postings: \", \n",
    "      df.jobId.value_counts()[df.jobId.value_counts()==df.jobId.value_counts().max()].index[0])\n",
    "print(\"Job with smallest number of postings: \", \n",
    "      df.jobId.value_counts()[df.jobId.value_counts()==df.jobId.value_counts().min()].index[0], \"etc.\")"
   ]
  },
  {
   "cell_type": "code",
   "execution_count": 17,
   "metadata": {},
   "outputs": [
    {
     "data": {
      "text/plain": [
       "0"
      ]
     },
     "execution_count": 17,
     "metadata": {},
     "output_type": "execute_result"
    }
   ],
   "source": [
    "# No missing value\n",
    "len(df[df.companyId.isnull()])"
   ]
  },
  {
   "cell_type": "code",
   "execution_count": 18,
   "metadata": {},
   "outputs": [
    {
     "data": {
      "text/plain": [
       "0"
      ]
     },
     "execution_count": 18,
     "metadata": {},
     "output_type": "execute_result"
    }
   ],
   "source": [
    "# No missing value\n",
    "len(df[df.jobId.isnull()])"
   ]
  },
  {
   "cell_type": "markdown",
   "metadata": {},
   "source": [
    "#### Country"
   ]
  },
  {
   "cell_type": "code",
   "execution_count": 19,
   "metadata": {
    "scrolled": true
   },
   "outputs": [
    {
     "data": {
      "text/plain": [
       "US    11547904\n",
       "DE     1925795\n",
       "CA     1112336\n",
       "Name: country, dtype: int64"
      ]
     },
     "execution_count": 19,
     "metadata": {},
     "output_type": "execute_result"
    }
   ],
   "source": [
    "# United States, Germany, Canada\n",
    "df.country.value_counts()"
   ]
  },
  {
   "cell_type": "code",
   "execution_count": 20,
   "metadata": {},
   "outputs": [
    {
     "data": {
      "text/plain": [
       "0"
      ]
     },
     "execution_count": 20,
     "metadata": {},
     "output_type": "execute_result"
    }
   ],
   "source": [
    "# No missing value\n",
    "len(df[df.country.isnull()])"
   ]
  },
  {
   "cell_type": "markdown",
   "metadata": {},
   "source": [
    "#### stateProvince and city"
   ]
  },
  {
   "cell_type": "code",
   "execution_count": 21,
   "metadata": {},
   "outputs": [
    {
     "data": {
      "text/plain": [
       "0"
      ]
     },
     "execution_count": 21,
     "metadata": {},
     "output_type": "execute_result"
    }
   ],
   "source": [
    "# No missing value\n",
    "len(df[df.stateProvince.isnull()])"
   ]
  },
  {
   "cell_type": "code",
   "execution_count": 22,
   "metadata": {
    "collapsed": true
   },
   "outputs": [
    {
     "data": {
      "text/plain": [
       "['CA',\n",
       " 'TX',\n",
       " 'FL',\n",
       " 'NY',\n",
       " 'ON',\n",
       " 'IL',\n",
       " 'PA',\n",
       " 'OH',\n",
       " 'VA',\n",
       " 'NC',\n",
       " 'NW',\n",
       " 'GA',\n",
       " 'MA',\n",
       " 'BY',\n",
       " 'MI',\n",
       " 'NJ',\n",
       " 'BW',\n",
       " 'WA',\n",
       " 'MD',\n",
       " 'CO',\n",
       " 'IN',\n",
       " 'MN',\n",
       " 'AZ',\n",
       " 'WI',\n",
       " 'MO',\n",
       " 'TN',\n",
       " 'QC',\n",
       " 'BC',\n",
       " 'SC',\n",
       " 'HE',\n",
       " 'BE',\n",
       " 'CT',\n",
       " 'OR',\n",
       " 'KY',\n",
       " 'AL',\n",
       " 'NI',\n",
       " 'UNKNOWN',\n",
       " 'AB',\n",
       " 'OK',\n",
       " 'LA',\n",
       " 'IA',\n",
       " 'UT',\n",
       " 'KS',\n",
       " 'NV',\n",
       " 'SN',\n",
       " 'HH',\n",
       " 'DC',\n",
       " 'AR',\n",
       " 'NE',\n",
       " 'NH',\n",
       " 'RP',\n",
       " 'MS',\n",
       " 'NM',\n",
       " 'WV',\n",
       " 'SH',\n",
       " 'ME',\n",
       " 'ID',\n",
       " 'RI',\n",
       " 'HI',\n",
       " 'TH',\n",
       " 'DE',\n",
       " 'ST',\n",
       " 'BB',\n",
       " 'ND',\n",
       " 'MT',\n",
       " 'SD',\n",
       " 'MV',\n",
       " 'SK',\n",
       " 'VT',\n",
       " 'MB',\n",
       " 'HB',\n",
       " 'AK',\n",
       " 'NS',\n",
       " 'WY',\n",
       " 'NB',\n",
       " 'SL',\n",
       " 'NL',\n",
       " 'PR',\n",
       " 'PE',\n",
       " 'YT',\n",
       " 'NT',\n",
       " 'VI',\n",
       " 'GU',\n",
       " 'NU',\n",
       " 'MP',\n",
       " 'AS',\n",
       " 'UM']"
      ]
     },
     "execution_count": 22,
     "metadata": {},
     "output_type": "execute_result"
    }
   ],
   "source": [
    "df.stateProvince.value_counts().index.tolist()"
   ]
  },
  {
   "cell_type": "markdown",
   "metadata": {},
   "source": [
    "While there is no explicit \"null\" values, we can see there are \"UNKNOWN\" values which are equivalent to null"
   ]
  },
  {
   "cell_type": "code",
   "execution_count": 23,
   "metadata": {},
   "outputs": [
    {
     "data": {
      "text/plain": [
       "US    70919\n",
       "DE    38795\n",
       "CA     8719\n",
       "Name: country, dtype: int64"
      ]
     },
     "execution_count": 23,
     "metadata": {},
     "output_type": "execute_result"
    }
   ],
   "source": [
    "# Number of rows that have missing information about states in each country\n",
    "df[df.stateProvince==\"UNKNOWN\"].country.value_counts()"
   ]
  },
  {
   "cell_type": "code",
   "execution_count": 24,
   "metadata": {
    "scrolled": true
   },
   "outputs": [
    {
     "data": {
      "text/html": [
       "<div>\n",
       "<style>\n",
       "    .dataframe thead tr:only-child th {\n",
       "        text-align: right;\n",
       "    }\n",
       "\n",
       "    .dataframe thead th {\n",
       "        text-align: left;\n",
       "    }\n",
       "\n",
       "    .dataframe tbody tr th {\n",
       "        vertical-align: top;\n",
       "    }\n",
       "</style>\n",
       "<table border=\"1\" class=\"dataframe\">\n",
       "  <thead>\n",
       "    <tr style=\"text-align: right;\">\n",
       "      <th></th>\n",
       "      <th>date</th>\n",
       "      <th>companyId</th>\n",
       "      <th>jobId</th>\n",
       "      <th>country</th>\n",
       "      <th>stateProvince</th>\n",
       "      <th>city</th>\n",
       "      <th>avgOverallRating</th>\n",
       "      <th>numReviews</th>\n",
       "      <th>industry</th>\n",
       "      <th>normTitle</th>\n",
       "      <th>...</th>\n",
       "      <th>experienceRequired</th>\n",
       "      <th>estimatedSalary</th>\n",
       "      <th>salaryCurrency</th>\n",
       "      <th>jobLanguage</th>\n",
       "      <th>supervisingJob</th>\n",
       "      <th>licenseRequiredJob</th>\n",
       "      <th>educationRequirements</th>\n",
       "      <th>jobAgeDays</th>\n",
       "      <th>clicks</th>\n",
       "      <th>localClicks</th>\n",
       "    </tr>\n",
       "  </thead>\n",
       "  <tbody>\n",
       "    <tr>\n",
       "      <th>156</th>\n",
       "      <td>2016-11-01</td>\n",
       "      <td>company00195</td>\n",
       "      <td>job0000209</td>\n",
       "      <td>US</td>\n",
       "      <td>UNKNOWN</td>\n",
       "      <td>NaN</td>\n",
       "      <td>0.0</td>\n",
       "      <td>NaN</td>\n",
       "      <td>NaN</td>\n",
       "      <td>software test engineer</td>\n",
       "      <td>...</td>\n",
       "      <td>4.0</td>\n",
       "      <td>99400</td>\n",
       "      <td>NaN</td>\n",
       "      <td>EN</td>\n",
       "      <td>0.0</td>\n",
       "      <td>0.0</td>\n",
       "      <td>Higher Education</td>\n",
       "      <td>98</td>\n",
       "      <td>47</td>\n",
       "      <td>0</td>\n",
       "    </tr>\n",
       "    <tr>\n",
       "      <th>157</th>\n",
       "      <td>2016-11-02</td>\n",
       "      <td>company00195</td>\n",
       "      <td>job0000209</td>\n",
       "      <td>US</td>\n",
       "      <td>UNKNOWN</td>\n",
       "      <td>NaN</td>\n",
       "      <td>0.0</td>\n",
       "      <td>NaN</td>\n",
       "      <td>NaN</td>\n",
       "      <td>software test engineer</td>\n",
       "      <td>...</td>\n",
       "      <td>4.0</td>\n",
       "      <td>99400</td>\n",
       "      <td>NaN</td>\n",
       "      <td>EN</td>\n",
       "      <td>0.0</td>\n",
       "      <td>0.0</td>\n",
       "      <td>Higher Education</td>\n",
       "      <td>99</td>\n",
       "      <td>27</td>\n",
       "      <td>4</td>\n",
       "    </tr>\n",
       "    <tr>\n",
       "      <th>158</th>\n",
       "      <td>2016-11-03</td>\n",
       "      <td>company00195</td>\n",
       "      <td>job0000209</td>\n",
       "      <td>US</td>\n",
       "      <td>UNKNOWN</td>\n",
       "      <td>NaN</td>\n",
       "      <td>0.0</td>\n",
       "      <td>NaN</td>\n",
       "      <td>NaN</td>\n",
       "      <td>software test engineer</td>\n",
       "      <td>...</td>\n",
       "      <td>4.0</td>\n",
       "      <td>99400</td>\n",
       "      <td>NaN</td>\n",
       "      <td>EN</td>\n",
       "      <td>0.0</td>\n",
       "      <td>0.0</td>\n",
       "      <td>Higher Education</td>\n",
       "      <td>100</td>\n",
       "      <td>16</td>\n",
       "      <td>0</td>\n",
       "    </tr>\n",
       "    <tr>\n",
       "      <th>687</th>\n",
       "      <td>2016-11-01</td>\n",
       "      <td>company00622</td>\n",
       "      <td>job0000686</td>\n",
       "      <td>US</td>\n",
       "      <td>UNKNOWN</td>\n",
       "      <td>NaN</td>\n",
       "      <td>4.2</td>\n",
       "      <td>55.0</td>\n",
       "      <td>NaN</td>\n",
       "      <td>member services representative</td>\n",
       "      <td>...</td>\n",
       "      <td>3.0</td>\n",
       "      <td>30800</td>\n",
       "      <td>NaN</td>\n",
       "      <td>EN</td>\n",
       "      <td>0.0</td>\n",
       "      <td>0.0</td>\n",
       "      <td>High School</td>\n",
       "      <td>95</td>\n",
       "      <td>24</td>\n",
       "      <td>3</td>\n",
       "    </tr>\n",
       "    <tr>\n",
       "      <th>688</th>\n",
       "      <td>2016-11-02</td>\n",
       "      <td>company00622</td>\n",
       "      <td>job0000686</td>\n",
       "      <td>US</td>\n",
       "      <td>UNKNOWN</td>\n",
       "      <td>NaN</td>\n",
       "      <td>4.2</td>\n",
       "      <td>55.0</td>\n",
       "      <td>NaN</td>\n",
       "      <td>member services representative</td>\n",
       "      <td>...</td>\n",
       "      <td>3.0</td>\n",
       "      <td>30800</td>\n",
       "      <td>NaN</td>\n",
       "      <td>EN</td>\n",
       "      <td>0.0</td>\n",
       "      <td>0.0</td>\n",
       "      <td>High School</td>\n",
       "      <td>96</td>\n",
       "      <td>12</td>\n",
       "      <td>0</td>\n",
       "    </tr>\n",
       "    <tr>\n",
       "      <th>689</th>\n",
       "      <td>2016-11-03</td>\n",
       "      <td>company00622</td>\n",
       "      <td>job0000686</td>\n",
       "      <td>US</td>\n",
       "      <td>UNKNOWN</td>\n",
       "      <td>NaN</td>\n",
       "      <td>4.2</td>\n",
       "      <td>55.0</td>\n",
       "      <td>NaN</td>\n",
       "      <td>member services representative</td>\n",
       "      <td>...</td>\n",
       "      <td>3.0</td>\n",
       "      <td>30800</td>\n",
       "      <td>NaN</td>\n",
       "      <td>EN</td>\n",
       "      <td>0.0</td>\n",
       "      <td>0.0</td>\n",
       "      <td>High School</td>\n",
       "      <td>97</td>\n",
       "      <td>23</td>\n",
       "      <td>0</td>\n",
       "    </tr>\n",
       "    <tr>\n",
       "      <th>690</th>\n",
       "      <td>2016-11-04</td>\n",
       "      <td>company00622</td>\n",
       "      <td>job0000686</td>\n",
       "      <td>US</td>\n",
       "      <td>UNKNOWN</td>\n",
       "      <td>NaN</td>\n",
       "      <td>4.2</td>\n",
       "      <td>55.0</td>\n",
       "      <td>NaN</td>\n",
       "      <td>member services representative</td>\n",
       "      <td>...</td>\n",
       "      <td>3.0</td>\n",
       "      <td>30800</td>\n",
       "      <td>NaN</td>\n",
       "      <td>EN</td>\n",
       "      <td>0.0</td>\n",
       "      <td>0.0</td>\n",
       "      <td>High School</td>\n",
       "      <td>98</td>\n",
       "      <td>28</td>\n",
       "      <td>0</td>\n",
       "    </tr>\n",
       "    <tr>\n",
       "      <th>896</th>\n",
       "      <td>2016-11-01</td>\n",
       "      <td>company00736</td>\n",
       "      <td>job0000804</td>\n",
       "      <td>US</td>\n",
       "      <td>UNKNOWN</td>\n",
       "      <td>NaN</td>\n",
       "      <td>3.1</td>\n",
       "      <td>161.0</td>\n",
       "      <td>INDUSTRIAL_MANUFACTURING</td>\n",
       "      <td>journeyman plumber</td>\n",
       "      <td>...</td>\n",
       "      <td>NaN</td>\n",
       "      <td>48300</td>\n",
       "      <td>USD</td>\n",
       "      <td>EN</td>\n",
       "      <td>0.0</td>\n",
       "      <td>1.0</td>\n",
       "      <td>None</td>\n",
       "      <td>95</td>\n",
       "      <td>12</td>\n",
       "      <td>3</td>\n",
       "    </tr>\n",
       "    <tr>\n",
       "      <th>897</th>\n",
       "      <td>2016-11-02</td>\n",
       "      <td>company00736</td>\n",
       "      <td>job0000804</td>\n",
       "      <td>US</td>\n",
       "      <td>UNKNOWN</td>\n",
       "      <td>NaN</td>\n",
       "      <td>3.1</td>\n",
       "      <td>161.0</td>\n",
       "      <td>INDUSTRIAL_MANUFACTURING</td>\n",
       "      <td>journeyman plumber</td>\n",
       "      <td>...</td>\n",
       "      <td>NaN</td>\n",
       "      <td>48300</td>\n",
       "      <td>USD</td>\n",
       "      <td>EN</td>\n",
       "      <td>0.0</td>\n",
       "      <td>1.0</td>\n",
       "      <td>None</td>\n",
       "      <td>96</td>\n",
       "      <td>12</td>\n",
       "      <td>2</td>\n",
       "    </tr>\n",
       "    <tr>\n",
       "      <th>898</th>\n",
       "      <td>2016-11-03</td>\n",
       "      <td>company00736</td>\n",
       "      <td>job0000804</td>\n",
       "      <td>US</td>\n",
       "      <td>UNKNOWN</td>\n",
       "      <td>NaN</td>\n",
       "      <td>3.1</td>\n",
       "      <td>161.0</td>\n",
       "      <td>INDUSTRIAL_MANUFACTURING</td>\n",
       "      <td>journeyman plumber</td>\n",
       "      <td>...</td>\n",
       "      <td>NaN</td>\n",
       "      <td>48300</td>\n",
       "      <td>USD</td>\n",
       "      <td>EN</td>\n",
       "      <td>0.0</td>\n",
       "      <td>1.0</td>\n",
       "      <td>None</td>\n",
       "      <td>97</td>\n",
       "      <td>35</td>\n",
       "      <td>15</td>\n",
       "    </tr>\n",
       "    <tr>\n",
       "      <th>899</th>\n",
       "      <td>2016-11-04</td>\n",
       "      <td>company00736</td>\n",
       "      <td>job0000804</td>\n",
       "      <td>US</td>\n",
       "      <td>UNKNOWN</td>\n",
       "      <td>NaN</td>\n",
       "      <td>3.1</td>\n",
       "      <td>161.0</td>\n",
       "      <td>INDUSTRIAL_MANUFACTURING</td>\n",
       "      <td>journeyman plumber</td>\n",
       "      <td>...</td>\n",
       "      <td>NaN</td>\n",
       "      <td>48300</td>\n",
       "      <td>USD</td>\n",
       "      <td>EN</td>\n",
       "      <td>0.0</td>\n",
       "      <td>1.0</td>\n",
       "      <td>None</td>\n",
       "      <td>98</td>\n",
       "      <td>29</td>\n",
       "      <td>1</td>\n",
       "    </tr>\n",
       "    <tr>\n",
       "      <th>900</th>\n",
       "      <td>2016-11-05</td>\n",
       "      <td>company00736</td>\n",
       "      <td>job0000804</td>\n",
       "      <td>US</td>\n",
       "      <td>UNKNOWN</td>\n",
       "      <td>NaN</td>\n",
       "      <td>3.1</td>\n",
       "      <td>161.0</td>\n",
       "      <td>INDUSTRIAL_MANUFACTURING</td>\n",
       "      <td>journeyman plumber</td>\n",
       "      <td>...</td>\n",
       "      <td>NaN</td>\n",
       "      <td>48300</td>\n",
       "      <td>USD</td>\n",
       "      <td>EN</td>\n",
       "      <td>0.0</td>\n",
       "      <td>1.0</td>\n",
       "      <td>None</td>\n",
       "      <td>99</td>\n",
       "      <td>7</td>\n",
       "      <td>2</td>\n",
       "    </tr>\n",
       "    <tr>\n",
       "      <th>901</th>\n",
       "      <td>2016-11-06</td>\n",
       "      <td>company00736</td>\n",
       "      <td>job0000804</td>\n",
       "      <td>US</td>\n",
       "      <td>UNKNOWN</td>\n",
       "      <td>NaN</td>\n",
       "      <td>3.1</td>\n",
       "      <td>161.0</td>\n",
       "      <td>INDUSTRIAL_MANUFACTURING</td>\n",
       "      <td>journeyman plumber</td>\n",
       "      <td>...</td>\n",
       "      <td>NaN</td>\n",
       "      <td>48300</td>\n",
       "      <td>USD</td>\n",
       "      <td>EN</td>\n",
       "      <td>0.0</td>\n",
       "      <td>1.0</td>\n",
       "      <td>None</td>\n",
       "      <td>100</td>\n",
       "      <td>19</td>\n",
       "      <td>0</td>\n",
       "    </tr>\n",
       "    <tr>\n",
       "      <th>1048</th>\n",
       "      <td>2016-11-01</td>\n",
       "      <td>company00810</td>\n",
       "      <td>job0000891</td>\n",
       "      <td>US</td>\n",
       "      <td>UNKNOWN</td>\n",
       "      <td>NaN</td>\n",
       "      <td>0.0</td>\n",
       "      <td>NaN</td>\n",
       "      <td>NaN</td>\n",
       "      <td>technical consultant</td>\n",
       "      <td>...</td>\n",
       "      <td>5.0</td>\n",
       "      <td>92400</td>\n",
       "      <td>NaN</td>\n",
       "      <td>EN</td>\n",
       "      <td>0.0</td>\n",
       "      <td>0.0</td>\n",
       "      <td>None</td>\n",
       "      <td>93</td>\n",
       "      <td>17</td>\n",
       "      <td>0</td>\n",
       "    </tr>\n",
       "    <tr>\n",
       "      <th>1049</th>\n",
       "      <td>2016-11-02</td>\n",
       "      <td>company00810</td>\n",
       "      <td>job0000891</td>\n",
       "      <td>US</td>\n",
       "      <td>UNKNOWN</td>\n",
       "      <td>NaN</td>\n",
       "      <td>0.0</td>\n",
       "      <td>NaN</td>\n",
       "      <td>NaN</td>\n",
       "      <td>technical consultant</td>\n",
       "      <td>...</td>\n",
       "      <td>5.0</td>\n",
       "      <td>92400</td>\n",
       "      <td>NaN</td>\n",
       "      <td>EN</td>\n",
       "      <td>0.0</td>\n",
       "      <td>0.0</td>\n",
       "      <td>None</td>\n",
       "      <td>94</td>\n",
       "      <td>20</td>\n",
       "      <td>2</td>\n",
       "    </tr>\n",
       "    <tr>\n",
       "      <th>1121</th>\n",
       "      <td>2016-11-01</td>\n",
       "      <td>company00845</td>\n",
       "      <td>job0000935</td>\n",
       "      <td>US</td>\n",
       "      <td>UNKNOWN</td>\n",
       "      <td>NaN</td>\n",
       "      <td>0.0</td>\n",
       "      <td>NaN</td>\n",
       "      <td>NaN</td>\n",
       "      <td>mechanic</td>\n",
       "      <td>...</td>\n",
       "      <td>NaN</td>\n",
       "      <td>37500</td>\n",
       "      <td>NaN</td>\n",
       "      <td>EN</td>\n",
       "      <td>0.0</td>\n",
       "      <td>0.0</td>\n",
       "      <td>None</td>\n",
       "      <td>93</td>\n",
       "      <td>39</td>\n",
       "      <td>2</td>\n",
       "    </tr>\n",
       "    <tr>\n",
       "      <th>1122</th>\n",
       "      <td>2016-11-02</td>\n",
       "      <td>company00845</td>\n",
       "      <td>job0000935</td>\n",
       "      <td>US</td>\n",
       "      <td>UNKNOWN</td>\n",
       "      <td>NaN</td>\n",
       "      <td>0.0</td>\n",
       "      <td>NaN</td>\n",
       "      <td>NaN</td>\n",
       "      <td>mechanic</td>\n",
       "      <td>...</td>\n",
       "      <td>NaN</td>\n",
       "      <td>37500</td>\n",
       "      <td>NaN</td>\n",
       "      <td>EN</td>\n",
       "      <td>0.0</td>\n",
       "      <td>0.0</td>\n",
       "      <td>None</td>\n",
       "      <td>94</td>\n",
       "      <td>35</td>\n",
       "      <td>6</td>\n",
       "    </tr>\n",
       "    <tr>\n",
       "      <th>1123</th>\n",
       "      <td>2016-11-03</td>\n",
       "      <td>company00845</td>\n",
       "      <td>job0000935</td>\n",
       "      <td>US</td>\n",
       "      <td>UNKNOWN</td>\n",
       "      <td>NaN</td>\n",
       "      <td>0.0</td>\n",
       "      <td>NaN</td>\n",
       "      <td>NaN</td>\n",
       "      <td>mechanic</td>\n",
       "      <td>...</td>\n",
       "      <td>NaN</td>\n",
       "      <td>37500</td>\n",
       "      <td>NaN</td>\n",
       "      <td>EN</td>\n",
       "      <td>0.0</td>\n",
       "      <td>0.0</td>\n",
       "      <td>None</td>\n",
       "      <td>95</td>\n",
       "      <td>46</td>\n",
       "      <td>10</td>\n",
       "    </tr>\n",
       "    <tr>\n",
       "      <th>1124</th>\n",
       "      <td>2016-11-04</td>\n",
       "      <td>company00845</td>\n",
       "      <td>job0000935</td>\n",
       "      <td>US</td>\n",
       "      <td>UNKNOWN</td>\n",
       "      <td>NaN</td>\n",
       "      <td>0.0</td>\n",
       "      <td>NaN</td>\n",
       "      <td>NaN</td>\n",
       "      <td>mechanic</td>\n",
       "      <td>...</td>\n",
       "      <td>NaN</td>\n",
       "      <td>37500</td>\n",
       "      <td>NaN</td>\n",
       "      <td>EN</td>\n",
       "      <td>0.0</td>\n",
       "      <td>0.0</td>\n",
       "      <td>None</td>\n",
       "      <td>96</td>\n",
       "      <td>30</td>\n",
       "      <td>3</td>\n",
       "    </tr>\n",
       "    <tr>\n",
       "      <th>1125</th>\n",
       "      <td>2016-11-05</td>\n",
       "      <td>company00845</td>\n",
       "      <td>job0000935</td>\n",
       "      <td>US</td>\n",
       "      <td>UNKNOWN</td>\n",
       "      <td>NaN</td>\n",
       "      <td>0.0</td>\n",
       "      <td>NaN</td>\n",
       "      <td>NaN</td>\n",
       "      <td>mechanic</td>\n",
       "      <td>...</td>\n",
       "      <td>NaN</td>\n",
       "      <td>37500</td>\n",
       "      <td>NaN</td>\n",
       "      <td>EN</td>\n",
       "      <td>0.0</td>\n",
       "      <td>0.0</td>\n",
       "      <td>None</td>\n",
       "      <td>97</td>\n",
       "      <td>37</td>\n",
       "      <td>0</td>\n",
       "    </tr>\n",
       "    <tr>\n",
       "      <th>1126</th>\n",
       "      <td>2016-11-06</td>\n",
       "      <td>company00845</td>\n",
       "      <td>job0000935</td>\n",
       "      <td>US</td>\n",
       "      <td>UNKNOWN</td>\n",
       "      <td>NaN</td>\n",
       "      <td>0.0</td>\n",
       "      <td>NaN</td>\n",
       "      <td>NaN</td>\n",
       "      <td>mechanic</td>\n",
       "      <td>...</td>\n",
       "      <td>NaN</td>\n",
       "      <td>37500</td>\n",
       "      <td>NaN</td>\n",
       "      <td>EN</td>\n",
       "      <td>0.0</td>\n",
       "      <td>0.0</td>\n",
       "      <td>None</td>\n",
       "      <td>98</td>\n",
       "      <td>27</td>\n",
       "      <td>3</td>\n",
       "    </tr>\n",
       "    <tr>\n",
       "      <th>1127</th>\n",
       "      <td>2016-11-07</td>\n",
       "      <td>company00845</td>\n",
       "      <td>job0000935</td>\n",
       "      <td>US</td>\n",
       "      <td>UNKNOWN</td>\n",
       "      <td>NaN</td>\n",
       "      <td>0.0</td>\n",
       "      <td>NaN</td>\n",
       "      <td>NaN</td>\n",
       "      <td>mechanic</td>\n",
       "      <td>...</td>\n",
       "      <td>NaN</td>\n",
       "      <td>37500</td>\n",
       "      <td>NaN</td>\n",
       "      <td>EN</td>\n",
       "      <td>0.0</td>\n",
       "      <td>0.0</td>\n",
       "      <td>None</td>\n",
       "      <td>99</td>\n",
       "      <td>20</td>\n",
       "      <td>0</td>\n",
       "    </tr>\n",
       "    <tr>\n",
       "      <th>1286</th>\n",
       "      <td>2016-11-01</td>\n",
       "      <td>company00906</td>\n",
       "      <td>job0001005</td>\n",
       "      <td>US</td>\n",
       "      <td>UNKNOWN</td>\n",
       "      <td>NaN</td>\n",
       "      <td>0.0</td>\n",
       "      <td>NaN</td>\n",
       "      <td>NaN</td>\n",
       "      <td>electrical engineer</td>\n",
       "      <td>...</td>\n",
       "      <td>NaN</td>\n",
       "      <td>58200</td>\n",
       "      <td>NaN</td>\n",
       "      <td>EN</td>\n",
       "      <td>0.0</td>\n",
       "      <td>1.0</td>\n",
       "      <td>None</td>\n",
       "      <td>92</td>\n",
       "      <td>28</td>\n",
       "      <td>0</td>\n",
       "    </tr>\n",
       "    <tr>\n",
       "      <th>1287</th>\n",
       "      <td>2016-11-02</td>\n",
       "      <td>company00906</td>\n",
       "      <td>job0001005</td>\n",
       "      <td>US</td>\n",
       "      <td>UNKNOWN</td>\n",
       "      <td>NaN</td>\n",
       "      <td>0.0</td>\n",
       "      <td>NaN</td>\n",
       "      <td>NaN</td>\n",
       "      <td>electrical engineer</td>\n",
       "      <td>...</td>\n",
       "      <td>NaN</td>\n",
       "      <td>58200</td>\n",
       "      <td>NaN</td>\n",
       "      <td>EN</td>\n",
       "      <td>0.0</td>\n",
       "      <td>1.0</td>\n",
       "      <td>None</td>\n",
       "      <td>93</td>\n",
       "      <td>23</td>\n",
       "      <td>0</td>\n",
       "    </tr>\n",
       "    <tr>\n",
       "      <th>1288</th>\n",
       "      <td>2016-11-03</td>\n",
       "      <td>company00906</td>\n",
       "      <td>job0001005</td>\n",
       "      <td>US</td>\n",
       "      <td>UNKNOWN</td>\n",
       "      <td>NaN</td>\n",
       "      <td>0.0</td>\n",
       "      <td>NaN</td>\n",
       "      <td>NaN</td>\n",
       "      <td>electrical engineer</td>\n",
       "      <td>...</td>\n",
       "      <td>NaN</td>\n",
       "      <td>58200</td>\n",
       "      <td>NaN</td>\n",
       "      <td>EN</td>\n",
       "      <td>0.0</td>\n",
       "      <td>1.0</td>\n",
       "      <td>None</td>\n",
       "      <td>94</td>\n",
       "      <td>11</td>\n",
       "      <td>0</td>\n",
       "    </tr>\n",
       "    <tr>\n",
       "      <th>1289</th>\n",
       "      <td>2016-11-04</td>\n",
       "      <td>company00906</td>\n",
       "      <td>job0001005</td>\n",
       "      <td>US</td>\n",
       "      <td>UNKNOWN</td>\n",
       "      <td>NaN</td>\n",
       "      <td>0.0</td>\n",
       "      <td>NaN</td>\n",
       "      <td>NaN</td>\n",
       "      <td>electrical engineer</td>\n",
       "      <td>...</td>\n",
       "      <td>NaN</td>\n",
       "      <td>58200</td>\n",
       "      <td>NaN</td>\n",
       "      <td>EN</td>\n",
       "      <td>0.0</td>\n",
       "      <td>1.0</td>\n",
       "      <td>None</td>\n",
       "      <td>95</td>\n",
       "      <td>18</td>\n",
       "      <td>0</td>\n",
       "    </tr>\n",
       "    <tr>\n",
       "      <th>1290</th>\n",
       "      <td>2016-11-05</td>\n",
       "      <td>company00906</td>\n",
       "      <td>job0001005</td>\n",
       "      <td>US</td>\n",
       "      <td>UNKNOWN</td>\n",
       "      <td>NaN</td>\n",
       "      <td>0.0</td>\n",
       "      <td>NaN</td>\n",
       "      <td>NaN</td>\n",
       "      <td>electrical engineer</td>\n",
       "      <td>...</td>\n",
       "      <td>NaN</td>\n",
       "      <td>58200</td>\n",
       "      <td>NaN</td>\n",
       "      <td>EN</td>\n",
       "      <td>0.0</td>\n",
       "      <td>1.0</td>\n",
       "      <td>None</td>\n",
       "      <td>96</td>\n",
       "      <td>22</td>\n",
       "      <td>0</td>\n",
       "    </tr>\n",
       "    <tr>\n",
       "      <th>1291</th>\n",
       "      <td>2016-11-06</td>\n",
       "      <td>company00906</td>\n",
       "      <td>job0001005</td>\n",
       "      <td>US</td>\n",
       "      <td>UNKNOWN</td>\n",
       "      <td>NaN</td>\n",
       "      <td>0.0</td>\n",
       "      <td>NaN</td>\n",
       "      <td>NaN</td>\n",
       "      <td>electrical engineer</td>\n",
       "      <td>...</td>\n",
       "      <td>NaN</td>\n",
       "      <td>58200</td>\n",
       "      <td>NaN</td>\n",
       "      <td>EN</td>\n",
       "      <td>0.0</td>\n",
       "      <td>1.0</td>\n",
       "      <td>None</td>\n",
       "      <td>97</td>\n",
       "      <td>9</td>\n",
       "      <td>0</td>\n",
       "    </tr>\n",
       "    <tr>\n",
       "      <th>1292</th>\n",
       "      <td>2016-11-07</td>\n",
       "      <td>company00906</td>\n",
       "      <td>job0001005</td>\n",
       "      <td>US</td>\n",
       "      <td>UNKNOWN</td>\n",
       "      <td>NaN</td>\n",
       "      <td>0.0</td>\n",
       "      <td>NaN</td>\n",
       "      <td>NaN</td>\n",
       "      <td>electrical engineer</td>\n",
       "      <td>...</td>\n",
       "      <td>NaN</td>\n",
       "      <td>58200</td>\n",
       "      <td>NaN</td>\n",
       "      <td>EN</td>\n",
       "      <td>0.0</td>\n",
       "      <td>1.0</td>\n",
       "      <td>None</td>\n",
       "      <td>98</td>\n",
       "      <td>26</td>\n",
       "      <td>0</td>\n",
       "    </tr>\n",
       "    <tr>\n",
       "      <th>2570</th>\n",
       "      <td>2016-11-01</td>\n",
       "      <td>company01268</td>\n",
       "      <td>job0001445</td>\n",
       "      <td>DE</td>\n",
       "      <td>UNKNOWN</td>\n",
       "      <td>NaN</td>\n",
       "      <td>0.0</td>\n",
       "      <td>NaN</td>\n",
       "      <td>NaN</td>\n",
       "      <td>berufskraftfahrer</td>\n",
       "      <td>...</td>\n",
       "      <td>NaN</td>\n",
       "      <td>21500</td>\n",
       "      <td>NaN</td>\n",
       "      <td>DE</td>\n",
       "      <td>NaN</td>\n",
       "      <td>NaN</td>\n",
       "      <td>NaN</td>\n",
       "      <td>90</td>\n",
       "      <td>9</td>\n",
       "      <td>1</td>\n",
       "    </tr>\n",
       "    <tr>\n",
       "      <th>...</th>\n",
       "      <td>...</td>\n",
       "      <td>...</td>\n",
       "      <td>...</td>\n",
       "      <td>...</td>\n",
       "      <td>...</td>\n",
       "      <td>...</td>\n",
       "      <td>...</td>\n",
       "      <td>...</td>\n",
       "      <td>...</td>\n",
       "      <td>...</td>\n",
       "      <td>...</td>\n",
       "      <td>...</td>\n",
       "      <td>...</td>\n",
       "      <td>...</td>\n",
       "      <td>...</td>\n",
       "      <td>...</td>\n",
       "      <td>...</td>\n",
       "      <td>...</td>\n",
       "      <td>...</td>\n",
       "      <td>...</td>\n",
       "      <td>...</td>\n",
       "    </tr>\n",
       "    <tr>\n",
       "      <th>14582582</th>\n",
       "      <td>2017-11-28</td>\n",
       "      <td>company01237</td>\n",
       "      <td>job1036379</td>\n",
       "      <td>CA</td>\n",
       "      <td>UNKNOWN</td>\n",
       "      <td>NaN</td>\n",
       "      <td>4.2</td>\n",
       "      <td>NaN</td>\n",
       "      <td>NaN</td>\n",
       "      <td>development director</td>\n",
       "      <td>...</td>\n",
       "      <td>3.0</td>\n",
       "      <td>79900</td>\n",
       "      <td>NaN</td>\n",
       "      <td>EN</td>\n",
       "      <td>1.0</td>\n",
       "      <td>0.0</td>\n",
       "      <td>Higher Education</td>\n",
       "      <td>0</td>\n",
       "      <td>11</td>\n",
       "      <td>3</td>\n",
       "    </tr>\n",
       "    <tr>\n",
       "      <th>14582583</th>\n",
       "      <td>2017-11-29</td>\n",
       "      <td>company01237</td>\n",
       "      <td>job1036379</td>\n",
       "      <td>CA</td>\n",
       "      <td>UNKNOWN</td>\n",
       "      <td>NaN</td>\n",
       "      <td>4.2</td>\n",
       "      <td>NaN</td>\n",
       "      <td>NaN</td>\n",
       "      <td>development director</td>\n",
       "      <td>...</td>\n",
       "      <td>3.0</td>\n",
       "      <td>79900</td>\n",
       "      <td>NaN</td>\n",
       "      <td>EN</td>\n",
       "      <td>1.0</td>\n",
       "      <td>0.0</td>\n",
       "      <td>Higher Education</td>\n",
       "      <td>1</td>\n",
       "      <td>39</td>\n",
       "      <td>3</td>\n",
       "    </tr>\n",
       "    <tr>\n",
       "      <th>14582584</th>\n",
       "      <td>2017-11-30</td>\n",
       "      <td>company01237</td>\n",
       "      <td>job1036379</td>\n",
       "      <td>CA</td>\n",
       "      <td>UNKNOWN</td>\n",
       "      <td>NaN</td>\n",
       "      <td>4.2</td>\n",
       "      <td>NaN</td>\n",
       "      <td>NaN</td>\n",
       "      <td>development director</td>\n",
       "      <td>...</td>\n",
       "      <td>3.0</td>\n",
       "      <td>79900</td>\n",
       "      <td>NaN</td>\n",
       "      <td>EN</td>\n",
       "      <td>1.0</td>\n",
       "      <td>0.0</td>\n",
       "      <td>Higher Education</td>\n",
       "      <td>2</td>\n",
       "      <td>9</td>\n",
       "      <td>1</td>\n",
       "    </tr>\n",
       "    <tr>\n",
       "      <th>14583024</th>\n",
       "      <td>2017-11-29</td>\n",
       "      <td>company84874</td>\n",
       "      <td>job1036884</td>\n",
       "      <td>DE</td>\n",
       "      <td>UNKNOWN</td>\n",
       "      <td>NaN</td>\n",
       "      <td>0.0</td>\n",
       "      <td>NaN</td>\n",
       "      <td>NaN</td>\n",
       "      <td>testmanager</td>\n",
       "      <td>...</td>\n",
       "      <td>NaN</td>\n",
       "      <td>30200</td>\n",
       "      <td>NaN</td>\n",
       "      <td>DE</td>\n",
       "      <td>NaN</td>\n",
       "      <td>NaN</td>\n",
       "      <td>NaN</td>\n",
       "      <td>0</td>\n",
       "      <td>133</td>\n",
       "      <td>24</td>\n",
       "    </tr>\n",
       "    <tr>\n",
       "      <th>14583025</th>\n",
       "      <td>2017-11-30</td>\n",
       "      <td>company84874</td>\n",
       "      <td>job1036884</td>\n",
       "      <td>DE</td>\n",
       "      <td>UNKNOWN</td>\n",
       "      <td>NaN</td>\n",
       "      <td>0.0</td>\n",
       "      <td>NaN</td>\n",
       "      <td>NaN</td>\n",
       "      <td>testmanager</td>\n",
       "      <td>...</td>\n",
       "      <td>NaN</td>\n",
       "      <td>30200</td>\n",
       "      <td>NaN</td>\n",
       "      <td>DE</td>\n",
       "      <td>NaN</td>\n",
       "      <td>NaN</td>\n",
       "      <td>NaN</td>\n",
       "      <td>1</td>\n",
       "      <td>17</td>\n",
       "      <td>0</td>\n",
       "    </tr>\n",
       "    <tr>\n",
       "      <th>14583061</th>\n",
       "      <td>2017-11-29</td>\n",
       "      <td>company14785</td>\n",
       "      <td>job1036920</td>\n",
       "      <td>US</td>\n",
       "      <td>UNKNOWN</td>\n",
       "      <td>NaN</td>\n",
       "      <td>0.0</td>\n",
       "      <td>NaN</td>\n",
       "      <td>NaN</td>\n",
       "      <td>field service engineer</td>\n",
       "      <td>...</td>\n",
       "      <td>5.0</td>\n",
       "      <td>66600</td>\n",
       "      <td>NaN</td>\n",
       "      <td>EN</td>\n",
       "      <td>0.0</td>\n",
       "      <td>0.0</td>\n",
       "      <td>High School</td>\n",
       "      <td>0</td>\n",
       "      <td>59</td>\n",
       "      <td>7</td>\n",
       "    </tr>\n",
       "    <tr>\n",
       "      <th>14583062</th>\n",
       "      <td>2017-11-30</td>\n",
       "      <td>company14785</td>\n",
       "      <td>job1036920</td>\n",
       "      <td>US</td>\n",
       "      <td>UNKNOWN</td>\n",
       "      <td>NaN</td>\n",
       "      <td>0.0</td>\n",
       "      <td>NaN</td>\n",
       "      <td>NaN</td>\n",
       "      <td>field service engineer</td>\n",
       "      <td>...</td>\n",
       "      <td>5.0</td>\n",
       "      <td>66600</td>\n",
       "      <td>NaN</td>\n",
       "      <td>EN</td>\n",
       "      <td>0.0</td>\n",
       "      <td>0.0</td>\n",
       "      <td>High School</td>\n",
       "      <td>1</td>\n",
       "      <td>40</td>\n",
       "      <td>5</td>\n",
       "    </tr>\n",
       "    <tr>\n",
       "      <th>14583187</th>\n",
       "      <td>2017-11-29</td>\n",
       "      <td>company17688</td>\n",
       "      <td>job1037063</td>\n",
       "      <td>US</td>\n",
       "      <td>UNKNOWN</td>\n",
       "      <td>NaN</td>\n",
       "      <td>3.6</td>\n",
       "      <td>30.0</td>\n",
       "      <td>NaN</td>\n",
       "      <td>case manager</td>\n",
       "      <td>...</td>\n",
       "      <td>NaN</td>\n",
       "      <td>43800</td>\n",
       "      <td>USD</td>\n",
       "      <td>EN</td>\n",
       "      <td>0.0</td>\n",
       "      <td>1.0</td>\n",
       "      <td>Higher Education</td>\n",
       "      <td>0</td>\n",
       "      <td>39</td>\n",
       "      <td>4</td>\n",
       "    </tr>\n",
       "    <tr>\n",
       "      <th>14583332</th>\n",
       "      <td>2017-11-29</td>\n",
       "      <td>company179938</td>\n",
       "      <td>job1037235</td>\n",
       "      <td>DE</td>\n",
       "      <td>UNKNOWN</td>\n",
       "      <td>NaN</td>\n",
       "      <td>0.0</td>\n",
       "      <td>NaN</td>\n",
       "      <td>NaN</td>\n",
       "      <td>NaN</td>\n",
       "      <td>...</td>\n",
       "      <td>NaN</td>\n",
       "      <td>32800</td>\n",
       "      <td>NaN</td>\n",
       "      <td>DE</td>\n",
       "      <td>NaN</td>\n",
       "      <td>NaN</td>\n",
       "      <td>NaN</td>\n",
       "      <td>0</td>\n",
       "      <td>22</td>\n",
       "      <td>1</td>\n",
       "    </tr>\n",
       "    <tr>\n",
       "      <th>14583352</th>\n",
       "      <td>2017-11-29</td>\n",
       "      <td>company12489</td>\n",
       "      <td>job1037267</td>\n",
       "      <td>US</td>\n",
       "      <td>UNKNOWN</td>\n",
       "      <td>NaN</td>\n",
       "      <td>4.2</td>\n",
       "      <td>106.0</td>\n",
       "      <td>NaN</td>\n",
       "      <td>certified public accountant</td>\n",
       "      <td>...</td>\n",
       "      <td>NaN</td>\n",
       "      <td>81400</td>\n",
       "      <td>NaN</td>\n",
       "      <td>EN</td>\n",
       "      <td>0.0</td>\n",
       "      <td>0.0</td>\n",
       "      <td>None</td>\n",
       "      <td>0</td>\n",
       "      <td>243</td>\n",
       "      <td>12</td>\n",
       "    </tr>\n",
       "    <tr>\n",
       "      <th>14583353</th>\n",
       "      <td>2017-11-30</td>\n",
       "      <td>company12489</td>\n",
       "      <td>job1037267</td>\n",
       "      <td>US</td>\n",
       "      <td>UNKNOWN</td>\n",
       "      <td>NaN</td>\n",
       "      <td>4.2</td>\n",
       "      <td>106.0</td>\n",
       "      <td>NaN</td>\n",
       "      <td>certified public accountant</td>\n",
       "      <td>...</td>\n",
       "      <td>NaN</td>\n",
       "      <td>81400</td>\n",
       "      <td>NaN</td>\n",
       "      <td>EN</td>\n",
       "      <td>0.0</td>\n",
       "      <td>0.0</td>\n",
       "      <td>None</td>\n",
       "      <td>1</td>\n",
       "      <td>300</td>\n",
       "      <td>12</td>\n",
       "    </tr>\n",
       "    <tr>\n",
       "      <th>14584423</th>\n",
       "      <td>2017-11-29</td>\n",
       "      <td>company70223</td>\n",
       "      <td>job1038445</td>\n",
       "      <td>US</td>\n",
       "      <td>UNKNOWN</td>\n",
       "      <td>NaN</td>\n",
       "      <td>0.0</td>\n",
       "      <td>NaN</td>\n",
       "      <td>NaN</td>\n",
       "      <td>registered nurse</td>\n",
       "      <td>...</td>\n",
       "      <td>5.0</td>\n",
       "      <td>65000</td>\n",
       "      <td>NaN</td>\n",
       "      <td>EN</td>\n",
       "      <td>1.0</td>\n",
       "      <td>1.0</td>\n",
       "      <td>None</td>\n",
       "      <td>0</td>\n",
       "      <td>35</td>\n",
       "      <td>0</td>\n",
       "    </tr>\n",
       "    <tr>\n",
       "      <th>14584424</th>\n",
       "      <td>2017-11-30</td>\n",
       "      <td>company70223</td>\n",
       "      <td>job1038445</td>\n",
       "      <td>US</td>\n",
       "      <td>UNKNOWN</td>\n",
       "      <td>NaN</td>\n",
       "      <td>0.0</td>\n",
       "      <td>NaN</td>\n",
       "      <td>NaN</td>\n",
       "      <td>registered nurse</td>\n",
       "      <td>...</td>\n",
       "      <td>5.0</td>\n",
       "      <td>65000</td>\n",
       "      <td>NaN</td>\n",
       "      <td>EN</td>\n",
       "      <td>1.0</td>\n",
       "      <td>1.0</td>\n",
       "      <td>None</td>\n",
       "      <td>1</td>\n",
       "      <td>36</td>\n",
       "      <td>3</td>\n",
       "    </tr>\n",
       "    <tr>\n",
       "      <th>14584441</th>\n",
       "      <td>2017-11-29</td>\n",
       "      <td>company243755</td>\n",
       "      <td>job1038462</td>\n",
       "      <td>US</td>\n",
       "      <td>UNKNOWN</td>\n",
       "      <td>NaN</td>\n",
       "      <td>3.9</td>\n",
       "      <td>6.0</td>\n",
       "      <td>NaN</td>\n",
       "      <td>public relations intern</td>\n",
       "      <td>...</td>\n",
       "      <td>NaN</td>\n",
       "      <td>29900</td>\n",
       "      <td>NaN</td>\n",
       "      <td>EN</td>\n",
       "      <td>0.0</td>\n",
       "      <td>0.0</td>\n",
       "      <td>High School</td>\n",
       "      <td>0</td>\n",
       "      <td>69</td>\n",
       "      <td>6</td>\n",
       "    </tr>\n",
       "    <tr>\n",
       "      <th>14584442</th>\n",
       "      <td>2017-11-30</td>\n",
       "      <td>company243755</td>\n",
       "      <td>job1038462</td>\n",
       "      <td>US</td>\n",
       "      <td>UNKNOWN</td>\n",
       "      <td>NaN</td>\n",
       "      <td>3.9</td>\n",
       "      <td>6.0</td>\n",
       "      <td>NaN</td>\n",
       "      <td>public relations intern</td>\n",
       "      <td>...</td>\n",
       "      <td>NaN</td>\n",
       "      <td>29900</td>\n",
       "      <td>NaN</td>\n",
       "      <td>EN</td>\n",
       "      <td>0.0</td>\n",
       "      <td>0.0</td>\n",
       "      <td>High School</td>\n",
       "      <td>1</td>\n",
       "      <td>88</td>\n",
       "      <td>7</td>\n",
       "    </tr>\n",
       "    <tr>\n",
       "      <th>14584507</th>\n",
       "      <td>2017-11-29</td>\n",
       "      <td>company243768</td>\n",
       "      <td>job1038539</td>\n",
       "      <td>US</td>\n",
       "      <td>UNKNOWN</td>\n",
       "      <td>NaN</td>\n",
       "      <td>5.0</td>\n",
       "      <td>9.0</td>\n",
       "      <td>NaN</td>\n",
       "      <td>program coordinator</td>\n",
       "      <td>...</td>\n",
       "      <td>1.0</td>\n",
       "      <td>39600</td>\n",
       "      <td>USD</td>\n",
       "      <td>EN</td>\n",
       "      <td>0.0</td>\n",
       "      <td>0.0</td>\n",
       "      <td>High School</td>\n",
       "      <td>0</td>\n",
       "      <td>198</td>\n",
       "      <td>13</td>\n",
       "    </tr>\n",
       "    <tr>\n",
       "      <th>14584508</th>\n",
       "      <td>2017-11-30</td>\n",
       "      <td>company243768</td>\n",
       "      <td>job1038539</td>\n",
       "      <td>US</td>\n",
       "      <td>UNKNOWN</td>\n",
       "      <td>NaN</td>\n",
       "      <td>5.0</td>\n",
       "      <td>9.0</td>\n",
       "      <td>NaN</td>\n",
       "      <td>program coordinator</td>\n",
       "      <td>...</td>\n",
       "      <td>1.0</td>\n",
       "      <td>39600</td>\n",
       "      <td>USD</td>\n",
       "      <td>EN</td>\n",
       "      <td>0.0</td>\n",
       "      <td>0.0</td>\n",
       "      <td>High School</td>\n",
       "      <td>1</td>\n",
       "      <td>329</td>\n",
       "      <td>20</td>\n",
       "    </tr>\n",
       "    <tr>\n",
       "      <th>14584869</th>\n",
       "      <td>2017-11-30</td>\n",
       "      <td>company22165</td>\n",
       "      <td>job1038972</td>\n",
       "      <td>US</td>\n",
       "      <td>UNKNOWN</td>\n",
       "      <td>NaN</td>\n",
       "      <td>0.0</td>\n",
       "      <td>NaN</td>\n",
       "      <td>NaN</td>\n",
       "      <td>owner operator driver</td>\n",
       "      <td>...</td>\n",
       "      <td>NaN</td>\n",
       "      <td>39700</td>\n",
       "      <td>NaN</td>\n",
       "      <td>EN</td>\n",
       "      <td>0.0</td>\n",
       "      <td>1.0</td>\n",
       "      <td>None</td>\n",
       "      <td>0</td>\n",
       "      <td>11</td>\n",
       "      <td>2</td>\n",
       "    </tr>\n",
       "    <tr>\n",
       "      <th>14584970</th>\n",
       "      <td>2017-11-30</td>\n",
       "      <td>company23012</td>\n",
       "      <td>job1039164</td>\n",
       "      <td>US</td>\n",
       "      <td>UNKNOWN</td>\n",
       "      <td>NaN</td>\n",
       "      <td>3.7</td>\n",
       "      <td>23.0</td>\n",
       "      <td>NaN</td>\n",
       "      <td>interpreter</td>\n",
       "      <td>...</td>\n",
       "      <td>1.0</td>\n",
       "      <td>61800</td>\n",
       "      <td>NaN</td>\n",
       "      <td>EN</td>\n",
       "      <td>0.0</td>\n",
       "      <td>1.0</td>\n",
       "      <td>None</td>\n",
       "      <td>0</td>\n",
       "      <td>32</td>\n",
       "      <td>2</td>\n",
       "    </tr>\n",
       "    <tr>\n",
       "      <th>14585083</th>\n",
       "      <td>2017-11-30</td>\n",
       "      <td>company00167</td>\n",
       "      <td>job1039406</td>\n",
       "      <td>DE</td>\n",
       "      <td>UNKNOWN</td>\n",
       "      <td>NaN</td>\n",
       "      <td>0.0</td>\n",
       "      <td>NaN</td>\n",
       "      <td>NaN</td>\n",
       "      <td>ausbildung kaufmann büromanagement</td>\n",
       "      <td>...</td>\n",
       "      <td>NaN</td>\n",
       "      <td>26600</td>\n",
       "      <td>NaN</td>\n",
       "      <td>DE</td>\n",
       "      <td>NaN</td>\n",
       "      <td>NaN</td>\n",
       "      <td>NaN</td>\n",
       "      <td>0</td>\n",
       "      <td>33</td>\n",
       "      <td>0</td>\n",
       "    </tr>\n",
       "    <tr>\n",
       "      <th>14585112</th>\n",
       "      <td>2017-11-30</td>\n",
       "      <td>company173082</td>\n",
       "      <td>job1039459</td>\n",
       "      <td>DE</td>\n",
       "      <td>UNKNOWN</td>\n",
       "      <td>NaN</td>\n",
       "      <td>2.0</td>\n",
       "      <td>16.0</td>\n",
       "      <td>NaN</td>\n",
       "      <td>rechtsanwaltsfachangestellte</td>\n",
       "      <td>...</td>\n",
       "      <td>NaN</td>\n",
       "      <td>24400</td>\n",
       "      <td>NaN</td>\n",
       "      <td>DE</td>\n",
       "      <td>NaN</td>\n",
       "      <td>NaN</td>\n",
       "      <td>NaN</td>\n",
       "      <td>0</td>\n",
       "      <td>11</td>\n",
       "      <td>3</td>\n",
       "    </tr>\n",
       "    <tr>\n",
       "      <th>14585177</th>\n",
       "      <td>2017-11-30</td>\n",
       "      <td>company37960</td>\n",
       "      <td>job1039590</td>\n",
       "      <td>CA</td>\n",
       "      <td>UNKNOWN</td>\n",
       "      <td>NaN</td>\n",
       "      <td>3.0</td>\n",
       "      <td>13.0</td>\n",
       "      <td>NaN</td>\n",
       "      <td>research manager</td>\n",
       "      <td>...</td>\n",
       "      <td>3.0</td>\n",
       "      <td>68900</td>\n",
       "      <td>NaN</td>\n",
       "      <td>EN</td>\n",
       "      <td>1.0</td>\n",
       "      <td>1.0</td>\n",
       "      <td>Higher Education</td>\n",
       "      <td>0</td>\n",
       "      <td>64</td>\n",
       "      <td>5</td>\n",
       "    </tr>\n",
       "    <tr>\n",
       "      <th>14585250</th>\n",
       "      <td>2017-11-30</td>\n",
       "      <td>company04869</td>\n",
       "      <td>job1039735</td>\n",
       "      <td>DE</td>\n",
       "      <td>UNKNOWN</td>\n",
       "      <td>NaN</td>\n",
       "      <td>0.0</td>\n",
       "      <td>NaN</td>\n",
       "      <td>NaN</td>\n",
       "      <td>NaN</td>\n",
       "      <td>...</td>\n",
       "      <td>NaN</td>\n",
       "      <td>26400</td>\n",
       "      <td>NaN</td>\n",
       "      <td>DE</td>\n",
       "      <td>NaN</td>\n",
       "      <td>NaN</td>\n",
       "      <td>NaN</td>\n",
       "      <td>0</td>\n",
       "      <td>46</td>\n",
       "      <td>3</td>\n",
       "    </tr>\n",
       "    <tr>\n",
       "      <th>14585389</th>\n",
       "      <td>2017-11-30</td>\n",
       "      <td>company177740</td>\n",
       "      <td>job1040009</td>\n",
       "      <td>DE</td>\n",
       "      <td>UNKNOWN</td>\n",
       "      <td>NaN</td>\n",
       "      <td>0.0</td>\n",
       "      <td>NaN</td>\n",
       "      <td>NaN</td>\n",
       "      <td>system engineer</td>\n",
       "      <td>...</td>\n",
       "      <td>NaN</td>\n",
       "      <td>35500</td>\n",
       "      <td>NaN</td>\n",
       "      <td>DE</td>\n",
       "      <td>NaN</td>\n",
       "      <td>NaN</td>\n",
       "      <td>NaN</td>\n",
       "      <td>0</td>\n",
       "      <td>5</td>\n",
       "      <td>2</td>\n",
       "    </tr>\n",
       "    <tr>\n",
       "      <th>14585445</th>\n",
       "      <td>2017-11-30</td>\n",
       "      <td>company04408</td>\n",
       "      <td>job1040102</td>\n",
       "      <td>US</td>\n",
       "      <td>UNKNOWN</td>\n",
       "      <td>NaN</td>\n",
       "      <td>4.1</td>\n",
       "      <td>237.0</td>\n",
       "      <td>NaN</td>\n",
       "      <td>bookseller</td>\n",
       "      <td>...</td>\n",
       "      <td>NaN</td>\n",
       "      <td>25200</td>\n",
       "      <td>NaN</td>\n",
       "      <td>EN</td>\n",
       "      <td>0.0</td>\n",
       "      <td>0.0</td>\n",
       "      <td>None</td>\n",
       "      <td>0</td>\n",
       "      <td>8</td>\n",
       "      <td>1</td>\n",
       "    </tr>\n",
       "    <tr>\n",
       "      <th>14585447</th>\n",
       "      <td>2017-11-30</td>\n",
       "      <td>company239722</td>\n",
       "      <td>job1040106</td>\n",
       "      <td>US</td>\n",
       "      <td>UNKNOWN</td>\n",
       "      <td>NaN</td>\n",
       "      <td>3.3</td>\n",
       "      <td>57.0</td>\n",
       "      <td>NaN</td>\n",
       "      <td>case manager</td>\n",
       "      <td>...</td>\n",
       "      <td>2.0</td>\n",
       "      <td>38600</td>\n",
       "      <td>NaN</td>\n",
       "      <td>EN</td>\n",
       "      <td>0.0</td>\n",
       "      <td>1.0</td>\n",
       "      <td>Higher Education</td>\n",
       "      <td>0</td>\n",
       "      <td>43</td>\n",
       "      <td>13</td>\n",
       "    </tr>\n",
       "    <tr>\n",
       "      <th>14585460</th>\n",
       "      <td>2017-11-30</td>\n",
       "      <td>company200168</td>\n",
       "      <td>job1040130</td>\n",
       "      <td>US</td>\n",
       "      <td>UNKNOWN</td>\n",
       "      <td>NaN</td>\n",
       "      <td>0.0</td>\n",
       "      <td>NaN</td>\n",
       "      <td>NaN</td>\n",
       "      <td>registered nurse - bone marrow transplant</td>\n",
       "      <td>...</td>\n",
       "      <td>2.0</td>\n",
       "      <td>63200</td>\n",
       "      <td>NaN</td>\n",
       "      <td>EN</td>\n",
       "      <td>0.0</td>\n",
       "      <td>1.0</td>\n",
       "      <td>None</td>\n",
       "      <td>0</td>\n",
       "      <td>23</td>\n",
       "      <td>1</td>\n",
       "    </tr>\n",
       "    <tr>\n",
       "      <th>14585531</th>\n",
       "      <td>2017-11-30</td>\n",
       "      <td>company211463</td>\n",
       "      <td>job1040276</td>\n",
       "      <td>US</td>\n",
       "      <td>UNKNOWN</td>\n",
       "      <td>NaN</td>\n",
       "      <td>0.0</td>\n",
       "      <td>NaN</td>\n",
       "      <td>NaN</td>\n",
       "      <td>laboratory technician</td>\n",
       "      <td>...</td>\n",
       "      <td>1.0</td>\n",
       "      <td>41500</td>\n",
       "      <td>NaN</td>\n",
       "      <td>EN</td>\n",
       "      <td>0.0</td>\n",
       "      <td>0.0</td>\n",
       "      <td>Higher Education</td>\n",
       "      <td>0</td>\n",
       "      <td>438</td>\n",
       "      <td>79</td>\n",
       "    </tr>\n",
       "    <tr>\n",
       "      <th>14585654</th>\n",
       "      <td>2017-11-30</td>\n",
       "      <td>company185601</td>\n",
       "      <td>job1040534</td>\n",
       "      <td>US</td>\n",
       "      <td>UNKNOWN</td>\n",
       "      <td>NaN</td>\n",
       "      <td>3.3</td>\n",
       "      <td>72.0</td>\n",
       "      <td>NaN</td>\n",
       "      <td>call center representative</td>\n",
       "      <td>...</td>\n",
       "      <td>NaN</td>\n",
       "      <td>24400</td>\n",
       "      <td>NaN</td>\n",
       "      <td>EN</td>\n",
       "      <td>0.0</td>\n",
       "      <td>0.0</td>\n",
       "      <td>High School</td>\n",
       "      <td>0</td>\n",
       "      <td>16</td>\n",
       "      <td>4</td>\n",
       "    </tr>\n",
       "    <tr>\n",
       "      <th>14585889</th>\n",
       "      <td>2017-11-30</td>\n",
       "      <td>company17688</td>\n",
       "      <td>job1041024</td>\n",
       "      <td>US</td>\n",
       "      <td>UNKNOWN</td>\n",
       "      <td>NaN</td>\n",
       "      <td>3.6</td>\n",
       "      <td>30.0</td>\n",
       "      <td>NaN</td>\n",
       "      <td>developmental disabilities case manager</td>\n",
       "      <td>...</td>\n",
       "      <td>1.0</td>\n",
       "      <td>53500</td>\n",
       "      <td>USD</td>\n",
       "      <td>EN</td>\n",
       "      <td>1.0</td>\n",
       "      <td>1.0</td>\n",
       "      <td>Higher Education</td>\n",
       "      <td>0</td>\n",
       "      <td>39</td>\n",
       "      <td>1</td>\n",
       "    </tr>\n",
       "  </tbody>\n",
       "</table>\n",
       "<p>118433 rows × 23 columns</p>\n",
       "</div>"
      ],
      "text/plain": [
       "                date      companyId       jobId country stateProvince city  \\\n",
       "156       2016-11-01   company00195  job0000209      US       UNKNOWN  NaN   \n",
       "157       2016-11-02   company00195  job0000209      US       UNKNOWN  NaN   \n",
       "158       2016-11-03   company00195  job0000209      US       UNKNOWN  NaN   \n",
       "687       2016-11-01   company00622  job0000686      US       UNKNOWN  NaN   \n",
       "688       2016-11-02   company00622  job0000686      US       UNKNOWN  NaN   \n",
       "689       2016-11-03   company00622  job0000686      US       UNKNOWN  NaN   \n",
       "690       2016-11-04   company00622  job0000686      US       UNKNOWN  NaN   \n",
       "896       2016-11-01   company00736  job0000804      US       UNKNOWN  NaN   \n",
       "897       2016-11-02   company00736  job0000804      US       UNKNOWN  NaN   \n",
       "898       2016-11-03   company00736  job0000804      US       UNKNOWN  NaN   \n",
       "899       2016-11-04   company00736  job0000804      US       UNKNOWN  NaN   \n",
       "900       2016-11-05   company00736  job0000804      US       UNKNOWN  NaN   \n",
       "901       2016-11-06   company00736  job0000804      US       UNKNOWN  NaN   \n",
       "1048      2016-11-01   company00810  job0000891      US       UNKNOWN  NaN   \n",
       "1049      2016-11-02   company00810  job0000891      US       UNKNOWN  NaN   \n",
       "1121      2016-11-01   company00845  job0000935      US       UNKNOWN  NaN   \n",
       "1122      2016-11-02   company00845  job0000935      US       UNKNOWN  NaN   \n",
       "1123      2016-11-03   company00845  job0000935      US       UNKNOWN  NaN   \n",
       "1124      2016-11-04   company00845  job0000935      US       UNKNOWN  NaN   \n",
       "1125      2016-11-05   company00845  job0000935      US       UNKNOWN  NaN   \n",
       "1126      2016-11-06   company00845  job0000935      US       UNKNOWN  NaN   \n",
       "1127      2016-11-07   company00845  job0000935      US       UNKNOWN  NaN   \n",
       "1286      2016-11-01   company00906  job0001005      US       UNKNOWN  NaN   \n",
       "1287      2016-11-02   company00906  job0001005      US       UNKNOWN  NaN   \n",
       "1288      2016-11-03   company00906  job0001005      US       UNKNOWN  NaN   \n",
       "1289      2016-11-04   company00906  job0001005      US       UNKNOWN  NaN   \n",
       "1290      2016-11-05   company00906  job0001005      US       UNKNOWN  NaN   \n",
       "1291      2016-11-06   company00906  job0001005      US       UNKNOWN  NaN   \n",
       "1292      2016-11-07   company00906  job0001005      US       UNKNOWN  NaN   \n",
       "2570      2016-11-01   company01268  job0001445      DE       UNKNOWN  NaN   \n",
       "...              ...            ...         ...     ...           ...  ...   \n",
       "14582582  2017-11-28   company01237  job1036379      CA       UNKNOWN  NaN   \n",
       "14582583  2017-11-29   company01237  job1036379      CA       UNKNOWN  NaN   \n",
       "14582584  2017-11-30   company01237  job1036379      CA       UNKNOWN  NaN   \n",
       "14583024  2017-11-29   company84874  job1036884      DE       UNKNOWN  NaN   \n",
       "14583025  2017-11-30   company84874  job1036884      DE       UNKNOWN  NaN   \n",
       "14583061  2017-11-29   company14785  job1036920      US       UNKNOWN  NaN   \n",
       "14583062  2017-11-30   company14785  job1036920      US       UNKNOWN  NaN   \n",
       "14583187  2017-11-29   company17688  job1037063      US       UNKNOWN  NaN   \n",
       "14583332  2017-11-29  company179938  job1037235      DE       UNKNOWN  NaN   \n",
       "14583352  2017-11-29   company12489  job1037267      US       UNKNOWN  NaN   \n",
       "14583353  2017-11-30   company12489  job1037267      US       UNKNOWN  NaN   \n",
       "14584423  2017-11-29   company70223  job1038445      US       UNKNOWN  NaN   \n",
       "14584424  2017-11-30   company70223  job1038445      US       UNKNOWN  NaN   \n",
       "14584441  2017-11-29  company243755  job1038462      US       UNKNOWN  NaN   \n",
       "14584442  2017-11-30  company243755  job1038462      US       UNKNOWN  NaN   \n",
       "14584507  2017-11-29  company243768  job1038539      US       UNKNOWN  NaN   \n",
       "14584508  2017-11-30  company243768  job1038539      US       UNKNOWN  NaN   \n",
       "14584869  2017-11-30   company22165  job1038972      US       UNKNOWN  NaN   \n",
       "14584970  2017-11-30   company23012  job1039164      US       UNKNOWN  NaN   \n",
       "14585083  2017-11-30   company00167  job1039406      DE       UNKNOWN  NaN   \n",
       "14585112  2017-11-30  company173082  job1039459      DE       UNKNOWN  NaN   \n",
       "14585177  2017-11-30   company37960  job1039590      CA       UNKNOWN  NaN   \n",
       "14585250  2017-11-30   company04869  job1039735      DE       UNKNOWN  NaN   \n",
       "14585389  2017-11-30  company177740  job1040009      DE       UNKNOWN  NaN   \n",
       "14585445  2017-11-30   company04408  job1040102      US       UNKNOWN  NaN   \n",
       "14585447  2017-11-30  company239722  job1040106      US       UNKNOWN  NaN   \n",
       "14585460  2017-11-30  company200168  job1040130      US       UNKNOWN  NaN   \n",
       "14585531  2017-11-30  company211463  job1040276      US       UNKNOWN  NaN   \n",
       "14585654  2017-11-30  company185601  job1040534      US       UNKNOWN  NaN   \n",
       "14585889  2017-11-30   company17688  job1041024      US       UNKNOWN  NaN   \n",
       "\n",
       "          avgOverallRating  numReviews                  industry  \\\n",
       "156                    0.0         NaN                       NaN   \n",
       "157                    0.0         NaN                       NaN   \n",
       "158                    0.0         NaN                       NaN   \n",
       "687                    4.2        55.0                       NaN   \n",
       "688                    4.2        55.0                       NaN   \n",
       "689                    4.2        55.0                       NaN   \n",
       "690                    4.2        55.0                       NaN   \n",
       "896                    3.1       161.0  INDUSTRIAL_MANUFACTURING   \n",
       "897                    3.1       161.0  INDUSTRIAL_MANUFACTURING   \n",
       "898                    3.1       161.0  INDUSTRIAL_MANUFACTURING   \n",
       "899                    3.1       161.0  INDUSTRIAL_MANUFACTURING   \n",
       "900                    3.1       161.0  INDUSTRIAL_MANUFACTURING   \n",
       "901                    3.1       161.0  INDUSTRIAL_MANUFACTURING   \n",
       "1048                   0.0         NaN                       NaN   \n",
       "1049                   0.0         NaN                       NaN   \n",
       "1121                   0.0         NaN                       NaN   \n",
       "1122                   0.0         NaN                       NaN   \n",
       "1123                   0.0         NaN                       NaN   \n",
       "1124                   0.0         NaN                       NaN   \n",
       "1125                   0.0         NaN                       NaN   \n",
       "1126                   0.0         NaN                       NaN   \n",
       "1127                   0.0         NaN                       NaN   \n",
       "1286                   0.0         NaN                       NaN   \n",
       "1287                   0.0         NaN                       NaN   \n",
       "1288                   0.0         NaN                       NaN   \n",
       "1289                   0.0         NaN                       NaN   \n",
       "1290                   0.0         NaN                       NaN   \n",
       "1291                   0.0         NaN                       NaN   \n",
       "1292                   0.0         NaN                       NaN   \n",
       "2570                   0.0         NaN                       NaN   \n",
       "...                    ...         ...                       ...   \n",
       "14582582               4.2         NaN                       NaN   \n",
       "14582583               4.2         NaN                       NaN   \n",
       "14582584               4.2         NaN                       NaN   \n",
       "14583024               0.0         NaN                       NaN   \n",
       "14583025               0.0         NaN                       NaN   \n",
       "14583061               0.0         NaN                       NaN   \n",
       "14583062               0.0         NaN                       NaN   \n",
       "14583187               3.6        30.0                       NaN   \n",
       "14583332               0.0         NaN                       NaN   \n",
       "14583352               4.2       106.0                       NaN   \n",
       "14583353               4.2       106.0                       NaN   \n",
       "14584423               0.0         NaN                       NaN   \n",
       "14584424               0.0         NaN                       NaN   \n",
       "14584441               3.9         6.0                       NaN   \n",
       "14584442               3.9         6.0                       NaN   \n",
       "14584507               5.0         9.0                       NaN   \n",
       "14584508               5.0         9.0                       NaN   \n",
       "14584869               0.0         NaN                       NaN   \n",
       "14584970               3.7        23.0                       NaN   \n",
       "14585083               0.0         NaN                       NaN   \n",
       "14585112               2.0        16.0                       NaN   \n",
       "14585177               3.0        13.0                       NaN   \n",
       "14585250               0.0         NaN                       NaN   \n",
       "14585389               0.0         NaN                       NaN   \n",
       "14585445               4.1       237.0                       NaN   \n",
       "14585447               3.3        57.0                       NaN   \n",
       "14585460               0.0         NaN                       NaN   \n",
       "14585531               0.0         NaN                       NaN   \n",
       "14585654               3.3        72.0                       NaN   \n",
       "14585889               3.6        30.0                       NaN   \n",
       "\n",
       "                                          normTitle     ...      \\\n",
       "156                          software test engineer     ...       \n",
       "157                          software test engineer     ...       \n",
       "158                          software test engineer     ...       \n",
       "687                  member services representative     ...       \n",
       "688                  member services representative     ...       \n",
       "689                  member services representative     ...       \n",
       "690                  member services representative     ...       \n",
       "896                              journeyman plumber     ...       \n",
       "897                              journeyman plumber     ...       \n",
       "898                              journeyman plumber     ...       \n",
       "899                              journeyman plumber     ...       \n",
       "900                              journeyman plumber     ...       \n",
       "901                              journeyman plumber     ...       \n",
       "1048                           technical consultant     ...       \n",
       "1049                           technical consultant     ...       \n",
       "1121                                       mechanic     ...       \n",
       "1122                                       mechanic     ...       \n",
       "1123                                       mechanic     ...       \n",
       "1124                                       mechanic     ...       \n",
       "1125                                       mechanic     ...       \n",
       "1126                                       mechanic     ...       \n",
       "1127                                       mechanic     ...       \n",
       "1286                            electrical engineer     ...       \n",
       "1287                            electrical engineer     ...       \n",
       "1288                            electrical engineer     ...       \n",
       "1289                            electrical engineer     ...       \n",
       "1290                            electrical engineer     ...       \n",
       "1291                            electrical engineer     ...       \n",
       "1292                            electrical engineer     ...       \n",
       "2570                              berufskraftfahrer     ...       \n",
       "...                                             ...     ...       \n",
       "14582582                       development director     ...       \n",
       "14582583                       development director     ...       \n",
       "14582584                       development director     ...       \n",
       "14583024                                testmanager     ...       \n",
       "14583025                                testmanager     ...       \n",
       "14583061                     field service engineer     ...       \n",
       "14583062                     field service engineer     ...       \n",
       "14583187                               case manager     ...       \n",
       "14583332                                        NaN     ...       \n",
       "14583352                certified public accountant     ...       \n",
       "14583353                certified public accountant     ...       \n",
       "14584423                           registered nurse     ...       \n",
       "14584424                           registered nurse     ...       \n",
       "14584441                    public relations intern     ...       \n",
       "14584442                    public relations intern     ...       \n",
       "14584507                        program coordinator     ...       \n",
       "14584508                        program coordinator     ...       \n",
       "14584869                      owner operator driver     ...       \n",
       "14584970                                interpreter     ...       \n",
       "14585083         ausbildung kaufmann büromanagement     ...       \n",
       "14585112               rechtsanwaltsfachangestellte     ...       \n",
       "14585177                           research manager     ...       \n",
       "14585250                                        NaN     ...       \n",
       "14585389                            system engineer     ...       \n",
       "14585445                                 bookseller     ...       \n",
       "14585447                               case manager     ...       \n",
       "14585460  registered nurse - bone marrow transplant     ...       \n",
       "14585531                      laboratory technician     ...       \n",
       "14585654                 call center representative     ...       \n",
       "14585889    developmental disabilities case manager     ...       \n",
       "\n",
       "         experienceRequired  estimatedSalary  salaryCurrency  jobLanguage  \\\n",
       "156                     4.0            99400             NaN           EN   \n",
       "157                     4.0            99400             NaN           EN   \n",
       "158                     4.0            99400             NaN           EN   \n",
       "687                     3.0            30800             NaN           EN   \n",
       "688                     3.0            30800             NaN           EN   \n",
       "689                     3.0            30800             NaN           EN   \n",
       "690                     3.0            30800             NaN           EN   \n",
       "896                     NaN            48300             USD           EN   \n",
       "897                     NaN            48300             USD           EN   \n",
       "898                     NaN            48300             USD           EN   \n",
       "899                     NaN            48300             USD           EN   \n",
       "900                     NaN            48300             USD           EN   \n",
       "901                     NaN            48300             USD           EN   \n",
       "1048                    5.0            92400             NaN           EN   \n",
       "1049                    5.0            92400             NaN           EN   \n",
       "1121                    NaN            37500             NaN           EN   \n",
       "1122                    NaN            37500             NaN           EN   \n",
       "1123                    NaN            37500             NaN           EN   \n",
       "1124                    NaN            37500             NaN           EN   \n",
       "1125                    NaN            37500             NaN           EN   \n",
       "1126                    NaN            37500             NaN           EN   \n",
       "1127                    NaN            37500             NaN           EN   \n",
       "1286                    NaN            58200             NaN           EN   \n",
       "1287                    NaN            58200             NaN           EN   \n",
       "1288                    NaN            58200             NaN           EN   \n",
       "1289                    NaN            58200             NaN           EN   \n",
       "1290                    NaN            58200             NaN           EN   \n",
       "1291                    NaN            58200             NaN           EN   \n",
       "1292                    NaN            58200             NaN           EN   \n",
       "2570                    NaN            21500             NaN           DE   \n",
       "...                     ...              ...             ...          ...   \n",
       "14582582                3.0            79900             NaN           EN   \n",
       "14582583                3.0            79900             NaN           EN   \n",
       "14582584                3.0            79900             NaN           EN   \n",
       "14583024                NaN            30200             NaN           DE   \n",
       "14583025                NaN            30200             NaN           DE   \n",
       "14583061                5.0            66600             NaN           EN   \n",
       "14583062                5.0            66600             NaN           EN   \n",
       "14583187                NaN            43800             USD           EN   \n",
       "14583332                NaN            32800             NaN           DE   \n",
       "14583352                NaN            81400             NaN           EN   \n",
       "14583353                NaN            81400             NaN           EN   \n",
       "14584423                5.0            65000             NaN           EN   \n",
       "14584424                5.0            65000             NaN           EN   \n",
       "14584441                NaN            29900             NaN           EN   \n",
       "14584442                NaN            29900             NaN           EN   \n",
       "14584507                1.0            39600             USD           EN   \n",
       "14584508                1.0            39600             USD           EN   \n",
       "14584869                NaN            39700             NaN           EN   \n",
       "14584970                1.0            61800             NaN           EN   \n",
       "14585083                NaN            26600             NaN           DE   \n",
       "14585112                NaN            24400             NaN           DE   \n",
       "14585177                3.0            68900             NaN           EN   \n",
       "14585250                NaN            26400             NaN           DE   \n",
       "14585389                NaN            35500             NaN           DE   \n",
       "14585445                NaN            25200             NaN           EN   \n",
       "14585447                2.0            38600             NaN           EN   \n",
       "14585460                2.0            63200             NaN           EN   \n",
       "14585531                1.0            41500             NaN           EN   \n",
       "14585654                NaN            24400             NaN           EN   \n",
       "14585889                1.0            53500             USD           EN   \n",
       "\n",
       "          supervisingJob licenseRequiredJob educationRequirements  jobAgeDays  \\\n",
       "156                  0.0                0.0      Higher Education          98   \n",
       "157                  0.0                0.0      Higher Education          99   \n",
       "158                  0.0                0.0      Higher Education         100   \n",
       "687                  0.0                0.0           High School          95   \n",
       "688                  0.0                0.0           High School          96   \n",
       "689                  0.0                0.0           High School          97   \n",
       "690                  0.0                0.0           High School          98   \n",
       "896                  0.0                1.0                  None          95   \n",
       "897                  0.0                1.0                  None          96   \n",
       "898                  0.0                1.0                  None          97   \n",
       "899                  0.0                1.0                  None          98   \n",
       "900                  0.0                1.0                  None          99   \n",
       "901                  0.0                1.0                  None         100   \n",
       "1048                 0.0                0.0                  None          93   \n",
       "1049                 0.0                0.0                  None          94   \n",
       "1121                 0.0                0.0                  None          93   \n",
       "1122                 0.0                0.0                  None          94   \n",
       "1123                 0.0                0.0                  None          95   \n",
       "1124                 0.0                0.0                  None          96   \n",
       "1125                 0.0                0.0                  None          97   \n",
       "1126                 0.0                0.0                  None          98   \n",
       "1127                 0.0                0.0                  None          99   \n",
       "1286                 0.0                1.0                  None          92   \n",
       "1287                 0.0                1.0                  None          93   \n",
       "1288                 0.0                1.0                  None          94   \n",
       "1289                 0.0                1.0                  None          95   \n",
       "1290                 0.0                1.0                  None          96   \n",
       "1291                 0.0                1.0                  None          97   \n",
       "1292                 0.0                1.0                  None          98   \n",
       "2570                 NaN                NaN                   NaN          90   \n",
       "...                  ...                ...                   ...         ...   \n",
       "14582582             1.0                0.0      Higher Education           0   \n",
       "14582583             1.0                0.0      Higher Education           1   \n",
       "14582584             1.0                0.0      Higher Education           2   \n",
       "14583024             NaN                NaN                   NaN           0   \n",
       "14583025             NaN                NaN                   NaN           1   \n",
       "14583061             0.0                0.0           High School           0   \n",
       "14583062             0.0                0.0           High School           1   \n",
       "14583187             0.0                1.0      Higher Education           0   \n",
       "14583332             NaN                NaN                   NaN           0   \n",
       "14583352             0.0                0.0                  None           0   \n",
       "14583353             0.0                0.0                  None           1   \n",
       "14584423             1.0                1.0                  None           0   \n",
       "14584424             1.0                1.0                  None           1   \n",
       "14584441             0.0                0.0           High School           0   \n",
       "14584442             0.0                0.0           High School           1   \n",
       "14584507             0.0                0.0           High School           0   \n",
       "14584508             0.0                0.0           High School           1   \n",
       "14584869             0.0                1.0                  None           0   \n",
       "14584970             0.0                1.0                  None           0   \n",
       "14585083             NaN                NaN                   NaN           0   \n",
       "14585112             NaN                NaN                   NaN           0   \n",
       "14585177             1.0                1.0      Higher Education           0   \n",
       "14585250             NaN                NaN                   NaN           0   \n",
       "14585389             NaN                NaN                   NaN           0   \n",
       "14585445             0.0                0.0                  None           0   \n",
       "14585447             0.0                1.0      Higher Education           0   \n",
       "14585460             0.0                1.0                  None           0   \n",
       "14585531             0.0                0.0      Higher Education           0   \n",
       "14585654             0.0                0.0           High School           0   \n",
       "14585889             1.0                1.0      Higher Education           0   \n",
       "\n",
       "          clicks localClicks  \n",
       "156           47           0  \n",
       "157           27           4  \n",
       "158           16           0  \n",
       "687           24           3  \n",
       "688           12           0  \n",
       "689           23           0  \n",
       "690           28           0  \n",
       "896           12           3  \n",
       "897           12           2  \n",
       "898           35          15  \n",
       "899           29           1  \n",
       "900            7           2  \n",
       "901           19           0  \n",
       "1048          17           0  \n",
       "1049          20           2  \n",
       "1121          39           2  \n",
       "1122          35           6  \n",
       "1123          46          10  \n",
       "1124          30           3  \n",
       "1125          37           0  \n",
       "1126          27           3  \n",
       "1127          20           0  \n",
       "1286          28           0  \n",
       "1287          23           0  \n",
       "1288          11           0  \n",
       "1289          18           0  \n",
       "1290          22           0  \n",
       "1291           9           0  \n",
       "1292          26           0  \n",
       "2570           9           1  \n",
       "...          ...         ...  \n",
       "14582582      11           3  \n",
       "14582583      39           3  \n",
       "14582584       9           1  \n",
       "14583024     133          24  \n",
       "14583025      17           0  \n",
       "14583061      59           7  \n",
       "14583062      40           5  \n",
       "14583187      39           4  \n",
       "14583332      22           1  \n",
       "14583352     243          12  \n",
       "14583353     300          12  \n",
       "14584423      35           0  \n",
       "14584424      36           3  \n",
       "14584441      69           6  \n",
       "14584442      88           7  \n",
       "14584507     198          13  \n",
       "14584508     329          20  \n",
       "14584869      11           2  \n",
       "14584970      32           2  \n",
       "14585083      33           0  \n",
       "14585112      11           3  \n",
       "14585177      64           5  \n",
       "14585250      46           3  \n",
       "14585389       5           2  \n",
       "14585445       8           1  \n",
       "14585447      43          13  \n",
       "14585460      23           1  \n",
       "14585531     438          79  \n",
       "14585654      16           4  \n",
       "14585889      39           1  \n",
       "\n",
       "[118433 rows x 23 columns]"
      ]
     },
     "execution_count": 24,
     "metadata": {},
     "output_type": "execute_result"
    }
   ],
   "source": [
    "df[df.stateProvince==\"UNKNOWN\"]"
   ]
  },
  {
   "cell_type": "markdown",
   "metadata": {},
   "source": [
    "In the dataframe where the state info is marked as \"unknown\", all the city info also seem to be missing. Let's see if that's true"
   ]
  },
  {
   "cell_type": "code",
   "execution_count": 25,
   "metadata": {},
   "outputs": [
    {
     "data": {
      "text/plain": [
       "{0,\n",
       " 'Field',\n",
       " 'Home Based',\n",
       " 'Quad Cities',\n",
       " 'Erzgebirge',\n",
       " 'Ostsee',\n",
       " 'Remote',\n",
       " 'Work at Home',\n",
       " 'Rheinland'}"
      ]
     },
     "execution_count": 25,
     "metadata": {},
     "output_type": "execute_result"
    }
   ],
   "source": [
    "set(df[df.stateProvince==\"UNKNOWN\"].city.fillna(0).values.tolist())"
   ]
  },
  {
   "cell_type": "markdown",
   "metadata": {},
   "source": [
    "Most of the observations where the state info was marked as \"unknown\" also had missing city info except for a few cases where the city info was something else (e.g. \"Remote\", \"Field\", \"Home Based\" etc). For these particular cases, we can fill the missing state/province info with the same info listed in the city column."
   ]
  },
  {
   "cell_type": "code",
   "execution_count": 26,
   "metadata": {},
   "outputs": [],
   "source": [
    "df['newStateProvince'] = np.where(df.city=='Remote','Remote', df.stateProvince)"
   ]
  },
  {
   "cell_type": "code",
   "execution_count": 27,
   "metadata": {},
   "outputs": [],
   "source": [
    "df['stateProvince'] = df['newStateProvince'] \n",
    "del df['newStateProvince']"
   ]
  },
  {
   "cell_type": "code",
   "execution_count": 28,
   "metadata": {
    "scrolled": true
   },
   "outputs": [],
   "source": [
    "# Make the \"city' info for home based jobs uniform by replacing all of them into \"Home\"\n",
    "df.city = df.city.replace({'Work at Home':'Home','Home Based':'Home'})"
   ]
  },
  {
   "cell_type": "code",
   "execution_count": 29,
   "metadata": {},
   "outputs": [],
   "source": [
    "df['newStateProvince'] = np.where(df.city=='Home','Home', df.stateProvince)"
   ]
  },
  {
   "cell_type": "code",
   "execution_count": 30,
   "metadata": {},
   "outputs": [],
   "source": [
    "df['stateProvince'] = df['newStateProvince'] \n",
    "del df['newStateProvince']"
   ]
  },
  {
   "cell_type": "code",
   "execution_count": 31,
   "metadata": {},
   "outputs": [],
   "source": [
    "df['newStateProvince'] = np.where(df.city=='Field','Field', df.stateProvince)"
   ]
  },
  {
   "cell_type": "code",
   "execution_count": 32,
   "metadata": {},
   "outputs": [],
   "source": [
    "df['stateProvince'] = df['newStateProvince'] \n",
    "del df['newStateProvince']"
   ]
  },
  {
   "cell_type": "code",
   "execution_count": 33,
   "metadata": {
    "scrolled": true
   },
   "outputs": [
    {
     "data": {
      "text/plain": [
       "(339, 194)"
      ]
     },
     "execution_count": 33,
     "metadata": {},
     "output_type": "execute_result"
    }
   ],
   "source": [
    "len(df[df.city.isin(['Ostsee','Erzgebirge','Rheinland'])]), len(df[df.city.isin(['Quad Cities'])])"
   ]
  },
  {
   "cell_type": "markdown",
   "metadata": {},
   "source": [
    "There are only 339 observations that have 'Ostsee','Erzgebirge','Rheinland' as their city info but don't have state/province info. Also, since Germany isn't the main focus of this analysis project, I will leave the state/province info as \"UNKNOWN\" for these observations. Also, Quad Cities refer to the 5 major cities in Illinois and Iowa states and there is no surefire way to tell whether a certain observation with \"Quad Cities\" listed as its city info is in Illinois or Iowa. Thus, I will leave the leave the state/province info as \"UNKNOWN\" for those cases (194 observations) as well."
   ]
  },
  {
   "cell_type": "markdown",
   "metadata": {},
   "source": [
    "Also, observations that share the company, job and country will have the same \"state\" and \"city\" info. I will groupby with company id, job id and country and fill the missing values in each group with existing values in that same group."
   ]
  },
  {
   "cell_type": "markdown",
   "metadata": {},
   "source": [
    "(But before I perform the above operation, I will replace all \"UNKNOWN\" in state/province to null values for fillna operation)"
   ]
  },
  {
   "cell_type": "code",
   "execution_count": 34,
   "metadata": {},
   "outputs": [],
   "source": [
    "# Replace all \"UNKNOWN\" in state/province to null\n",
    "\n",
    "df['newStateProvince'] = np.where(df.stateProvince=='UNKNOWN',np.nan, df.stateProvince)\n",
    "\n",
    "df['stateProvince'] = df['newStateProvince'] \n",
    "del df['newStateProvince']"
   ]
  },
  {
   "cell_type": "code",
   "execution_count": 35,
   "metadata": {
    "scrolled": true
   },
   "outputs": [
    {
     "name": "stdout",
     "output_type": "stream",
     "text": [
      "We still have 104775 missing state/province info (533 are the exceptional cases listed above... Ostsee, Quad Cities etc)\n"
     ]
    }
   ],
   "source": [
    "print(\"We still have\", len(df[df.stateProvince.isnull()]) - 533, \n",
    "      \"missing state/province info (533 are the exceptional cases listed above... Ostsee, Quad Cities etc)\")"
   ]
  },
  {
   "cell_type": "code",
   "execution_count": 36,
   "metadata": {},
   "outputs": [],
   "source": [
    "# groups = (group for name, group in df.groupby(['companyId','jobId','country']))"
   ]
  },
  {
   "cell_type": "code",
   "execution_count": 37,
   "metadata": {},
   "outputs": [],
   "source": [
    "# import multiprocessing as mp\n",
    "# from multiprocessing import Pool\n",
    "# from multiprocessing.dummy import Pool as ThreadPool\n",
    "# from fill_lib import *\n",
    "# import time"
   ]
  },
  {
   "cell_type": "code",
   "execution_count": 38,
   "metadata": {},
   "outputs": [],
   "source": [
    "# start = time.time()\n",
    "# if __name__ == '__main__':\n",
    "    \n",
    "# #     pool = mp.Pool(6)\n",
    "    \n",
    "#     pool = ThreadPool(700)\n",
    "    \n",
    "#     result = pool.map(fill_stateProvince, groups)\n",
    "    \n",
    "#     pool.close()\n",
    "#     pool.join()\n",
    "\n",
    "# df = pd.concat(result)\n",
    "# end = time.time()\n",
    "# print(end - start)"
   ]
  },
  {
   "cell_type": "code",
   "execution_count": 39,
   "metadata": {},
   "outputs": [
    {
     "name": "stdout",
     "output_type": "stream",
     "text": [
      "269.2196524143219\n"
     ]
    }
   ],
   "source": [
    "import time\n",
    "start = time.time()\n",
    "df.stateProvince = df.groupby(['companyId','jobId','country']).stateProvince.ffill()\n",
    "df.stateProvince = df.groupby(['companyId','jobId','country']).stateProvince.bfill()\n",
    "end = time.time()\n",
    "print(end-start)"
   ]
  },
  {
   "cell_type": "code",
   "execution_count": 40,
   "metadata": {},
   "outputs": [
    {
     "data": {
      "text/plain": [
       "103082"
      ]
     },
     "execution_count": 40,
     "metadata": {},
     "output_type": "execute_result"
    }
   ],
   "source": [
    "len(df[df.stateProvince.isnull()]) - 533"
   ]
  },
  {
   "cell_type": "code",
   "execution_count": 41,
   "metadata": {},
   "outputs": [
    {
     "name": "stdout",
     "output_type": "stream",
     "text": [
      "Filled in 1693 missing values\n"
     ]
    }
   ],
   "source": [
    "print(\"Filled in\", 104775 - 103082, \"missing values\")"
   ]
  },
  {
   "cell_type": "code",
   "execution_count": 42,
   "metadata": {},
   "outputs": [
    {
     "data": {
      "text/plain": [
       "0.7067170756137634"
      ]
     },
     "execution_count": 42,
     "metadata": {},
     "output_type": "execute_result"
    }
   ],
   "source": [
    "103082 * 100 / len(df)"
   ]
  },
  {
   "cell_type": "markdown",
   "metadata": {},
   "source": [
    "After doing our best to fill in the missing data in the stateProvince column, we still got 103082 values missing. It's about 0.7% of the entire dataset. Thankfully, it's not that much. In the meantime, we will refill the null values with \"UNKNOWN\" again."
   ]
  },
  {
   "cell_type": "code",
   "execution_count": 43,
   "metadata": {},
   "outputs": [],
   "source": [
    "df['newStateProvince'] = np.where(df.stateProvince.isnull(),'UNKNOWN', df.stateProvince)\n",
    "\n",
    "df['stateProvince'] = df['newStateProvince'] \n",
    "del df['newStateProvince']"
   ]
  },
  {
   "cell_type": "code",
   "execution_count": 44,
   "metadata": {},
   "outputs": [
    {
     "data": {
      "text/plain": [
       "338179"
      ]
     },
     "execution_count": 44,
     "metadata": {},
     "output_type": "execute_result"
    }
   ],
   "source": [
    "# City Column: 338179 missing values\n",
    "len(df[df.city.isnull()])"
   ]
  },
  {
   "cell_type": "markdown",
   "metadata": {},
   "source": [
    "Just like before, observations that share the company, job and country will have the same \"city\" info. I will groupby with company id, job id and country and fill the missing values in each group with existing values in that same group."
   ]
  },
  {
   "cell_type": "code",
   "execution_count": 45,
   "metadata": {},
   "outputs": [],
   "source": [
    "df.city = df.groupby(['companyId','jobId','country']).city.ffill()\n",
    "df.city = df.groupby(['companyId','jobId','country']).city.bfill()"
   ]
  },
  {
   "cell_type": "code",
   "execution_count": 46,
   "metadata": {},
   "outputs": [
    {
     "data": {
      "text/plain": [
       "335232"
      ]
     },
     "execution_count": 46,
     "metadata": {},
     "output_type": "execute_result"
    }
   ],
   "source": [
    "len(df[df.city.isnull()])"
   ]
  },
  {
   "cell_type": "code",
   "execution_count": 47,
   "metadata": {
    "scrolled": true
   },
   "outputs": [
    {
     "name": "stdout",
     "output_type": "stream",
     "text": [
      "Filled in 2947 missing values. Still missing values are about 2.298307936324025 % of the entire dataset.\n"
     ]
    }
   ],
   "source": [
    "print(\"Filled in\",338179-335232, \"missing values. Still missing values are about\", 335232*100/len(df),\"%\", \"of the entire dataset.\")"
   ]
  },
  {
   "cell_type": "markdown",
   "metadata": {},
   "source": [
    "Will fill the missing values in \"city\" column as \"UNKNOWN\""
   ]
  },
  {
   "cell_type": "code",
   "execution_count": 48,
   "metadata": {},
   "outputs": [],
   "source": [
    "df.city = df.city.fillna(\"UNKNOWN\")"
   ]
  },
  {
   "cell_type": "markdown",
   "metadata": {},
   "source": [
    "##### avgOverallRating"
   ]
  },
  {
   "cell_type": "code",
   "execution_count": 49,
   "metadata": {},
   "outputs": [
    {
     "data": {
      "text/plain": [
       "0"
      ]
     },
     "execution_count": 49,
     "metadata": {},
     "output_type": "execute_result"
    }
   ],
   "source": [
    "# No missing values\n",
    "len(df[df.avgOverallRating.isnull()])"
   ]
  },
  {
   "cell_type": "code",
   "execution_count": 50,
   "metadata": {
    "scrolled": true
   },
   "outputs": [
    {
     "name": "stdout",
     "output_type": "stream",
     "text": [
      "But there are 7810322 observations and 106652 unique companies that are unrated (avgOverallRating = 0.0)\n"
     ]
    }
   ],
   "source": [
    "print(\"But there are\", df.avgOverallRating.value_counts()[0], \"observations and\",\n",
    "      len(df[df.avgOverallRating==0.0].companyId.unique().tolist()), \"unique companies that are unrated (avgOverallRating = 0.0)\")"
   ]
  },
  {
   "cell_type": "code",
   "execution_count": 51,
   "metadata": {},
   "outputs": [
    {
     "name": "stdout",
     "output_type": "stream",
     "text": [
      "That's 53.546573829008366 % of the entire dataset and 70.63373798785373 % out of total number of companies\n"
     ]
    }
   ],
   "source": [
    "print(\"That's\", 7810322*100 / len(df),\"% of the entire dataset and\", \n",
    "      106652 * 100 / df.companyId.nunique(), \"% out of total number of companies\")"
   ]
  },
  {
   "cell_type": "markdown",
   "metadata": {},
   "source": [
    "##### numReviews"
   ]
  },
  {
   "cell_type": "code",
   "execution_count": 52,
   "metadata": {},
   "outputs": [
    {
     "name": "stdout",
     "output_type": "stream",
     "text": [
      "8248086 observations and 106827 unique companies don't have the record for the number of reviews (numReviews = NaN)\n"
     ]
    }
   ],
   "source": [
    "print(len(df[df.numReviews.isnull()]), \"observations and\",\n",
    "      len(df[df.numReviews.isnull()].companyId.unique().tolist()), \n",
    "      \"unique companies don't have the record for the number of reviews (numReviews = NaN)\")"
   ]
  },
  {
   "cell_type": "code",
   "execution_count": 53,
   "metadata": {},
   "outputs": [
    {
     "name": "stdout",
     "output_type": "stream",
     "text": [
      "That's 56.547828110929395 % of the entire dataset and 70.74963740040928 % out of total number of companies\n"
     ]
    }
   ],
   "source": [
    "print(\"That's\", 8248086 *100 / len(df),\"% of the entire dataset and\", \n",
    "      106827  * 100 / df.companyId.nunique(), \"% out of total number of companies\")"
   ]
  },
  {
   "cell_type": "markdown",
   "metadata": {},
   "source": [
    "I will fill the missing values with 0 (companies with no record for the number of reviews wil be denoted as 0)"
   ]
  },
  {
   "cell_type": "code",
   "execution_count": 54,
   "metadata": {},
   "outputs": [],
   "source": [
    "df.numReviews.fillna(0.0, inplace=True)"
   ]
  },
  {
   "cell_type": "markdown",
   "metadata": {},
   "source": [
    "###### Industry"
   ]
  },
  {
   "cell_type": "code",
   "execution_count": 55,
   "metadata": {},
   "outputs": [
    {
     "name": "stdout",
     "output_type": "stream",
     "text": [
      "number of observations and companies that don't have industry info (industry = NaN) 13043858 145611\n"
     ]
    }
   ],
   "source": [
    "print(\"number of observations and companies that don't have industry info (industry = NaN)\",\n",
    "      len(df[df.industry.isnull()]), df[df.industry.isnull()].companyId.nunique())"
   ]
  },
  {
   "cell_type": "code",
   "execution_count": 56,
   "metadata": {},
   "outputs": [
    {
     "name": "stdout",
     "output_type": "stream",
     "text": [
      "That's 89.42703071808069 % of the entire dataset and 96.43559635214878 % out of total number of companies\n"
     ]
    }
   ],
   "source": [
    "print(\"That's\", 13043858  *100 / len(df),\"% of the entire dataset and\", \n",
    "      145611  * 100 / df.companyId.nunique(), \"% out of total number of companies\")"
   ]
  },
  {
   "cell_type": "markdown",
   "metadata": {},
   "source": [
    "This is a lot of missing data... But in the meantime, I will fill the missing values for the industry column as \"UNKNOWN\""
   ]
  },
  {
   "cell_type": "code",
   "execution_count": 57,
   "metadata": {},
   "outputs": [],
   "source": [
    "df.industry = df.industry.fillna(\"UNKNOWN\")"
   ]
  },
  {
   "cell_type": "markdown",
   "metadata": {},
   "source": [
    "##### normTitle"
   ]
  },
  {
   "cell_type": "code",
   "execution_count": 58,
   "metadata": {},
   "outputs": [
    {
     "name": "stdout",
     "output_type": "stream",
     "text": [
      "1302545 ( 8.930082781235614 % )\n"
     ]
    }
   ],
   "source": [
    "# normTitle: 1302545 missing values\n",
    "print(len(df[df.normTitle.isnull()]), \"(\",len(df[df.normTitle.isnull()])*100/len(df), \"% )\")"
   ]
  },
  {
   "cell_type": "markdown",
   "metadata": {},
   "source": [
    "Observations with the same normTitle in a company but with different dates share the same descriptionWordCount and estimatedSalary. I will use this trait to fill in the missing values"
   ]
  },
  {
   "cell_type": "code",
   "execution_count": 59,
   "metadata": {},
   "outputs": [],
   "source": [
    "df.normTitle = df.groupby(['companyId','descriptionWordCount', 'estimatedSalary']).normTitle.ffill()"
   ]
  },
  {
   "cell_type": "code",
   "execution_count": 60,
   "metadata": {},
   "outputs": [],
   "source": [
    "df.normTitle = df.groupby(['companyId','descriptionWordCount', 'estimatedSalary']).normTitle.bfill()"
   ]
  },
  {
   "cell_type": "code",
   "execution_count": 61,
   "metadata": {},
   "outputs": [
    {
     "name": "stdout",
     "output_type": "stream",
     "text": [
      "missing values reduced to 965087 ( 6.61651367215285 %) (filled 337458 missing values)\n"
     ]
    }
   ],
   "source": [
    "print(\"missing values reduced to\", len(df[df.normTitle.isnull()]), \"(\", \n",
    "      len(df[df.normTitle.isnull()]) * 100 / len(df), \"%)\", \"(filled\", 1302545 - 965087, \"missing values)\")"
   ]
  },
  {
   "cell_type": "markdown",
   "metadata": {},
   "source": [
    "Will fill the remaining missing values as \"UNKNOWN\""
   ]
  },
  {
   "cell_type": "code",
   "execution_count": 62,
   "metadata": {},
   "outputs": [],
   "source": [
    "df.normTitle = df.normTitle.fillna(\"UNKNOWN\")"
   ]
  },
  {
   "cell_type": "markdown",
   "metadata": {},
   "source": [
    "###### normTitleCategory"
   ]
  },
  {
   "cell_type": "code",
   "execution_count": 63,
   "metadata": {},
   "outputs": [
    {
     "name": "stdout",
     "output_type": "stream",
     "text": [
      "1302545 ( 8.930082781235614 % )\n"
     ]
    }
   ],
   "source": [
    "# normTitle: 1302545 missing values\n",
    "print(len(df[df.normTitleCategory.isnull()]), \"(\",len(df[df.normTitleCategory.isnull()])*100/len(df), \"% )\")"
   ]
  },
  {
   "cell_type": "code",
   "execution_count": 64,
   "metadata": {},
   "outputs": [],
   "source": [
    "df.normTitleCategory = df.groupby(['companyId','country','descriptionWordCount', 'estimatedSalary']).normTitleCategory.ffill()"
   ]
  },
  {
   "cell_type": "code",
   "execution_count": 65,
   "metadata": {},
   "outputs": [],
   "source": [
    "df.normTitleCategory = df.groupby(['companyId','country','descriptionWordCount', 'estimatedSalary']).normTitleCategory.bfill()"
   ]
  },
  {
   "cell_type": "code",
   "execution_count": 66,
   "metadata": {},
   "outputs": [
    {
     "name": "stdout",
     "output_type": "stream",
     "text": [
      "missing values reduced to 966128 ( 6.623650635693662 %) (filled 336417 missing values)\n"
     ]
    }
   ],
   "source": [
    "print(\"missing values reduced to\", len(df[df.normTitleCategory.isnull()]), \"(\", \n",
    "      len(df[df.normTitleCategory.isnull()]) * 100 / len(df), \"%)\", \"(filled\", 1302545 - 966128, \"missing values)\")"
   ]
  },
  {
   "cell_type": "markdown",
   "metadata": {},
   "source": [
    "Will fill the remaining missing values as \"UNKNOWN\""
   ]
  },
  {
   "cell_type": "code",
   "execution_count": 67,
   "metadata": {},
   "outputs": [],
   "source": [
    "df.normTitleCategory = df.normTitleCategory.fillna(\"UNKNOWN\")"
   ]
  },
  {
   "cell_type": "markdown",
   "metadata": {},
   "source": [
    "##### descriptionCharacterLength / descriptionWordCount"
   ]
  },
  {
   "cell_type": "code",
   "execution_count": 68,
   "metadata": {},
   "outputs": [
    {
     "data": {
      "text/plain": [
       "0"
      ]
     },
     "execution_count": 68,
     "metadata": {},
     "output_type": "execute_result"
    }
   ],
   "source": [
    "len(df[df.descriptionCharacterLength.isnull()])"
   ]
  },
  {
   "cell_type": "code",
   "execution_count": 69,
   "metadata": {},
   "outputs": [
    {
     "data": {
      "text/plain": [
       "0"
      ]
     },
     "execution_count": 69,
     "metadata": {},
     "output_type": "execute_result"
    }
   ],
   "source": [
    "len(df[df.descriptionWordCount.isnull()])"
   ]
  },
  {
   "cell_type": "markdown",
   "metadata": {},
   "source": [
    "No missing values for descriptionCharacterLength / descriptionWordCount. But are there any unusual values (outliers)?"
   ]
  },
  {
   "cell_type": "code",
   "execution_count": 70,
   "metadata": {
    "scrolled": true
   },
   "outputs": [
    {
     "data": {
      "text/plain": [
       "<matplotlib.collections.PathCollection at 0x204fe9fd278>"
      ]
     },
     "execution_count": 70,
     "metadata": {},
     "output_type": "execute_result"
    },
    {
     "data": {
      "image/png": "[encoded data removed]",
      "text/plain": [
       "<matplotlib.figure.Figure at 0x2047f789cc0>"
      ]
     },
     "metadata": {},
     "output_type": "display_data"
    }
   ],
   "source": [
    "plt.scatter(x=df.descriptionCharacterLength, y=df.descriptionWordCount)"
   ]
  },
  {
   "cell_type": "code",
   "execution_count": 71,
   "metadata": {
    "scrolled": true
   },
   "outputs": [
    {
     "data": {
      "text/plain": [
       "warehouse worker    19\n",
       "Name: normTitle, dtype: int64"
      ]
     },
     "execution_count": 71,
     "metadata": {},
     "output_type": "execute_result"
    }
   ],
   "source": [
    "df[df.descriptionCharacterLength>39000].normTitle.value_counts()"
   ]
  },
  {
   "cell_type": "code",
   "execution_count": 72,
   "metadata": {},
   "outputs": [
    {
     "data": {
      "text/plain": [
       "US    19\n",
       "Name: country, dtype: int64"
      ]
     },
     "execution_count": 72,
     "metadata": {},
     "output_type": "execute_result"
    }
   ],
   "source": [
    "df[df.descriptionCharacterLength>39000].country.value_counts()"
   ]
  },
  {
   "cell_type": "markdown",
   "metadata": {},
   "source": [
    "The few mini-clusters that are pretty far away from the main cluster share a common trait: They are all warehouse worker jobs in the States. Job descriptions for warehouse workers in the U.S. seem to be longer than average job descriptions."
   ]
  },
  {
   "cell_type": "markdown",
   "metadata": {},
   "source": [
    "##### experienceRequired"
   ]
  },
  {
   "cell_type": "code",
   "execution_count": 73,
   "metadata": {},
   "outputs": [
    {
     "name": "stdout",
     "output_type": "stream",
     "text": [
      "9370287 missing values ( 64.24149537554243 %)\n"
     ]
    }
   ],
   "source": [
    "print(len(df[df.experienceRequired.isnull()]), \"missing values\",\"(\", 9370287*100 / len(df), \"%)\")"
   ]
  },
  {
   "cell_type": "code",
   "execution_count": 74,
   "metadata": {
    "scrolled": true
   },
   "outputs": [
    {
     "name": "stdout",
     "output_type": "stream",
     "text": [
      "minimum 0.0 years maximum 20.0 years\n"
     ]
    }
   ],
   "source": [
    "print(\"minimum\", df.experienceRequired.min(), \"years\", \"maximum\", df.experienceRequired.max(), \"years\")"
   ]
  },
  {
   "cell_type": "markdown",
   "metadata": {},
   "source": [
    "If two observations share the same companyId, jobId and country, the experienceRequired will be the same too"
   ]
  },
  {
   "cell_type": "code",
   "execution_count": 75,
   "metadata": {},
   "outputs": [],
   "source": [
    "df.experienceRequired = df.groupby(['companyId','jobId','country']).experienceRequired.ffill()"
   ]
  },
  {
   "cell_type": "code",
   "execution_count": 76,
   "metadata": {},
   "outputs": [],
   "source": [
    "df.experienceRequired = df.groupby(['companyId','jobId','country']).experienceRequired.bfill()"
   ]
  },
  {
   "cell_type": "code",
   "execution_count": 77,
   "metadata": {},
   "outputs": [
    {
     "name": "stdout",
     "output_type": "stream",
     "text": [
      "missing values reduced to 9294997 ( 63.72531671561188 %) (filled 75290 missing values)\n"
     ]
    }
   ],
   "source": [
    "print(\"missing values reduced to\", len(df[df.experienceRequired.isnull()]), \"(\", \n",
    "      len(df[df.experienceRequired.isnull()]) * 100 / len(df), \"%)\", \"(filled\", 9370287 - 9294997, \"missing values)\")"
   ]
  },
  {
   "cell_type": "markdown",
   "metadata": {},
   "source": [
    "We still have quite a few missing values for the experienceRequired column. But if we think about it, it is usually true that the higher the salary is, the more likely the experience required for that position is higher. Let's see if there is a correlation between those two variables"
   ]
  },
  {
   "cell_type": "code",
   "execution_count": 78,
   "metadata": {},
   "outputs": [
    {
     "data": {
      "text/plain": [
       "0.39766239995753105"
      ]
     },
     "execution_count": 78,
     "metadata": {},
     "output_type": "execute_result"
    }
   ],
   "source": [
    "df[df.experienceRequired.notnull()].experienceRequired.corr(df.estimatedSalary)"
   ]
  },
  {
   "cell_type": "markdown",
   "metadata": {},
   "source": [
    "The non-null values of experiencedRequired and estimatedSalary have a correlation of 0.397 (almost 0.4) which is a pretty strong positive linear relationship. Let's use linear regression to impute the missing values for the experienceRequired column."
   ]
  },
  {
   "cell_type": "code",
   "execution_count": 79,
   "metadata": {},
   "outputs": [],
   "source": [
    "from sklearn import linear_model"
   ]
  },
  {
   "cell_type": "code",
   "execution_count": 80,
   "metadata": {},
   "outputs": [],
   "source": [
    "lr = linear_model.LinearRegression()"
   ]
  },
  {
   "cell_type": "code",
   "execution_count": 81,
   "metadata": {
    "scrolled": true
   },
   "outputs": [
    {
     "name": "stderr",
     "output_type": "stream",
     "text": [
      "C:\\Users\\josh\\Anaconda3\\lib\\site-packages\\ipykernel_launcher.py:1: FutureWarning: reshape is deprecated and will raise in a subsequent release. Please use .values.reshape(...) instead\n",
      "  \"\"\"Entry point for launching an IPython kernel.\n",
      "C:\\Users\\josh\\Anaconda3\\lib\\site-packages\\ipykernel_launcher.py:2: FutureWarning: reshape is deprecated and will raise in a subsequent release. Please use .values.reshape(...) instead\n",
      "  \n"
     ]
    },
    {
     "data": {
      "text/plain": [
       "LinearRegression(copy_X=True, fit_intercept=True, n_jobs=1, normalize=False)"
      ]
     },
     "execution_count": 81,
     "metadata": {},
     "output_type": "execute_result"
    }
   ],
   "source": [
    "lr.fit(df[df.experienceRequired.notnull()].estimatedSalary.reshape(-1,1),\n",
    "       df[df.experienceRequired.notnull()].experienceRequired.reshape(-1,1))"
   ]
  },
  {
   "cell_type": "code",
   "execution_count": 82,
   "metadata": {},
   "outputs": [],
   "source": [
    "df_experienceRequired_notnull = df.copy()[df.copy().experienceRequired.notnull()]\n",
    "df_experienceRequired_null = df.copy()[df.copy().experienceRequired.isnull()]"
   ]
  },
  {
   "cell_type": "code",
   "execution_count": 83,
   "metadata": {},
   "outputs": [
    {
     "name": "stderr",
     "output_type": "stream",
     "text": [
      "C:\\Users\\josh\\Anaconda3\\lib\\site-packages\\ipykernel_launcher.py:1: FutureWarning: reshape is deprecated and will raise in a subsequent release. Please use .values.reshape(...) instead\n",
      "  \"\"\"Entry point for launching an IPython kernel.\n"
     ]
    }
   ],
   "source": [
    "df_experienceRequired_null['experienceRequired'] = \\\n",
    "lr.predict(df[df.experienceRequired.isnull()].estimatedSalary.reshape(-1,1))"
   ]
  },
  {
   "cell_type": "code",
   "execution_count": 84,
   "metadata": {},
   "outputs": [],
   "source": [
    "df2 = df_experienceRequired_notnull.append(df_experienceRequired_null)"
   ]
  },
  {
   "cell_type": "code",
   "execution_count": 85,
   "metadata": {},
   "outputs": [],
   "source": [
    "df = df2"
   ]
  },
  {
   "cell_type": "code",
   "execution_count": 86,
   "metadata": {},
   "outputs": [
    {
     "data": {
      "text/plain": [
       "0"
      ]
     },
     "execution_count": 86,
     "metadata": {},
     "output_type": "execute_result"
    }
   ],
   "source": [
    "# No more missing values\n",
    "len(df[df.experienceRequired.isnull()])"
   ]
  },
  {
   "cell_type": "markdown",
   "metadata": {},
   "source": [
    "##### estimatedSalary"
   ]
  },
  {
   "cell_type": "code",
   "execution_count": 87,
   "metadata": {},
   "outputs": [
    {
     "data": {
      "text/plain": [
       "0"
      ]
     },
     "execution_count": 87,
     "metadata": {},
     "output_type": "execute_result"
    }
   ],
   "source": [
    "# No missing values\n",
    "len(df[df.estimatedSalary.isnull()])"
   ]
  },
  {
   "cell_type": "markdown",
   "metadata": {},
   "source": [
    "But if estimatedSalary is 0.0, it means the estimate is unavailable"
   ]
  },
  {
   "cell_type": "code",
   "execution_count": 88,
   "metadata": {
    "scrolled": true
   },
   "outputs": [
    {
     "name": "stdout",
     "output_type": "stream",
     "text": [
      "The proportion percentage of 0.0 in estimateSalary column: 1.76821871057 %\n"
     ]
    }
   ],
   "source": [
    "print(\"The proportion percentage of 0.0 in estimateSalary column:\", df.estimatedSalary.value_counts()[0] * 100/ len(df), \"%\")"
   ]
  },
  {
   "cell_type": "markdown",
   "metadata": {},
   "source": [
    "##### salaryCurrency"
   ]
  },
  {
   "cell_type": "code",
   "execution_count": 89,
   "metadata": {},
   "outputs": [
    {
     "data": {
      "text/plain": [
       "12404394"
      ]
     },
     "execution_count": 89,
     "metadata": {},
     "output_type": "execute_result"
    }
   ],
   "source": [
    "# salaryCurrency: 12404394 missing values\n",
    "len(df[df.salaryCurrency.isnull()])"
   ]
  },
  {
   "cell_type": "markdown",
   "metadata": {},
   "source": [
    "Since we have the \"country\" column all filled in, we can use this column to fill in the missing values for the salaryCurrency column"
   ]
  },
  {
   "cell_type": "code",
   "execution_count": 90,
   "metadata": {},
   "outputs": [],
   "source": [
    "# If salary currency info is missing, fill in with country data in that row\n",
    "df.salaryCurrency = np.where(df.salaryCurrency.isnull(), df.country, df.salaryCurrency)"
   ]
  },
  {
   "cell_type": "code",
   "execution_count": 91,
   "metadata": {},
   "outputs": [],
   "source": [
    "df.salaryCurrency = df.salaryCurrency.replace({'US':'USD','DE':'EUR','CA':'CAD'})"
   ]
  },
  {
   "cell_type": "code",
   "execution_count": 92,
   "metadata": {},
   "outputs": [
    {
     "data": {
      "text/plain": [
       "0"
      ]
     },
     "execution_count": 92,
     "metadata": {},
     "output_type": "execute_result"
    }
   ],
   "source": [
    "# No more missing values\n",
    "df.salaryCurrency.isnull().sum()"
   ]
  },
  {
   "cell_type": "markdown",
   "metadata": {},
   "source": [
    "###### jobLanguage"
   ]
  },
  {
   "cell_type": "code",
   "execution_count": 93,
   "metadata": {},
   "outputs": [
    {
     "data": {
      "text/plain": [
       "0"
      ]
     },
     "execution_count": 93,
     "metadata": {},
     "output_type": "execute_result"
    }
   ],
   "source": [
    "# No missing value\n",
    "len(df[df.jobLanguage.isnull()])"
   ]
  },
  {
   "cell_type": "code",
   "execution_count": 94,
   "metadata": {},
   "outputs": [
    {
     "data": {
      "text/plain": [
       "EN    12547718\n",
       "DE     1853422\n",
       "FR      184895\n",
       "Name: jobLanguage, dtype: int64"
      ]
     },
     "execution_count": 94,
     "metadata": {},
     "output_type": "execute_result"
    }
   ],
   "source": [
    "df.jobLanguage.value_counts()"
   ]
  },
  {
   "cell_type": "markdown",
   "metadata": {},
   "source": [
    "##### supervisingJob / licenseRequiredJob / educationRequirements"
   ]
  },
  {
   "cell_type": "code",
   "execution_count": 95,
   "metadata": {},
   "outputs": [
    {
     "name": "stdout",
     "output_type": "stream",
     "text": [
      "2039719 missing values ( 13.984053925552763 %)\n"
     ]
    }
   ],
   "source": [
    "print(len(df[df.supervisingJob.isnull()]), \"missing values\",\"(\", len(df[df.supervisingJob.isnull()])*100 / len(df), \"%)\")"
   ]
  },
  {
   "cell_type": "code",
   "execution_count": 97,
   "metadata": {},
   "outputs": [
    {
     "name": "stdout",
     "output_type": "stream",
     "text": [
      "2039719 missing values ( 13.984053925552763 %)\n"
     ]
    }
   ],
   "source": [
    "print(len(df[df.licenseRequiredJob.isnull()]), \"missing values\",\"(\", len(df[df.licenseRequiredJob.isnull()])*100 / len(df), \"%)\")"
   ]
  },
  {
   "cell_type": "code",
   "execution_count": 98,
   "metadata": {},
   "outputs": [
    {
     "name": "stdout",
     "output_type": "stream",
     "text": [
      "2039719 missing values ( 13.984053925552763 %)\n"
     ]
    }
   ],
   "source": [
    "print(len(df[df.educationRequirements.isnull()]), \"missing values\",\"(\", \n",
    "      len(df[df.educationRequirements.isnull()])*100 / len(df), \"%)\")"
   ]
  },
  {
   "cell_type": "markdown",
   "metadata": {},
   "source": [
    "supervisingJob / licenseRequiredJob / educationRequirements all have the EXACTLY SAME number of missing values. Do those missing values for all three variables coincide in the same rows? Let's check if the non-null dataframes for the three variables are the same"
   ]
  },
  {
   "cell_type": "code",
   "execution_count": 104,
   "metadata": {},
   "outputs": [
    {
     "data": {
      "text/plain": [
       "True"
      ]
     },
     "execution_count": 104,
     "metadata": {},
     "output_type": "execute_result"
    }
   ],
   "source": [
    "# supervisingJob non-null = licenseRequiredJob non-null \n",
    "df[df.supervisingJob.isnull()].equals(df[df.licenseRequiredJob.isnull()])"
   ]
  },
  {
   "cell_type": "code",
   "execution_count": 105,
   "metadata": {},
   "outputs": [
    {
     "data": {
      "text/plain": [
       "True"
      ]
     },
     "execution_count": 105,
     "metadata": {},
     "output_type": "execute_result"
    }
   ],
   "source": [
    "# licenseRequiredJob non-null = educationRequirements non-null\n",
    "df[df.licenseRequiredJob.isnull()].equals(df[df.educationRequirements.isnull()])"
   ]
  },
  {
   "cell_type": "markdown",
   "metadata": {},
   "source": [
    "So all three variables are missing values in exactly the same locations"
   ]
  },
  {
   "cell_type": "markdown",
   "metadata": {},
   "source": [
    "Two observations that share the same companId, jobId, country, descriptionWordCount, and estimatedSalary will have the same supervisingJob / licenseRequiredJob / educationRequirements. I will use this trait to fill in missing values."
   ]
  },
  {
   "cell_type": "code",
   "execution_count": 108,
   "metadata": {},
   "outputs": [],
   "source": [
    "df.supervisingJob = df.groupby(['companyId','jobId','country','descriptionWordCount','estimatedSalary']).supervisingJob.ffill()"
   ]
  },
  {
   "cell_type": "code",
   "execution_count": 109,
   "metadata": {},
   "outputs": [],
   "source": [
    "df.supervisingJob = df.groupby(['companyId','jobId','country','descriptionWordCount', 'estimatedSalary']).supervisingJob.bfill()"
   ]
  },
  {
   "cell_type": "code",
   "execution_count": 111,
   "metadata": {},
   "outputs": [
    {
     "name": "stdout",
     "output_type": "stream",
     "text": [
      "missing values reduced to 2039694 ( 13.983882528733819 %) (filled 25 missing values)\n"
     ]
    }
   ],
   "source": [
    "print(\"missing values reduced to\", len(df[df.supervisingJob.isnull()]), \"(\", \n",
    "      len(df[df.supervisingJob.isnull()]) * 100 / len(df), \"%)\", \"(filled\", 2039719 - 2039694, \"missing values)\")"
   ]
  },
  {
   "cell_type": "code",
   "execution_count": 113,
   "metadata": {},
   "outputs": [],
   "source": [
    "df.licenseRequiredJob = df.groupby(['companyId','jobId','country','descriptionWordCount','estimatedSalary']).licenseRequiredJob.ffill()"
   ]
  },
  {
   "cell_type": "code",
   "execution_count": 114,
   "metadata": {},
   "outputs": [],
   "source": [
    "df.licenseRequiredJob = df.groupby(['companyId','jobId','country','descriptionWordCount', 'estimatedSalary']).licenseRequiredJob.bfill()"
   ]
  },
  {
   "cell_type": "code",
   "execution_count": 116,
   "metadata": {},
   "outputs": [
    {
     "name": "stdout",
     "output_type": "stream",
     "text": [
      "missing values reduced to 2039694 ( 13.983882528733819 %) (filled 25 missing values)\n"
     ]
    }
   ],
   "source": [
    "print(\"missing values reduced to\", len(df[df.licenseRequiredJob.isnull()]), \"(\", \n",
    "      len(df[df.licenseRequiredJob.isnull()]) * 100 / len(df), \"%)\", \"(filled\", 2039719 - 2039694, \"missing values)\")"
   ]
  },
  {
   "cell_type": "code",
   "execution_count": 117,
   "metadata": {},
   "outputs": [],
   "source": [
    "df.educationRequirements =\\\n",
    "df.groupby(['companyId','jobId','country','descriptionWordCount','estimatedSalary']).educationRequirements.ffill()"
   ]
  },
  {
   "cell_type": "code",
   "execution_count": 118,
   "metadata": {},
   "outputs": [],
   "source": [
    "df.educationRequirements =\\\n",
    "df.groupby(['companyId','jobId','country','descriptionWordCount', 'estimatedSalary']).educationRequirements.bfill()"
   ]
  },
  {
   "cell_type": "code",
   "execution_count": 119,
   "metadata": {},
   "outputs": [
    {
     "name": "stdout",
     "output_type": "stream",
     "text": [
      "missing values reduced to 2039694 ( 13.983882528733819 %) (filled 25 missing values)\n"
     ]
    }
   ],
   "source": [
    "print(\"missing values reduced to\", len(df[df.educationRequirements.isnull()]), \"(\", \n",
    "      len(df[df.educationRequirements.isnull()]) * 100 / len(df), \"%)\", \"(filled\", 2039719 - 2039694, \"missing values)\")"
   ]
  },
  {
   "cell_type": "code",
   "execution_count": 122,
   "metadata": {},
   "outputs": [
    {
     "data": {
      "text/plain": [
       "0.0    10578398\n",
       "1.0     1967943\n",
       "Name: supervisingJob, dtype: int64"
      ]
     },
     "execution_count": 122,
     "metadata": {},
     "output_type": "execute_result"
    }
   ],
   "source": [
    "df.supervisingJob.value_counts()"
   ]
  },
  {
   "cell_type": "code",
   "execution_count": 120,
   "metadata": {
    "scrolled": true
   },
   "outputs": [
    {
     "data": {
      "text/plain": [
       "0.0    8057974\n",
       "1.0    4488367\n",
       "Name: licenseRequiredJob, dtype: int64"
      ]
     },
     "execution_count": 120,
     "metadata": {},
     "output_type": "execute_result"
    }
   ],
   "source": [
    "df.licenseRequiredJob.value_counts()"
   ]
  },
  {
   "cell_type": "code",
   "execution_count": 121,
   "metadata": {},
   "outputs": [
    {
     "data": {
      "text/plain": [
       "None                6389067\n",
       "Higher Education    3282263\n",
       "High School         2875011\n",
       "Name: educationRequirements, dtype: int64"
      ]
     },
     "execution_count": 121,
     "metadata": {},
     "output_type": "execute_result"
    }
   ],
   "source": [
    "df.educationRequirements.value_counts()"
   ]
  },
  {
   "cell_type": "markdown",
   "metadata": {},
   "source": [
    "I will fill in the remaining missing values for supervisingJob and licenseRequiredJob columns as \"2\" and \"UNKNOWN\" for the educationRequirements column"
   ]
  },
  {
   "cell_type": "code",
   "execution_count": 123,
   "metadata": {},
   "outputs": [],
   "source": [
    "df.supervisingJob = df.supervisingJob.fillna(2)\n",
    "df.licenseRequiredJob = df.licenseRequiredJob.fillna(2)\n",
    "df.educationRequirements = df.educationRequirements.fillna('UNKNOWN')"
   ]
  },
  {
   "cell_type": "markdown",
   "metadata": {},
   "source": [
    "###### jobAgeDays/ clicks/ localClicks"
   ]
  },
  {
   "cell_type": "code",
   "execution_count": 124,
   "metadata": {},
   "outputs": [
    {
     "name": "stdout",
     "output_type": "stream",
     "text": [
      "0 0 0\n"
     ]
    }
   ],
   "source": [
    "# No missing values for all three variables\n",
    "print(len(df[df.jobAgeDays.isnull()]), len(df[df.clicks.isnull()]), len(df[df.localClicks.isnull()]))"
   ]
  },
  {
   "cell_type": "markdown",
   "metadata": {},
   "source": [
    "Checking for the last time if there is any missing value in the entire dataset"
   ]
  },
  {
   "cell_type": "code",
   "execution_count": 129,
   "metadata": {
    "collapsed": true
   },
   "outputs": [
    {
     "data": {
      "text/plain": [
       "date                          False\n",
       "companyId                     False\n",
       "jobId                         False\n",
       "country                       False\n",
       "stateProvince                 False\n",
       "city                          False\n",
       "avgOverallRating              False\n",
       "numReviews                    False\n",
       "industry                      False\n",
       "normTitle                     False\n",
       "normTitleCategory             False\n",
       "descriptionCharacterLength    False\n",
       "descriptionWordCount          False\n",
       "experienceRequired            False\n",
       "estimatedSalary               False\n",
       "salaryCurrency                False\n",
       "jobLanguage                   False\n",
       "supervisingJob                False\n",
       "licenseRequiredJob            False\n",
       "educationRequirements         False\n",
       "jobAgeDays                    False\n",
       "clicks                        False\n",
       "localClicks                   False\n",
       "dtype: bool"
      ]
     },
     "execution_count": 129,
     "metadata": {},
     "output_type": "execute_result"
    }
   ],
   "source": [
    "# No missing values in the entire dataset: verified!\n",
    "df.isnull().any()"
   ]
  },
  {
   "cell_type": "markdown",
   "metadata": {},
   "source": [
    "Checking any outliers in the numerical variables"
   ]
  },
  {
   "cell_type": "code",
   "execution_count": 130,
   "metadata": {},
   "outputs": [
    {
     "data": {
      "text/html": [
       "<div>\n",
       "<style>\n",
       "    .dataframe thead tr:only-child th {\n",
       "        text-align: right;\n",
       "    }\n",
       "\n",
       "    .dataframe thead th {\n",
       "        text-align: left;\n",
       "    }\n",
       "\n",
       "    .dataframe tbody tr th {\n",
       "        vertical-align: top;\n",
       "    }\n",
       "</style>\n",
       "<table border=\"1\" class=\"dataframe\">\n",
       "  <thead>\n",
       "    <tr style=\"text-align: right;\">\n",
       "      <th></th>\n",
       "      <th>avgOverallRating</th>\n",
       "      <th>numReviews</th>\n",
       "      <th>descriptionCharacterLength</th>\n",
       "      <th>descriptionWordCount</th>\n",
       "      <th>experienceRequired</th>\n",
       "      <th>estimatedSalary</th>\n",
       "      <th>supervisingJob</th>\n",
       "      <th>licenseRequiredJob</th>\n",
       "      <th>jobAgeDays</th>\n",
       "      <th>clicks</th>\n",
       "      <th>localClicks</th>\n",
       "    </tr>\n",
       "  </thead>\n",
       "  <tbody>\n",
       "    <tr>\n",
       "      <th>count</th>\n",
       "      <td>1.458604e+07</td>\n",
       "      <td>1.458604e+07</td>\n",
       "      <td>1.458604e+07</td>\n",
       "      <td>1.458604e+07</td>\n",
       "      <td>1.458604e+07</td>\n",
       "      <td>1.458604e+07</td>\n",
       "      <td>1.458604e+07</td>\n",
       "      <td>1.458604e+07</td>\n",
       "      <td>1.458604e+07</td>\n",
       "      <td>1.458604e+07</td>\n",
       "      <td>1.458604e+07</td>\n",
       "    </tr>\n",
       "    <tr>\n",
       "      <th>mean</th>\n",
       "      <td>1.714418e+00</td>\n",
       "      <td>8.137872e+01</td>\n",
       "      <td>2.367596e+03</td>\n",
       "      <td>3.838393e+02</td>\n",
       "      <td>2.755687e+00</td>\n",
       "      <td>4.366853e+04</td>\n",
       "      <td>4.145973e-01</td>\n",
       "      <td>5.873944e-01</td>\n",
       "      <td>3.077662e+01</td>\n",
       "      <td>2.244453e+01</td>\n",
       "      <td>3.709751e+00</td>\n",
       "    </tr>\n",
       "    <tr>\n",
       "      <th>std</th>\n",
       "      <td>1.882961e+00</td>\n",
       "      <td>5.337754e+02</td>\n",
       "      <td>1.705653e+03</td>\n",
       "      <td>2.444619e+02</td>\n",
       "      <td>1.997754e+00</td>\n",
       "      <td>2.831784e+04</td>\n",
       "      <td>7.227614e-01</td>\n",
       "      <td>7.225233e-01</td>\n",
       "      <td>2.581497e+01</td>\n",
       "      <td>3.557438e+01</td>\n",
       "      <td>1.047951e+01</td>\n",
       "    </tr>\n",
       "    <tr>\n",
       "      <th>min</th>\n",
       "      <td>0.000000e+00</td>\n",
       "      <td>0.000000e+00</td>\n",
       "      <td>1.100000e+01</td>\n",
       "      <td>2.000000e+00</td>\n",
       "      <td>0.000000e+00</td>\n",
       "      <td>0.000000e+00</td>\n",
       "      <td>0.000000e+00</td>\n",
       "      <td>0.000000e+00</td>\n",
       "      <td>0.000000e+00</td>\n",
       "      <td>0.000000e+00</td>\n",
       "      <td>0.000000e+00</td>\n",
       "    </tr>\n",
       "    <tr>\n",
       "      <th>25%</th>\n",
       "      <td>0.000000e+00</td>\n",
       "      <td>0.000000e+00</td>\n",
       "      <td>1.167000e+03</td>\n",
       "      <td>2.130000e+02</td>\n",
       "      <td>1.891619e+00</td>\n",
       "      <td>2.410000e+04</td>\n",
       "      <td>0.000000e+00</td>\n",
       "      <td>0.000000e+00</td>\n",
       "      <td>1.000000e+01</td>\n",
       "      <td>1.000000e+01</td>\n",
       "      <td>0.000000e+00</td>\n",
       "    </tr>\n",
       "    <tr>\n",
       "      <th>50%</th>\n",
       "      <td>0.000000e+00</td>\n",
       "      <td>0.000000e+00</td>\n",
       "      <td>2.005000e+03</td>\n",
       "      <td>3.330000e+02</td>\n",
       "      <td>2.122904e+00</td>\n",
       "      <td>3.350000e+04</td>\n",
       "      <td>0.000000e+00</td>\n",
       "      <td>0.000000e+00</td>\n",
       "      <td>2.300000e+01</td>\n",
       "      <td>1.800000e+01</td>\n",
       "      <td>1.000000e+00</td>\n",
       "    </tr>\n",
       "    <tr>\n",
       "      <th>75%</th>\n",
       "      <td>3.700000e+00</td>\n",
       "      <td>6.000000e+01</td>\n",
       "      <td>3.149000e+03</td>\n",
       "      <td>4.970000e+02</td>\n",
       "      <td>3.000000e+00</td>\n",
       "      <td>5.560000e+04</td>\n",
       "      <td>1.000000e+00</td>\n",
       "      <td>1.000000e+00</td>\n",
       "      <td>4.800000e+01</td>\n",
       "      <td>2.500000e+01</td>\n",
       "      <td>3.000000e+00</td>\n",
       "    </tr>\n",
       "    <tr>\n",
       "      <th>max</th>\n",
       "      <td>5.000000e+00</td>\n",
       "      <td>1.056500e+04</td>\n",
       "      <td>5.777400e+04</td>\n",
       "      <td>7.908000e+03</td>\n",
       "      <td>2.000000e+01</td>\n",
       "      <td>2.489000e+05</td>\n",
       "      <td>2.000000e+00</td>\n",
       "      <td>2.000000e+00</td>\n",
       "      <td>1.010000e+02</td>\n",
       "      <td>1.719600e+04</td>\n",
       "      <td>2.156000e+03</td>\n",
       "    </tr>\n",
       "  </tbody>\n",
       "</table>\n",
       "</div>"
      ],
      "text/plain": [
       "       avgOverallRating    numReviews  descriptionCharacterLength  \\\n",
       "count      1.458604e+07  1.458604e+07                1.458604e+07   \n",
       "mean       1.714418e+00  8.137872e+01                2.367596e+03   \n",
       "std        1.882961e+00  5.337754e+02                1.705653e+03   \n",
       "min        0.000000e+00  0.000000e+00                1.100000e+01   \n",
       "25%        0.000000e+00  0.000000e+00                1.167000e+03   \n",
       "50%        0.000000e+00  0.000000e+00                2.005000e+03   \n",
       "75%        3.700000e+00  6.000000e+01                3.149000e+03   \n",
       "max        5.000000e+00  1.056500e+04                5.777400e+04   \n",
       "\n",
       "       descriptionWordCount  experienceRequired  estimatedSalary  \\\n",
       "count          1.458604e+07        1.458604e+07     1.458604e+07   \n",
       "mean           3.838393e+02        2.755687e+00     4.366853e+04   \n",
       "std            2.444619e+02        1.997754e+00     2.831784e+04   \n",
       "min            2.000000e+00        0.000000e+00     0.000000e+00   \n",
       "25%            2.130000e+02        1.891619e+00     2.410000e+04   \n",
       "50%            3.330000e+02        2.122904e+00     3.350000e+04   \n",
       "75%            4.970000e+02        3.000000e+00     5.560000e+04   \n",
       "max            7.908000e+03        2.000000e+01     2.489000e+05   \n",
       "\n",
       "       supervisingJob  licenseRequiredJob    jobAgeDays        clicks  \\\n",
       "count    1.458604e+07        1.458604e+07  1.458604e+07  1.458604e+07   \n",
       "mean     4.145973e-01        5.873944e-01  3.077662e+01  2.244453e+01   \n",
       "std      7.227614e-01        7.225233e-01  2.581497e+01  3.557438e+01   \n",
       "min      0.000000e+00        0.000000e+00  0.000000e+00  0.000000e+00   \n",
       "25%      0.000000e+00        0.000000e+00  1.000000e+01  1.000000e+01   \n",
       "50%      0.000000e+00        0.000000e+00  2.300000e+01  1.800000e+01   \n",
       "75%      1.000000e+00        1.000000e+00  4.800000e+01  2.500000e+01   \n",
       "max      2.000000e+00        2.000000e+00  1.010000e+02  1.719600e+04   \n",
       "\n",
       "        localClicks  \n",
       "count  1.458604e+07  \n",
       "mean   3.709751e+00  \n",
       "std    1.047951e+01  \n",
       "min    0.000000e+00  \n",
       "25%    0.000000e+00  \n",
       "50%    1.000000e+00  \n",
       "75%    3.000000e+00  \n",
       "max    2.156000e+03  "
      ]
     },
     "execution_count": 130,
     "metadata": {},
     "output_type": "execute_result"
    }
   ],
   "source": [
    "df.describe()"
   ]
  },
  {
   "cell_type": "markdown",
   "metadata": {},
   "source": [
    "Most of the numerical variables are within the range of (mean - std x 3 , mean + std x 3) except for descriptionCharacterLength / descriptionWordCount whose outliers I examined earlier above."
   ]
  },
  {
   "cell_type": "markdown",
   "metadata": {},
   "source": [
    "## Saving Cleaned Dataset to local directory for further analysis"
   ]
  },
  {
   "cell_type": "code",
   "execution_count": 131,
   "metadata": {},
   "outputs": [],
   "source": [
    "df.to_csv('E:\\josh_data_science\\Vassar Datafest 2018\\Dataset_and_FeatureDictionary\\indeed_cleaned.csv')"
   ]
  },
  {
   "cell_type": "code",
   "execution_count": null,
   "metadata": {},
   "outputs": [],
   "source": []
  },
  {
   "cell_type": "code",
   "execution_count": null,
   "metadata": {},
   "outputs": [],
   "source": []
  },
  {
   "cell_type": "markdown",
   "metadata": {},
   "source": [
    "https://www.slideshare.net/MineCetinkayaRundel/datafest-2018-presentation-by-team-baes-bayes?ref=https://www2.stat.duke.edu/datafest/df2018/"
   ]
  },
  {
   "cell_type": "markdown",
   "metadata": {},
   "source": [
    "https://www2.stat.duke.edu/datafest/df2018/"
   ]
  },
  {
   "cell_type": "markdown",
   "metadata": {},
   "source": [
    "https://medium.com/@mandygu/winning-best-insights-for-datafest-2018-uw-ad8a7ea228b8"
   ]
  },
  {
   "cell_type": "code",
   "execution_count": null,
   "metadata": {
    "collapsed": true
   },
   "outputs": [],
   "source": []
  },
  {
   "cell_type": "code",
   "execution_count": null,
   "metadata": {
    "collapsed": true
   },
   "outputs": [],
   "source": []
  }
 ],
 "metadata": {
  "kernelspec": {
   "display_name": "Python 3",
   "language": "python",
   "name": "python3"
  },
  "language_info": {
   "codemirror_mode": {
    "name": "ipython",
    "version": 3
   },
   "file_extension": ".py",
   "mimetype": "text/x-python",
   "name": "python",
   "nbconvert_exporter": "python",
   "pygments_lexer": "ipython3",
   "version": "3.6.3"
  }
 },
 "nbformat": 4,
 "nbformat_minor": 2
}
