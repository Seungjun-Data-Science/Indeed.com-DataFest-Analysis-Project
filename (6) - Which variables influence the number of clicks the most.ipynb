{
 "cells": [
  {
   "cell_type": "markdown",
   "metadata": {},
   "source": [
    "**clicks are major sources of revenue Indeed.com, but they are also metrics of job visibility which is in the interest of companies that post jobs on Indeed.com.**"
   ]
  },
  {
   "cell_type": "markdown",
   "metadata": {},
   "source": [
    "## Import Major Libraries and Load in Data"
   ]
  },
  {
   "cell_type": "code",
   "execution_count": 1,
   "metadata": {},
   "outputs": [],
   "source": [
    "import pandas as pd\n",
    "import numpy as np\n",
    "import matplotlib.pyplot as plt\n",
    "import seaborn as sns\n",
    "%matplotlib inline"
   ]
  },
  {
   "cell_type": "code",
   "execution_count": 2,
   "metadata": {},
   "outputs": [],
   "source": [
    "df = pd.read_csv('E:\\josh_data_science\\Vassar Datafest 2018\\Dataset_and_FeatureDictionary\\indeed_cleaned.csv', encoding='cp1252')"
   ]
  },
  {
   "cell_type": "code",
   "execution_count": 3,
   "metadata": {},
   "outputs": [],
   "source": [
    "del df['Unnamed: 0']"
   ]
  },
  {
   "cell_type": "code",
   "execution_count": 4,
   "metadata": {
    "scrolled": false
   },
   "outputs": [
    {
     "data": {
      "text/html": [
       "<div>\n",
       "<style>\n",
       "    .dataframe thead tr:only-child th {\n",
       "        text-align: right;\n",
       "    }\n",
       "\n",
       "    .dataframe thead th {\n",
       "        text-align: left;\n",
       "    }\n",
       "\n",
       "    .dataframe tbody tr th {\n",
       "        vertical-align: top;\n",
       "    }\n",
       "</style>\n",
       "<table border=\"1\" class=\"dataframe\">\n",
       "  <thead>\n",
       "    <tr style=\"text-align: right;\">\n",
       "      <th></th>\n",
       "      <th>date</th>\n",
       "      <th>companyId</th>\n",
       "      <th>jobId</th>\n",
       "      <th>country</th>\n",
       "      <th>stateProvince</th>\n",
       "      <th>city</th>\n",
       "      <th>avgOverallRating</th>\n",
       "      <th>numReviews</th>\n",
       "      <th>industry</th>\n",
       "      <th>normTitle</th>\n",
       "      <th>...</th>\n",
       "      <th>experienceRequired</th>\n",
       "      <th>estimatedSalary</th>\n",
       "      <th>salaryCurrency</th>\n",
       "      <th>jobLanguage</th>\n",
       "      <th>supervisingJob</th>\n",
       "      <th>licenseRequiredJob</th>\n",
       "      <th>educationRequirements</th>\n",
       "      <th>jobAgeDays</th>\n",
       "      <th>clicks</th>\n",
       "      <th>localClicks</th>\n",
       "    </tr>\n",
       "  </thead>\n",
       "  <tbody>\n",
       "    <tr>\n",
       "      <th>0</th>\n",
       "      <td>2016-11-01</td>\n",
       "      <td>company00019</td>\n",
       "      <td>job0000020</td>\n",
       "      <td>US</td>\n",
       "      <td>CO</td>\n",
       "      <td>Palmer Lake</td>\n",
       "      <td>0.0</td>\n",
       "      <td>0.0</td>\n",
       "      <td>UNKNOWN</td>\n",
       "      <td>handy man</td>\n",
       "      <td>...</td>\n",
       "      <td>3.0</td>\n",
       "      <td>45700</td>\n",
       "      <td>USD</td>\n",
       "      <td>EN</td>\n",
       "      <td>0.0</td>\n",
       "      <td>1.0</td>\n",
       "      <td>None</td>\n",
       "      <td>99</td>\n",
       "      <td>21</td>\n",
       "      <td>2</td>\n",
       "    </tr>\n",
       "    <tr>\n",
       "      <th>1</th>\n",
       "      <td>2016-11-02</td>\n",
       "      <td>company00019</td>\n",
       "      <td>job0000020</td>\n",
       "      <td>US</td>\n",
       "      <td>CO</td>\n",
       "      <td>Palmer Lake</td>\n",
       "      <td>0.0</td>\n",
       "      <td>0.0</td>\n",
       "      <td>UNKNOWN</td>\n",
       "      <td>handy man</td>\n",
       "      <td>...</td>\n",
       "      <td>3.0</td>\n",
       "      <td>45700</td>\n",
       "      <td>USD</td>\n",
       "      <td>EN</td>\n",
       "      <td>0.0</td>\n",
       "      <td>1.0</td>\n",
       "      <td>None</td>\n",
       "      <td>100</td>\n",
       "      <td>18</td>\n",
       "      <td>2</td>\n",
       "    </tr>\n",
       "    <tr>\n",
       "      <th>2</th>\n",
       "      <td>2016-11-02</td>\n",
       "      <td>company00022</td>\n",
       "      <td>job0000023</td>\n",
       "      <td>US</td>\n",
       "      <td>PA</td>\n",
       "      <td>Pittsburgh</td>\n",
       "      <td>3.5</td>\n",
       "      <td>50.0</td>\n",
       "      <td>CONSTRUCTION</td>\n",
       "      <td>plumber</td>\n",
       "      <td>...</td>\n",
       "      <td>5.0</td>\n",
       "      <td>58900</td>\n",
       "      <td>USD</td>\n",
       "      <td>EN</td>\n",
       "      <td>0.0</td>\n",
       "      <td>1.0</td>\n",
       "      <td>None</td>\n",
       "      <td>99</td>\n",
       "      <td>19</td>\n",
       "      <td>3</td>\n",
       "    </tr>\n",
       "    <tr>\n",
       "      <th>3</th>\n",
       "      <td>2016-11-01</td>\n",
       "      <td>company00023</td>\n",
       "      <td>job0000024</td>\n",
       "      <td>US</td>\n",
       "      <td>FL</td>\n",
       "      <td>Miami</td>\n",
       "      <td>0.0</td>\n",
       "      <td>0.0</td>\n",
       "      <td>UNKNOWN</td>\n",
       "      <td>staffing coordinator</td>\n",
       "      <td>...</td>\n",
       "      <td>1.0</td>\n",
       "      <td>33800</td>\n",
       "      <td>USD</td>\n",
       "      <td>EN</td>\n",
       "      <td>1.0</td>\n",
       "      <td>1.0</td>\n",
       "      <td>High School</td>\n",
       "      <td>98</td>\n",
       "      <td>20</td>\n",
       "      <td>20</td>\n",
       "    </tr>\n",
       "    <tr>\n",
       "      <th>4</th>\n",
       "      <td>2016-11-01</td>\n",
       "      <td>company00027</td>\n",
       "      <td>job0000028</td>\n",
       "      <td>CA</td>\n",
       "      <td>ON</td>\n",
       "      <td>Innisfil</td>\n",
       "      <td>0.0</td>\n",
       "      <td>0.0</td>\n",
       "      <td>UNKNOWN</td>\n",
       "      <td>senior consultant</td>\n",
       "      <td>...</td>\n",
       "      <td>5.0</td>\n",
       "      <td>83400</td>\n",
       "      <td>CAD</td>\n",
       "      <td>EN</td>\n",
       "      <td>0.0</td>\n",
       "      <td>1.0</td>\n",
       "      <td>Higher Education</td>\n",
       "      <td>99</td>\n",
       "      <td>23</td>\n",
       "      <td>3</td>\n",
       "    </tr>\n",
       "  </tbody>\n",
       "</table>\n",
       "<p>5 rows × 23 columns</p>\n",
       "</div>"
      ],
      "text/plain": [
       "         date     companyId       jobId country stateProvince         city  \\\n",
       "0  2016-11-01  company00019  job0000020      US            CO  Palmer Lake   \n",
       "1  2016-11-02  company00019  job0000020      US            CO  Palmer Lake   \n",
       "2  2016-11-02  company00022  job0000023      US            PA   Pittsburgh   \n",
       "3  2016-11-01  company00023  job0000024      US            FL        Miami   \n",
       "4  2016-11-01  company00027  job0000028      CA            ON     Innisfil   \n",
       "\n",
       "   avgOverallRating  numReviews      industry             normTitle  \\\n",
       "0               0.0         0.0       UNKNOWN             handy man   \n",
       "1               0.0         0.0       UNKNOWN             handy man   \n",
       "2               3.5        50.0  CONSTRUCTION               plumber   \n",
       "3               0.0         0.0       UNKNOWN  staffing coordinator   \n",
       "4               0.0         0.0       UNKNOWN     senior consultant   \n",
       "\n",
       "      ...     experienceRequired  estimatedSalary  salaryCurrency  \\\n",
       "0     ...                    3.0            45700             USD   \n",
       "1     ...                    3.0            45700             USD   \n",
       "2     ...                    5.0            58900             USD   \n",
       "3     ...                    1.0            33800             USD   \n",
       "4     ...                    5.0            83400             CAD   \n",
       "\n",
       "   jobLanguage  supervisingJob licenseRequiredJob educationRequirements  \\\n",
       "0           EN             0.0                1.0                  None   \n",
       "1           EN             0.0                1.0                  None   \n",
       "2           EN             0.0                1.0                  None   \n",
       "3           EN             1.0                1.0           High School   \n",
       "4           EN             0.0                1.0      Higher Education   \n",
       "\n",
       "   jobAgeDays  clicks localClicks  \n",
       "0          99      21           2  \n",
       "1         100      18           2  \n",
       "2          99      19           3  \n",
       "3          98      20          20  \n",
       "4          99      23           3  \n",
       "\n",
       "[5 rows x 23 columns]"
      ]
     },
     "execution_count": 4,
     "metadata": {},
     "output_type": "execute_result"
    }
   ],
   "source": [
    "df.head()"
   ]
  },
  {
   "cell_type": "markdown",
   "metadata": {},
   "source": [
    "## Checking Assumptions for the count data (Y-variable)"
   ]
  },
  {
   "cell_type": "code",
   "execution_count": 5,
   "metadata": {},
   "outputs": [
    {
     "data": {
      "text/plain": [
       "26      498724\n",
       "24      495392\n",
       "25      494167\n",
       "23      490593\n",
       "22      490458\n",
       "21      486640\n",
       "20      485677\n",
       "18      480378\n",
       "19      480237\n",
       "17      474300\n",
       "16      473040\n",
       "14      466609\n",
       "15      465455\n",
       "13      455180\n",
       "12      453714\n",
       "10      442208\n",
       "11      441700\n",
       "9       425268\n",
       "8       423748\n",
       "7       400953\n",
       "6       400356\n",
       "5       366839\n",
       "4       366531\n",
       "2       314497\n",
       "3       313693\n",
       "28      286374\n",
       "27      282682\n",
       "1       216386\n",
       "0       214887\n",
       "30      190605\n",
       "         ...  \n",
       "1608         1\n",
       "1610         1\n",
       "1612         1\n",
       "1126         1\n",
       "1691         1\n",
       "1687         1\n",
       "1683         1\n",
       "1102         1\n",
       "1676         1\n",
       "1673         1\n",
       "1667         1\n",
       "1664         1\n",
       "1659         1\n",
       "1658         1\n",
       "1656         1\n",
       "1655         1\n",
       "1653         1\n",
       "1650         1\n",
       "1647         1\n",
       "1646         1\n",
       "1638         1\n",
       "1635         1\n",
       "1633         1\n",
       "9314         1\n",
       "1627         1\n",
       "1621         1\n",
       "1619         1\n",
       "1617         1\n",
       "1616         1\n",
       "8032         1\n",
       "Name: clicks, Length: 1827, dtype: int64"
      ]
     },
     "execution_count": 5,
     "metadata": {},
     "output_type": "execute_result"
    }
   ],
   "source": [
    "df.clicks.value_counts()"
   ]
  },
  {
   "cell_type": "code",
   "execution_count": 6,
   "metadata": {
    "scrolled": true
   },
   "outputs": [
    {
     "data": {
      "text/plain": [
       "0    1.473238\n",
       "Name: clicks, dtype: float64"
      ]
     },
     "execution_count": 6,
     "metadata": {},
     "output_type": "execute_result"
    }
   ],
   "source": [
    "# Proportion Percentage of 0 counts (1.4%)\n",
    "df.clicks.value_counts()[df.clicks.value_counts().index==0]*100/df.clicks.value_counts().sum()"
   ]
  },
  {
   "cell_type": "code",
   "execution_count": 7,
   "metadata": {},
   "outputs": [
    {
     "data": {
      "text/plain": [
       "68.36343732895457"
      ]
     },
     "execution_count": 7,
     "metadata": {},
     "output_type": "execute_result"
    }
   ],
   "source": [
    "# Proportion Percentage of 0 counts\n",
    "len(df.clicks.value_counts()[df.clicks.value_counts() < 30])*100/len(df.clicks.value_counts())"
   ]
  },
  {
   "cell_type": "markdown",
   "metadata": {},
   "source": [
    "70% of the entire data comprise of clicks that are below 30. This skewness to the right can be found in the boxplot below."
   ]
  },
  {
   "cell_type": "code",
   "execution_count": 8,
   "metadata": {},
   "outputs": [
    {
     "data": {
      "text/plain": [
       "<matplotlib.axes._subplots.AxesSubplot at 0x2e7fff66dd8>"
      ]
     },
     "execution_count": 8,
     "metadata": {},
     "output_type": "execute_result"
    },
    {
     "data": {
      "image/png": "[encoded data removed]",
      "text/plain": [
       "<matplotlib.figure.Figure at 0x2e7fff666d8>"
      ]
     },
     "metadata": {},
     "output_type": "display_data"
    }
   ],
   "source": [
    "# Click numbers are extremely skewed to the right\n",
    "sns.boxplot(df.clicks)"
   ]
  },
  {
   "cell_type": "code",
   "execution_count": 9,
   "metadata": {},
   "outputs": [
    {
     "name": "stdout",
     "output_type": "stream",
     "text": [
      "mean:  22.44452539706644 / variance:  1265.5367674338947\n"
     ]
    }
   ],
   "source": [
    "# Mean and Variance of Clicks\n",
    "print(\"mean: \", df.clicks.mean(),\"/\", \"variance: \", df.clicks.var())"
   ]
  },
  {
   "cell_type": "code",
   "execution_count": 10,
   "metadata": {},
   "outputs": [
    {
     "data": {
      "text/plain": [
       "Power_divergenceResult(statistic=822434958.75560188, pvalue=0.0)"
      ]
     },
     "execution_count": 10,
     "metadata": {},
     "output_type": "execute_result"
    }
   ],
   "source": [
    "# Chi Squared Model \n",
    "from scipy import stats\n",
    "stats.chisquare(df.clicks)"
   ]
  },
  {
   "cell_type": "markdown",
   "metadata": {},
   "source": [
    "There's overdispersion in the data, so negative binomial model would be better than general poisson model"
   ]
  },
  {
   "cell_type": "code",
   "execution_count": 11,
   "metadata": {},
   "outputs": [
    {
     "name": "stderr",
     "output_type": "stream",
     "text": [
      "C:\\Users\\josh\\Anaconda3\\lib\\site-packages\\statsmodels\\compat\\pandas.py:56: FutureWarning: The pandas.core.datetools module is deprecated and will be removed in a future version. Please use the pandas.tseries module instead.\n",
      "  from pandas.core import datetools\n"
     ]
    }
   ],
   "source": [
    "from sklearn import ensemble\n",
    "from sklearn.metrics import mean_squared_error\n",
    "from sklearn.model_selection import train_test_split\n",
    "from statsmodels.discrete.discrete_model import NegativeBinomial\n",
    "from sklearn.preprocessing import LabelEncoder\n",
    "from sklearn.ensemble import GradientBoostingRegressor\n",
    "from sklearn.ensemble import RandomForestRegressor\n",
    "import statsmodels.api as sm"
   ]
  },
  {
   "cell_type": "code",
   "execution_count": 12,
   "metadata": {},
   "outputs": [],
   "source": [
    "# Make a separate copy of df for machine learning models\n",
    "df_for_ml = df.copy()"
   ]
  },
  {
   "cell_type": "code",
   "execution_count": 13,
   "metadata": {
    "scrolled": true
   },
   "outputs": [],
   "source": [
    "# Encoding categorical data\n",
    "\n",
    "df_for_ml.drop(labels=['date'],axis=1,inplace=True)\n",
    "\n",
    "lb_enc = LabelEncoder()\n",
    "\n",
    "for col in ['companyId',\n",
    " 'jobId',\n",
    " 'country',\n",
    " 'stateProvince',\n",
    " 'city',\n",
    " 'industry',\n",
    " 'normTitle',\n",
    " 'normTitleCategory',\n",
    " 'salaryCurrency',\n",
    " 'jobLanguage',\n",
    " 'educationRequirements']:\n",
    "    df_for_ml[col] = lb_enc.fit_transform(df_for_ml[col])"
   ]
  },
  {
   "cell_type": "code",
   "execution_count": 14,
   "metadata": {
    "scrolled": true
   },
   "outputs": [],
   "source": [
    "# Random Sampling : 10% of data\n",
    "df_for_ml_10_perc_samp = df_for_ml.sample(frac=0.1)"
   ]
  },
  {
   "cell_type": "code",
   "execution_count": 15,
   "metadata": {},
   "outputs": [],
   "source": [
    "y = df_for_ml_10_perc_samp[['clicks']]"
   ]
  },
  {
   "cell_type": "code",
   "execution_count": 16,
   "metadata": {},
   "outputs": [],
   "source": [
    "del df_for_ml_10_perc_samp['clicks']"
   ]
  },
  {
   "cell_type": "code",
   "execution_count": 17,
   "metadata": {},
   "outputs": [],
   "source": [
    "X = df_for_ml_10_perc_samp"
   ]
  },
  {
   "cell_type": "code",
   "execution_count": 18,
   "metadata": {},
   "outputs": [],
   "source": [
    "X_train, X_test, y_train, y_test = train_test_split(X, y, test_size=0.3, random_state=42)"
   ]
  },
  {
   "cell_type": "markdown",
   "metadata": {},
   "source": [
    "##### Negative Binomial Model"
   ]
  },
  {
   "cell_type": "code",
   "execution_count": 19,
   "metadata": {},
   "outputs": [],
   "source": [
    "# # building the model\n",
    "# nb = NegativeBinomial(y_train,X_train)\n",
    "# nb_model = nb.fit(disp=False)\n",
    "\n",
    "# # testing the model\n",
    "# predVals = nb_model.predict(X_test)"
   ]
  },
  {
   "cell_type": "code",
   "execution_count": 20,
   "metadata": {
    "scrolled": true
   },
   "outputs": [],
   "source": [
    "# plt.figure(figsize=(8,5))\n",
    "# plt.plot(range(len(y_test)), y_test, 'r*-', range(len(predVals)), predVals, 'bo-')\n",
    "# plt.title('Train dataset Real vs. Predicted Values')\n",
    "# plt.legend(['Real Values', 'Predicted Values'])"
   ]
  },
  {
   "cell_type": "markdown",
   "metadata": {},
   "source": [
    "I will also use the random forest model and the gradient boost regressor to see which variables are most influential on clicks"
   ]
  },
  {
   "cell_type": "markdown",
   "metadata": {},
   "source": [
    "###### Random Forest Regressor"
   ]
  },
  {
   "cell_type": "code",
   "execution_count": 21,
   "metadata": {},
   "outputs": [
    {
     "data": {
      "text/plain": [
       "RandomForestRegressor(bootstrap=True, criterion='mse', max_depth=None,\n",
       "           max_features='auto', max_leaf_nodes=None,\n",
       "           min_impurity_decrease=0.0, min_impurity_split=None,\n",
       "           min_samples_leaf=1, min_samples_split=2,\n",
       "           min_weight_fraction_leaf=0.0, n_estimators=10, n_jobs=1,\n",
       "           oob_score=False, random_state=None, verbose=0, warm_start=False)"
      ]
     },
     "execution_count": 21,
     "metadata": {},
     "output_type": "execute_result"
    }
   ],
   "source": [
    "rfr = RandomForestRegressor()\n",
    "rfr.fit(X_train.as_matrix(), y_train.values.ravel())"
   ]
  },
  {
   "cell_type": "code",
   "execution_count": 22,
   "metadata": {},
   "outputs": [
    {
     "name": "stdout",
     "output_type": "stream",
     "text": [
      "MSE: 617.5068\n",
      "Squared Root of MSE: 24.8496847382\n"
     ]
    }
   ],
   "source": [
    "mse = mean_squared_error(y_test.values.ravel(), rfr.predict(X_test.as_matrix()))\n",
    "print(\"MSE: %.4f\" % mse)\n",
    "print(\"Squared Root of MSE:\", np.sqrt(mse))"
   ]
  },
  {
   "cell_type": "code",
   "execution_count": 24,
   "metadata": {
    "scrolled": false
   },
   "outputs": [
    {
     "data": {
      "text/plain": [
       "Text(0.5,1,'Variable Importance')"
      ]
     },
     "execution_count": 24,
     "metadata": {},
     "output_type": "execute_result"
    },
    {
     "data": {
      "image/png": "[encoded data removed]",
      "text/plain": [
       "<matplotlib.figure.Figure at 0x2e7eafab8d0>"
      ]
     },
     "metadata": {},
     "output_type": "display_data"
    }
   ],
   "source": [
    "# Plot feature importance\n",
    "feature_importance = rfr.feature_importances_\n",
    "\n",
    "# make importances relative to max importance\n",
    "feature_importance = 100.0 * (feature_importance / feature_importance.max())\n",
    "sorted_idx = np.argsort(feature_importance)\n",
    "pos = np.arange(sorted_idx.shape[0]) + .5\n",
    "\n",
    "plt.figure(figsize=(8,8))\n",
    "plt.barh(pos, feature_importance[sorted_idx], align='center')\n",
    "plt.yticks(pos, df_for_ml_10_perc_samp.columns[sorted_idx], fontsize=15)\n",
    "plt.xlabel('Relative Importance', fontsize=15)\n",
    "plt.title('Variable Importance', fontsize=15)"
   ]
  },
  {
   "cell_type": "markdown",
   "metadata": {},
   "source": [
    "##### Gradient Boosting Regressor"
   ]
  },
  {
   "cell_type": "code",
   "execution_count": 25,
   "metadata": {},
   "outputs": [],
   "source": [
    "params = {'n_estimators': 500, 'max_depth': 4, 'min_samples_split': 2,\n",
    "          'learning_rate': 0.01, 'loss': 'ls'}\n",
    "clf = ensemble.GradientBoostingRegressor(**params)"
   ]
  },
  {
   "cell_type": "code",
   "execution_count": 26,
   "metadata": {},
   "outputs": [
    {
     "data": {
      "text/plain": [
       "GradientBoostingRegressor(alpha=0.9, criterion='friedman_mse', init=None,\n",
       "             learning_rate=0.01, loss='ls', max_depth=4, max_features=None,\n",
       "             max_leaf_nodes=None, min_impurity_decrease=0.0,\n",
       "             min_impurity_split=None, min_samples_leaf=1,\n",
       "             min_samples_split=2, min_weight_fraction_leaf=0.0,\n",
       "             n_estimators=500, presort='auto', random_state=None,\n",
       "             subsample=1.0, verbose=0, warm_start=False)"
      ]
     },
     "execution_count": 26,
     "metadata": {},
     "output_type": "execute_result"
    }
   ],
   "source": [
    "clf.fit(X_train.as_matrix(), y_train.values.ravel())"
   ]
  },
  {
   "cell_type": "code",
   "execution_count": 27,
   "metadata": {},
   "outputs": [
    {
     "name": "stdout",
     "output_type": "stream",
     "text": [
      "MSE: 562.9677\n",
      "Squared Root of MSE: 23.7269402969\n"
     ]
    }
   ],
   "source": [
    "mse = mean_squared_error(y_test.values.ravel(), clf.predict(X_test.as_matrix()))\n",
    "print(\"MSE: %.4f\" % mse)\n",
    "print(\"Squared Root of MSE:\", np.sqrt(mse))"
   ]
  },
  {
   "cell_type": "code",
   "execution_count": 28,
   "metadata": {},
   "outputs": [
    {
     "data": {
      "text/plain": [
       "Text(0.5,1,'Variable Importance')"
      ]
     },
     "execution_count": 28,
     "metadata": {},
     "output_type": "execute_result"
    },
    {
     "data": {
      "image/png": "[encoded data removed]",
      "text/plain": [
       "<matplotlib.figure.Figure at 0x2e7eb069240>"
      ]
     },
     "metadata": {},
     "output_type": "display_data"
    }
   ],
   "source": [
    "# Plot feature importance\n",
    "feature_importance = clf.feature_importances_\n",
    "\n",
    "# make importances relative to max importance\n",
    "feature_importance = 100.0 * (feature_importance / feature_importance.max())\n",
    "sorted_idx = np.argsort(feature_importance)\n",
    "pos = np.arange(sorted_idx.shape[0]) + .5\n",
    "\n",
    "plt.figure(figsize=(8,8))\n",
    "plt.barh(pos, feature_importance[sorted_idx], align='center')\n",
    "plt.yticks(pos, df_for_ml_10_perc_samp.columns[sorted_idx], fontsize=15)\n",
    "plt.xlabel('Relative Importance', fontsize=15)\n",
    "plt.title('Variable Importance', fontsize=15)"
   ]
  }
 ],
 "metadata": {
  "kernelspec": {
   "display_name": "Python 3",
   "language": "python",
   "name": "python3"
  },
  "language_info": {
   "codemirror_mode": {
    "name": "ipython",
    "version": 3
   },
   "file_extension": ".py",
   "mimetype": "text/x-python",
   "name": "python",
   "nbconvert_exporter": "python",
   "pygments_lexer": "ipython3",
   "version": "3.6.6"
  }
 },
 "nbformat": 4,
 "nbformat_minor": 2
}
